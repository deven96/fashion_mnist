{
  "nbformat": 4,
  "nbformat_minor": 0,
  "metadata": {
    "colab": {
      "name": "Fashion_mnist.ipynb",
      "version": "0.3.2",
      "provenance": [],
      "include_colab_link": true
    },
    "kernelspec": {
      "name": "python3",
      "display_name": "Python 3"
    },
    "accelerator": "GPU"
  },
  "cells": [
    {
      "cell_type": "markdown",
      "metadata": {
        "id": "view-in-github",
        "colab_type": "text"
      },
      "source": [
        "<a href=\"https://colab.research.google.com/github/deven96/fashion_mnist/blob/master/Fashion_mnist.ipynb\" target=\"_parent\"><img src=\"https://colab.research.google.com/assets/colab-badge.svg\" alt=\"Open In Colab\"/></a>"
      ]
    },
    {
      "metadata": {
        "id": "M2s8jV-TD2Ze",
        "colab_type": "text"
      },
      "cell_type": "markdown",
      "source": [
        "# Imports"
      ]
    },
    {
      "metadata": {
        "id": "eKTzQamlCHJM",
        "colab_type": "code",
        "colab": {}
      },
      "cell_type": "code",
      "source": [
        "import tensorflow as tf\n",
        "\n",
        "import numpy as np\n",
        "import pandas as pd\n",
        "import matplotlib.pyplot as plt\n",
        "\n",
        "# Load the fashion-mnist pre-shuffled train data and test data\n",
        "(x_train, y_train), (x_test, y_test) = tf.keras.datasets.fashion_mnist.load_data()\n",
        "\n",
        "print(\"x_train shape:\", x_train.shape, \"y_train shape:\", y_train.shape)"
      ],
      "execution_count": 0,
      "outputs": []
    },
    {
      "metadata": {
        "id": "vLN0gC4CDtaY",
        "colab_type": "text"
      },
      "cell_type": "markdown",
      "source": [
        "# Visualizing the data"
      ]
    },
    {
      "metadata": {
        "id": "slktfaNcDyWt",
        "colab_type": "code",
        "colab": {}
      },
      "cell_type": "code",
      "source": [
        "# Print training set shape - note there are 60,000 training data of image size of 28x28, 60,000 train labels)\n",
        "print(\"x_train shape:\", x_train.shape, \"y_train shape:\", y_train.shape)\n",
        "\n",
        "# Print the number of training and test datasets\n",
        "print(x_train.shape[0], 'train set')\n",
        "print(x_test.shape[0], 'test set')\n",
        "\n",
        "# Define the text labels\n",
        "fashion_mnist_labels = [\"T-shirt/top\",  # index 0\n",
        "                        \"Trouser\",      # index 1\n",
        "                        \"Pullover\",     # index 2 \n",
        "                        \"Dress\",        # index 3 \n",
        "                        \"Coat\",         # index 4\n",
        "                        \"Sandal\",       # index 5\n",
        "                        \"Shirt\",        # index 6 \n",
        "                        \"Sneaker\",      # index 7 \n",
        "                        \"Bag\",          # index 8 \n",
        "                        \"Ankle boot\"]   # index 9\n",
        "\n",
        "# Image index, you can pick any number between 0 and 59,999\n",
        "img_index = 5\n",
        "# y_train contains the lables, ranging from 0 to 9\n",
        "label_index = y_train[img_index]\n",
        "# Print the label, for example 2 Pullover\n",
        "print (\"y = \" + str(label_index) + \" \" +(fashion_mnist_labels[label_index]))\n",
        "# # Show one of the images from the training dataset\n",
        "plt.imshow(x_train[img_index])"
      ],
      "execution_count": 0,
      "outputs": []
    },
    {
      "metadata": {
        "id": "Z_UtEsphEbWL",
        "colab_type": "text"
      },
      "cell_type": "markdown",
      "source": [
        "# Data Normalization"
      ]
    },
    {
      "metadata": {
        "id": "wTBVuww1Eea9",
        "colab_type": "code",
        "colab": {}
      },
      "cell_type": "code",
      "source": [
        "x_train = x_train.astype('float32') / 255\n",
        "x_test = x_test.astype('float32') / 255"
      ],
      "execution_count": 0,
      "outputs": []
    },
    {
      "metadata": {
        "id": "DGI0DLyjEe68",
        "colab_type": "code",
        "colab": {}
      },
      "cell_type": "code",
      "source": [
        "print(\"Number of train data - \" + str(len(x_train)))\n",
        "print(\"Number of test data - \" + str(len(x_test)))"
      ],
      "execution_count": 0,
      "outputs": []
    },
    {
      "metadata": {
        "id": "s0IgyM_oEif8",
        "colab_type": "code",
        "colab": {}
      },
      "cell_type": "code",
      "source": [
        "# Further break training data into train / validation sets (# put 5000 into validation set and keep remaining 55,000 for train)\n",
        "(x_train, x_valid) = x_train[5000:], x_train[:5000] \n",
        "(y_train, y_valid) = y_train[5000:], y_train[:5000]\n",
        "\n",
        "# Reshape input data from (28, 28) to (28, 28, 1)\n",
        "w, h = 28, 28\n",
        "x_train = x_train.reshape(x_train.shape[0], w, h, 1)\n",
        "x_valid = x_valid.reshape(x_valid.shape[0], w, h, 1)\n",
        "x_test = x_test.reshape(x_test.shape[0], w, h, 1)\n",
        "\n",
        "# One-hot encode the labels\n",
        "y_train = tf.keras.utils.to_categorical(y_train, 10)\n",
        "y_valid = tf.keras.utils.to_categorical(y_valid, 10)\n",
        "y_test = tf.keras.utils.to_categorical(y_test, 10)\n",
        "\n",
        "# Print training set shape\n",
        "print(\"x_train shape:\", x_train.shape, \"y_train shape:\", y_train.shape)\n",
        "\n",
        "# Print the number of training, validation, and test datasets\n",
        "print(x_train.shape[0], 'train set')\n",
        "print(x_valid.shape[0], 'validation set')\n",
        "print(x_test.shape[0], 'test set')"
      ],
      "execution_count": 0,
      "outputs": []
    },
    {
      "metadata": {
        "id": "rGKbh_jEFR4W",
        "colab_type": "text"
      },
      "cell_type": "markdown",
      "source": [
        "# Model Architecture\n",
        "\n",
        "A Convolutional neural network with  [CONV > MAXPOOL>DROPOUT] > [CONV > MAXPOOL>DROPOUT] > [FLATTEN > DENSE > DROPOUT] > [DENSE(softmax)] \n"
      ]
    },
    {
      "metadata": {
        "id": "6ngkgCOqFUuX",
        "colab_type": "code",
        "outputId": "674b64ea-ef01-4906-f973-b4ef76d928b8",
        "colab": {
          "base_uri": "https://localhost:8080/",
          "height": 625
        }
      },
      "cell_type": "code",
      "source": [
        "     \n",
        "\n",
        "model = tf.keras.Sequential()\n",
        "\n",
        "# Must define the input shape in the first layer of the neural network\n",
        "\n",
        "model.add(tf.keras.layers.Conv2D(filters=32, kernel_size=2, padding='same', activation='relu', input_shape=(28,28,1))) \n",
        "\n",
        "model.add(tf.keras.layers.MaxPooling2D(pool_size=2))\n",
        "\n",
        "model.add(tf.keras.layers.Dropout(0.3))\n",
        "\n",
        "model.add(tf.keras.layers.Conv2D(filters=64, kernel_size=2, padding='valid', activation='relu'))\n",
        "\n",
        "model.add(tf.keras.layers.MaxPooling2D(pool_size=2))\n",
        "\n",
        "model.add(tf.keras.layers.Dropout(0.2))\n",
        "\n",
        "model.add(tf.keras.layers.Conv2D(filters=128, kernel_size=2, padding='valid', activation='relu'))\n",
        "\n",
        "model.add(tf.keras.layers.MaxPooling2D(pool_size=2))\n",
        "\n",
        "model.add(tf.keras.layers.Dropout(0.1))\n",
        "\n",
        "model.add(tf.keras.layers.Flatten())\n",
        "\n",
        "model.add(tf.keras.layers.Dense(256, activation='relu'))\n",
        "\n",
        "model.add(tf.keras.layers.Dense(256, activation='relu'))\n",
        "\n",
        "model.add(tf.keras.layers.Dropout(0.5))\n",
        "\n",
        "model.add(tf.keras.layers.Dense(10, activation='softmax'))\n",
        "\n",
        "\n",
        "# Take a look at the model summary\n",
        "\n",
        "model.summary()"
      ],
      "execution_count": 0,
      "outputs": [
        {
          "output_type": "stream",
          "text": [
            "_________________________________________________________________\n",
            "Layer (type)                 Output Shape              Param #   \n",
            "=================================================================\n",
            "conv2d_15 (Conv2D)           (None, 28, 28, 32)        160       \n",
            "_________________________________________________________________\n",
            "max_pooling2d_15 (MaxPooling (None, 14, 14, 32)        0         \n",
            "_________________________________________________________________\n",
            "dropout_20 (Dropout)         (None, 14, 14, 32)        0         \n",
            "_________________________________________________________________\n",
            "conv2d_16 (Conv2D)           (None, 13, 13, 64)        8256      \n",
            "_________________________________________________________________\n",
            "max_pooling2d_16 (MaxPooling (None, 6, 6, 64)          0         \n",
            "_________________________________________________________________\n",
            "dropout_21 (Dropout)         (None, 6, 6, 64)          0         \n",
            "_________________________________________________________________\n",
            "conv2d_17 (Conv2D)           (None, 5, 5, 128)         32896     \n",
            "_________________________________________________________________\n",
            "max_pooling2d_17 (MaxPooling (None, 2, 2, 128)         0         \n",
            "_________________________________________________________________\n",
            "dropout_22 (Dropout)         (None, 2, 2, 128)         0         \n",
            "_________________________________________________________________\n",
            "flatten_6 (Flatten)          (None, 512)               0         \n",
            "_________________________________________________________________\n",
            "dense_13 (Dense)             (None, 256)               131328    \n",
            "_________________________________________________________________\n",
            "dense_14 (Dense)             (None, 256)               65792     \n",
            "_________________________________________________________________\n",
            "dropout_23 (Dropout)         (None, 256)               0         \n",
            "_________________________________________________________________\n",
            "dense_15 (Dense)             (None, 10)                2570      \n",
            "=================================================================\n",
            "Total params: 241,002\n",
            "Trainable params: 241,002\n",
            "Non-trainable params: 0\n",
            "_________________________________________________________________\n"
          ],
          "name": "stdout"
        }
      ]
    },
    {
      "metadata": {
        "id": "MJbhSzR1GGzB",
        "colab_type": "text"
      },
      "cell_type": "markdown",
      "source": [
        "# Compile the model"
      ]
    },
    {
      "metadata": {
        "id": "BL6X9ncyGJEU",
        "colab_type": "code",
        "colab": {}
      },
      "cell_type": "code",
      "source": [
        "model.compile(loss='categorical_crossentropy',\n",
        "             optimizer='adam',\n",
        "             metrics=['accuracy'])"
      ],
      "execution_count": 0,
      "outputs": []
    },
    {
      "metadata": {
        "id": "gtVF2f0RGeSA",
        "colab_type": "text"
      },
      "cell_type": "markdown",
      "source": [
        "# Train the model\n",
        "\n",
        "Using the .fit() API"
      ]
    },
    {
      "metadata": {
        "id": "gW3EUnrBGiVf",
        "colab_type": "code",
        "outputId": "3c2ae666-3955-4004-e59c-e1f257909b7d",
        "colab": {
          "base_uri": "https://localhost:8080/",
          "height": 2136
        }
      },
      "cell_type": "code",
      "source": [
        "from keras.callbacks import ModelCheckpoint\n",
        "\n",
        "checkpointer = ModelCheckpoint(filepath='model.weights.best.hdf5', verbose = 1, save_best_only=True)\n",
        "model.fit(x_train,\n",
        "         y_train,\n",
        "         batch_size=64,\n",
        "         epochs=30,\n",
        "         validation_data=(x_valid, y_valid),\n",
        "         callbacks=[checkpointer])"
      ],
      "execution_count": 52,
      "outputs": [
        {
          "output_type": "stream",
          "text": [
            "Train on 55000 samples, validate on 5000 samples\n",
            "Epoch 1/30\n",
            "54784/55000 [============================>.] - ETA: 0s - loss: 0.7731 - acc: 0.7084\n",
            "Epoch 00001: val_loss improved from inf to 0.48574, saving model to model.weights.best.hdf5\n",
            "55000/55000 [==============================] - 13s 238us/step - loss: 0.7725 - acc: 0.7087 - val_loss: 0.4857 - val_acc: 0.8194\n",
            "Epoch 2/30\n",
            "54912/55000 [============================>.] - ETA: 0s - loss: 0.5123 - acc: 0.8105\n",
            "Epoch 00002: val_loss improved from 0.48574 to 0.39861, saving model to model.weights.best.hdf5\n",
            "55000/55000 [==============================] - 12s 216us/step - loss: 0.5120 - acc: 0.8106 - val_loss: 0.3986 - val_acc: 0.8546\n",
            "Epoch 3/30\n",
            "54848/55000 [============================>.] - ETA: 0s - loss: 0.4430 - acc: 0.8381\n",
            "Epoch 00003: val_loss improved from 0.39861 to 0.36096, saving model to model.weights.best.hdf5\n",
            "55000/55000 [==============================] - 12s 220us/step - loss: 0.4432 - acc: 0.8380 - val_loss: 0.3610 - val_acc: 0.8660\n",
            "Epoch 4/30\n",
            "54976/55000 [============================>.] - ETA: 0s - loss: 0.4020 - acc: 0.8506\n",
            "Epoch 00004: val_loss improved from 0.36096 to 0.32110, saving model to model.weights.best.hdf5\n",
            "55000/55000 [==============================] - 12s 215us/step - loss: 0.4020 - acc: 0.8506 - val_loss: 0.3211 - val_acc: 0.8830\n",
            "Epoch 5/30\n",
            "54848/55000 [============================>.] - ETA: 0s - loss: 0.3764 - acc: 0.8615\n",
            "Epoch 00005: val_loss improved from 0.32110 to 0.29912, saving model to model.weights.best.hdf5\n",
            "55000/55000 [==============================] - 12s 213us/step - loss: 0.3763 - acc: 0.8615 - val_loss: 0.2991 - val_acc: 0.8858\n",
            "Epoch 6/30\n",
            "54784/55000 [============================>.] - ETA: 0s - loss: 0.3517 - acc: 0.8699\n",
            "Epoch 00006: val_loss did not improve from 0.29912\n",
            "55000/55000 [==============================] - 12s 214us/step - loss: 0.3518 - acc: 0.8697 - val_loss: 0.2996 - val_acc: 0.8830\n",
            "Epoch 7/30\n",
            "54976/55000 [============================>.] - ETA: 0s - loss: 0.3383 - acc: 0.8739\n",
            "Epoch 00007: val_loss improved from 0.29912 to 0.28865, saving model to model.weights.best.hdf5\n",
            "55000/55000 [==============================] - 12s 220us/step - loss: 0.3382 - acc: 0.8739 - val_loss: 0.2886 - val_acc: 0.8872\n",
            "Epoch 8/30\n",
            "54912/55000 [============================>.] - ETA: 0s - loss: 0.3217 - acc: 0.8804\n",
            "Epoch 00008: val_loss improved from 0.28865 to 0.27829, saving model to model.weights.best.hdf5\n",
            "55000/55000 [==============================] - 12s 213us/step - loss: 0.3217 - acc: 0.8804 - val_loss: 0.2783 - val_acc: 0.8924\n",
            "Epoch 9/30\n",
            "54784/55000 [============================>.] - ETA: 0s - loss: 0.3152 - acc: 0.8829\n",
            "Epoch 00009: val_loss improved from 0.27829 to 0.27651, saving model to model.weights.best.hdf5\n",
            "55000/55000 [==============================] - 12s 215us/step - loss: 0.3150 - acc: 0.8831 - val_loss: 0.2765 - val_acc: 0.8954\n",
            "Epoch 10/30\n",
            "54848/55000 [============================>.] - ETA: 0s - loss: 0.3004 - acc: 0.8890\n",
            "Epoch 00010: val_loss did not improve from 0.27651\n",
            "55000/55000 [==============================] - 12s 212us/step - loss: 0.3002 - acc: 0.8890 - val_loss: 0.2790 - val_acc: 0.8942\n",
            "Epoch 11/30\n",
            "54848/55000 [============================>.] - ETA: 0s - loss: 0.2963 - acc: 0.8894\n",
            "Epoch 00011: val_loss improved from 0.27651 to 0.25790, saving model to model.weights.best.hdf5\n",
            "55000/55000 [==============================] - 12s 215us/step - loss: 0.2962 - acc: 0.8894 - val_loss: 0.2579 - val_acc: 0.9034\n",
            "Epoch 12/30\n",
            "54784/55000 [============================>.] - ETA: 0s - loss: 0.2885 - acc: 0.8918\n",
            "Epoch 00012: val_loss improved from 0.25790 to 0.25579, saving model to model.weights.best.hdf5\n",
            "55000/55000 [==============================] - 12s 216us/step - loss: 0.2886 - acc: 0.8919 - val_loss: 0.2558 - val_acc: 0.9010\n",
            "Epoch 13/30\n",
            "54976/55000 [============================>.] - ETA: 0s - loss: 0.2855 - acc: 0.8921\n",
            "Epoch 00013: val_loss did not improve from 0.25579\n",
            "55000/55000 [==============================] - 12s 214us/step - loss: 0.2855 - acc: 0.8921 - val_loss: 0.2650 - val_acc: 0.9006\n",
            "Epoch 14/30\n",
            "54848/55000 [============================>.] - ETA: 0s - loss: 0.2750 - acc: 0.8953\n",
            "Epoch 00014: val_loss did not improve from 0.25579\n",
            "55000/55000 [==============================] - 12s 214us/step - loss: 0.2750 - acc: 0.8954 - val_loss: 0.2632 - val_acc: 0.9044\n",
            "Epoch 15/30\n",
            "54976/55000 [============================>.] - ETA: 0s - loss: 0.2708 - acc: 0.8985\n",
            "Epoch 00015: val_loss improved from 0.25579 to 0.25386, saving model to model.weights.best.hdf5\n",
            "55000/55000 [==============================] - 12s 216us/step - loss: 0.2709 - acc: 0.8985 - val_loss: 0.2539 - val_acc: 0.9058\n",
            "Epoch 16/30\n",
            "54976/55000 [============================>.] - ETA: 0s - loss: 0.2683 - acc: 0.8989\n",
            "Epoch 00016: val_loss improved from 0.25386 to 0.24996, saving model to model.weights.best.hdf5\n",
            "55000/55000 [==============================] - 12s 217us/step - loss: 0.2683 - acc: 0.8989 - val_loss: 0.2500 - val_acc: 0.9068\n",
            "Epoch 17/30\n",
            "54976/55000 [============================>.] - ETA: 0s - loss: 0.2616 - acc: 0.9006\n",
            "Epoch 00017: val_loss did not improve from 0.24996\n",
            "55000/55000 [==============================] - 12s 218us/step - loss: 0.2617 - acc: 0.9006 - val_loss: 0.2585 - val_acc: 0.9026\n",
            "Epoch 18/30\n",
            "54784/55000 [============================>.] - ETA: 0s - loss: 0.2566 - acc: 0.9027\n",
            "Epoch 00018: val_loss did not improve from 0.24996\n",
            "55000/55000 [==============================] - 12s 215us/step - loss: 0.2567 - acc: 0.9027 - val_loss: 0.2503 - val_acc: 0.9098\n",
            "Epoch 19/30\n",
            "54784/55000 [============================>.] - ETA: 0s - loss: 0.2520 - acc: 0.9038\n",
            "Epoch 00019: val_loss improved from 0.24996 to 0.24530, saving model to model.weights.best.hdf5\n",
            "55000/55000 [==============================] - 12s 216us/step - loss: 0.2521 - acc: 0.9037 - val_loss: 0.2453 - val_acc: 0.9114\n",
            "Epoch 20/30\n",
            "54784/55000 [============================>.] - ETA: 0s - loss: 0.2469 - acc: 0.9052\n",
            "Epoch 00020: val_loss improved from 0.24530 to 0.23885, saving model to model.weights.best.hdf5\n",
            "55000/55000 [==============================] - 12s 215us/step - loss: 0.2466 - acc: 0.9053 - val_loss: 0.2388 - val_acc: 0.9136\n",
            "Epoch 21/30\n",
            "54720/55000 [============================>.] - ETA: 0s - loss: 0.2451 - acc: 0.9080\n",
            "Epoch 00021: val_loss did not improve from 0.23885\n",
            "55000/55000 [==============================] - 12s 210us/step - loss: 0.2453 - acc: 0.9079 - val_loss: 0.2810 - val_acc: 0.8982\n",
            "Epoch 22/30\n",
            "54848/55000 [============================>.] - ETA: 0s - loss: 0.2420 - acc: 0.9084\n",
            "Epoch 00022: val_loss did not improve from 0.23885\n",
            "55000/55000 [==============================] - 12s 212us/step - loss: 0.2418 - acc: 0.9085 - val_loss: 0.2429 - val_acc: 0.9130\n",
            "Epoch 23/30\n",
            "54976/55000 [============================>.] - ETA: 0s - loss: 0.2404 - acc: 0.9093\n",
            "Epoch 00023: val_loss did not improve from 0.23885\n",
            "55000/55000 [==============================] - 12s 214us/step - loss: 0.2403 - acc: 0.9093 - val_loss: 0.2430 - val_acc: 0.9102\n",
            "Epoch 24/30\n",
            "54912/55000 [============================>.] - ETA: 0s - loss: 0.2359 - acc: 0.9093\n",
            "Epoch 00024: val_loss improved from 0.23885 to 0.23861, saving model to model.weights.best.hdf5\n",
            "55000/55000 [==============================] - 12s 215us/step - loss: 0.2358 - acc: 0.9093 - val_loss: 0.2386 - val_acc: 0.9174\n",
            "Epoch 25/30\n",
            "54976/55000 [============================>.] - ETA: 0s - loss: 0.2331 - acc: 0.9112\n",
            "Epoch 00025: val_loss did not improve from 0.23861\n",
            "55000/55000 [==============================] - 12s 216us/step - loss: 0.2331 - acc: 0.9112 - val_loss: 0.2519 - val_acc: 0.9086\n",
            "Epoch 26/30\n",
            "54976/55000 [============================>.] - ETA: 0s - loss: 0.2266 - acc: 0.9143\n",
            "Epoch 00026: val_loss did not improve from 0.23861\n",
            "55000/55000 [==============================] - 12s 214us/step - loss: 0.2266 - acc: 0.9143 - val_loss: 0.2408 - val_acc: 0.9178\n",
            "Epoch 27/30\n",
            "54848/55000 [============================>.] - ETA: 0s - loss: 0.2271 - acc: 0.9124\n",
            "Epoch 00027: val_loss did not improve from 0.23861\n",
            "55000/55000 [==============================] - 12s 216us/step - loss: 0.2271 - acc: 0.9125 - val_loss: 0.2533 - val_acc: 0.9100\n",
            "Epoch 28/30\n",
            "54976/55000 [============================>.] - ETA: 0s - loss: 0.2229 - acc: 0.9143\n",
            "Epoch 00028: val_loss did not improve from 0.23861\n",
            "55000/55000 [==============================] - 12s 215us/step - loss: 0.2230 - acc: 0.9143 - val_loss: 0.2464 - val_acc: 0.9122\n",
            "Epoch 29/30\n",
            "54848/55000 [============================>.] - ETA: 0s - loss: 0.2214 - acc: 0.9146\n",
            "Epoch 00029: val_loss did not improve from 0.23861\n",
            "55000/55000 [==============================] - 12s 216us/step - loss: 0.2215 - acc: 0.9146 - val_loss: 0.2625 - val_acc: 0.9076\n",
            "Epoch 30/30\n",
            "54976/55000 [============================>.] - ETA: 0s - loss: 0.2202 - acc: 0.9160\n",
            "Epoch 00030: val_loss did not improve from 0.23861\n",
            "55000/55000 [==============================] - 12s 215us/step - loss: 0.2201 - acc: 0.9160 - val_loss: 0.2494 - val_acc: 0.9122\n"
          ],
          "name": "stdout"
        },
        {
          "output_type": "execute_result",
          "data": {
            "text/plain": [
              "<tensorflow.python.keras.callbacks.History at 0x7f41745c7f60>"
            ]
          },
          "metadata": {
            "tags": []
          },
          "execution_count": 52
        }
      ]
    },
    {
      "metadata": {
        "id": "LtQuJrHFIynV",
        "colab_type": "text"
      },
      "cell_type": "markdown",
      "source": [
        "# Save trained model"
      ]
    },
    {
      "metadata": {
        "id": "CMEoDs-LCE6J",
        "colab_type": "code",
        "colab": {}
      },
      "cell_type": "code",
      "source": [
        "!pip install -U -q PyDrive\n",
        "from pydrive.auth import GoogleAuth\n",
        "from pydrive.drive import GoogleDrive\n",
        "from google.colab import auth\n",
        "from oauth2client.client import GoogleCredentials\n",
        "\n",
        "# 1. Authenticate and create the PyDrive client.\n",
        "auth.authenticate_user()\n",
        "gauth = GoogleAuth()\n",
        "gauth.credentials = GoogleCredentials.get_application_default()\n",
        "drive = GoogleDrive(gauth)\n",
        "\n"
      ],
      "execution_count": 0,
      "outputs": []
    },
    {
      "metadata": {
        "id": "ooWlvpjkGi4E",
        "colab_type": "code",
        "outputId": "dc0c593c-d392-47da-8800-f789e6d63f98",
        "colab": {
          "base_uri": "https://localhost:8080/",
          "height": 34
        }
      },
      "cell_type": "code",
      "source": [
        "#save model architecture\n",
        "model.save('fashion_mnist_trained.h5')\n",
        "model_file = drive.CreateFile({'title' : 'fashion_mnist_trained.h5'})\n",
        "model_file.SetContentFile('fashion_mnist_trained.h5')\n",
        "model_file.Upload()\n",
        "\n",
        "# download to google drive\n",
        "drive.CreateFile({'id': model_file.get('id')})"
      ],
      "execution_count": 54,
      "outputs": [
        {
          "output_type": "execute_result",
          "data": {
            "text/plain": [
              "GoogleDriveFile({'id': '1FTj1d2cYsG7JYdOMaNIuZ7Q4NJUqWT9y'})"
            ]
          },
          "metadata": {
            "tags": []
          },
          "execution_count": 54
        }
      ]
    },
    {
      "metadata": {
        "id": "9JEr6kgSwO3B",
        "colab_type": "text"
      },
      "cell_type": "markdown",
      "source": [
        "# Predict values"
      ]
    },
    {
      "metadata": {
        "id": "shSbqIrFwQ0S",
        "colab_type": "code",
        "colab": {}
      },
      "cell_type": "code",
      "source": [
        "y_hat = model.predict(x_test)\n",
        "\n",
        "# Plot a random sample of 10 test images, their predicted labels and ground truth\n",
        "figure = plt.figure(figsize=(20, 8))\n",
        "for i, index in enumerate(np.random.choice(x_test.shape[0], size=15, replace=False)):\n",
        "    ax = figure.add_subplot(3, 5, i + 1, xticks=[], yticks=[])\n",
        "    # Display each image\n",
        "    ax.imshow(np.squeeze(x_test[index]))\n",
        "    predict_index = np.argmax(y_hat[index])\n",
        "    true_index = np.argmax(y_test[index])\n",
        "    print(true_index)\n",
        "    # Set the title for each image\n",
        "    ax.set_title(\"{} ({})\".format(fashion_mnist_labels[predict_index], \n",
        "                                  fashion_mnist_labels[true_index]),\n",
        "                                  color=(\"green\" if predict_index == true_index else \"red\"))"
      ],
      "execution_count": 0,
      "outputs": []
    },
    {
      "metadata": {
        "id": "ax4as_pbwR2q",
        "colab_type": "code",
        "colab": {}
      },
      "cell_type": "code",
      "source": [
        ""
      ],
      "execution_count": 0,
      "outputs": []
    }
  ]
}