{
  "nbformat": 4,
  "nbformat_minor": 0,
  "metadata": {
    "colab": {
      "name": "Fashion_mnist.ipynb",
      "version": "0.3.2",
      "provenance": [],
      "include_colab_link": true
    },
    "kernelspec": {
      "name": "python3",
      "display_name": "Python 3"
    },
    "accelerator": "GPU"
  },
  "cells": [
    {
      "cell_type": "markdown",
      "metadata": {
        "id": "view-in-github",
        "colab_type": "text"
      },
      "source": [
        "<a href=\"https://colab.research.google.com/github/deven96/fashion_mnist/blob/master/Fashion_mnist.ipynb\" target=\"_parent\"><img src=\"https://colab.research.google.com/assets/colab-badge.svg\" alt=\"Open In Colab\"/></a>"
      ]
    },
    {
      "metadata": {
        "id": "M2s8jV-TD2Ze",
        "colab_type": "text"
      },
      "cell_type": "markdown",
      "source": [
        "# Imports"
      ]
    },
    {
      "metadata": {
        "id": "eKTzQamlCHJM",
        "colab_type": "code",
        "colab": {}
      },
      "cell_type": "code",
      "source": [
        "import tensorflow as tf\n",
        "\n",
        "import numpy as np\n",
        "import pandas as pd\n",
        "import matplotlib.pyplot as plt\n",
        "\n",
        "# Load the fashion-mnist pre-shuffled train data and test data\n",
        "(x_train, y_train), (x_test, y_test) = tf.keras.datasets.fashion_mnist.load_data()\n",
        "\n",
        "print(\"x_train shape:\", x_train.shape, \"y_train shape:\", y_train.shape)"
      ],
      "execution_count": 0,
      "outputs": []
    },
    {
      "metadata": {
        "id": "vLN0gC4CDtaY",
        "colab_type": "text"
      },
      "cell_type": "markdown",
      "source": [
        "# Visualizing the data"
      ]
    },
    {
      "metadata": {
        "id": "slktfaNcDyWt",
        "colab_type": "code",
        "colab": {}
      },
      "cell_type": "code",
      "source": [
        "# Print training set shape - note there are 60,000 training data of image size of 28x28, 60,000 train labels)\n",
        "print(\"x_train shape:\", x_train.shape, \"y_train shape:\", y_train.shape)\n",
        "\n",
        "# Print the number of training and test datasets\n",
        "print(x_train.shape[0], 'train set')\n",
        "print(x_test.shape[0], 'test set')\n",
        "\n",
        "# Define the text labels\n",
        "fashion_mnist_labels = [\"T-shirt/top\",  # index 0\n",
        "                        \"Trouser\",      # index 1\n",
        "                        \"Pullover\",     # index 2 \n",
        "                        \"Dress\",        # index 3 \n",
        "                        \"Coat\",         # index 4\n",
        "                        \"Sandal\",       # index 5\n",
        "                        \"Shirt\",        # index 6 \n",
        "                        \"Sneaker\",      # index 7 \n",
        "                        \"Bag\",          # index 8 \n",
        "                        \"Ankle boot\"]   # index 9\n",
        "\n",
        "# Image index, you can pick any number between 0 and 59,999\n",
        "img_index = 5\n",
        "# y_train contains the lables, ranging from 0 to 9\n",
        "label_index = y_train[img_index]\n",
        "# Print the label, for example 2 Pullover\n",
        "print (\"y = \" + str(label_index) + \" \" +(fashion_mnist_labels[label_index]))\n",
        "# # Show one of the images from the training dataset\n",
        "plt.imshow(x_train[img_index])"
      ],
      "execution_count": 0,
      "outputs": []
    },
    {
      "metadata": {
        "id": "Z_UtEsphEbWL",
        "colab_type": "text"
      },
      "cell_type": "markdown",
      "source": [
        "# Data Normalization"
      ]
    },
    {
      "metadata": {
        "id": "wTBVuww1Eea9",
        "colab_type": "code",
        "colab": {}
      },
      "cell_type": "code",
      "source": [
        "x_train = x_train.astype('float32') / 255\n",
        "x_test = x_test.astype('float32') / 255"
      ],
      "execution_count": 0,
      "outputs": []
    },
    {
      "metadata": {
        "id": "DGI0DLyjEe68",
        "colab_type": "code",
        "colab": {}
      },
      "cell_type": "code",
      "source": [
        "print(\"Number of train data - \" + str(len(x_train)))\n",
        "print(\"Number of test data - \" + str(len(x_test)))"
      ],
      "execution_count": 0,
      "outputs": []
    },
    {
      "metadata": {
        "id": "s0IgyM_oEif8",
        "colab_type": "code",
        "colab": {}
      },
      "cell_type": "code",
      "source": [
        "# Further break training data into train / validation sets (# put 5000 into validation set and keep remaining 55,000 for train)\n",
        "(x_train, x_valid) = x_train[5000:], x_train[:5000] \n",
        "(y_train, y_valid) = y_train[5000:], y_train[:5000]\n",
        "\n",
        "# Reshape input data from (28, 28) to (28, 28, 1)\n",
        "w, h = 28, 28\n",
        "x_train = x_train.reshape(x_train.shape[0], w, h, 1)\n",
        "x_valid = x_valid.reshape(x_valid.shape[0], w, h, 1)\n",
        "x_test = x_test.reshape(x_test.shape[0], w, h, 1)\n",
        "\n",
        "# One-hot encode the labels\n",
        "y_train = tf.keras.utils.to_categorical(y_train, 10)\n",
        "y_valid = tf.keras.utils.to_categorical(y_valid, 10)\n",
        "y_test = tf.keras.utils.to_categorical(y_test, 10)\n",
        "\n",
        "# Print training set shape\n",
        "print(\"x_train shape:\", x_train.shape, \"y_train shape:\", y_train.shape)\n",
        "\n",
        "# Print the number of training, validation, and test datasets\n",
        "print(x_train.shape[0], 'train set')\n",
        "print(x_valid.shape[0], 'validation set')\n",
        "print(x_test.shape[0], 'test set')"
      ],
      "execution_count": 0,
      "outputs": []
    },
    {
      "metadata": {
        "id": "rGKbh_jEFR4W",
        "colab_type": "text"
      },
      "cell_type": "markdown",
      "source": [
        "# Model Architecture\n",
        "\n",
        "Tweak CNN parameters to optimize"
      ]
    },
    {
      "metadata": {
        "id": "6ngkgCOqFUuX",
        "colab_type": "code",
        "outputId": "b9c6c58d-50c2-4c4c-be3f-ae53a7256f06",
        "colab": {
          "base_uri": "https://localhost:8080/",
          "height": 694
        }
      },
      "cell_type": "code",
      "source": [
        "     \n",
        "\n",
        "model = tf.keras.Sequential()\n",
        "\n",
        "# Must define the input shape in the first layer of the neural network\n",
        "\n",
        "model.add(tf.keras.layers.Conv2D(filters=64, kernel_size=2, padding='same', activation='relu', input_shape=(28,28,1))) \n",
        "\n",
        "model.add(tf.keras.layers.MaxPooling2D(pool_size=2))\n",
        "\n",
        "model.add(tf.keras.layers.Dropout(0.3))\n",
        "\n",
        "model.add(tf.keras.layers.Conv2D(filters=128, kernel_size=2, padding='same', activation='relu'))\n",
        "\n",
        "model.add(tf.keras.layers.MaxPooling2D(pool_size=2))\n",
        "\n",
        "model.add(tf.keras.layers.Dropout(0.3))\n",
        "\n",
        "model.add(tf.keras.layers.Conv2D(filters=256, kernel_size=1, padding='same', activation='relu'))\n",
        "\n",
        "model.add(tf.keras.layers.MaxPooling2D(pool_size=2))\n",
        "\n",
        "model.add(tf.keras.layers.Dropout(0.3))\n",
        "\n",
        "model.add(tf.keras.layers.Conv2D(filters=512, kernel_size=2, padding='same', activation='relu'))\n",
        "\n",
        "model.add(tf.keras.layers.MaxPooling2D(pool_size=2))\n",
        "\n",
        "model.add(tf.keras.layers.Dropout(0.3))\n",
        "\n",
        "model.add(tf.keras.layers.Flatten())\n",
        "\n",
        "model.add(tf.keras.layers.Dense(256, activation='relu'))\n",
        "\n",
        "model.add(tf.keras.layers.Dropout(0.5))\n",
        "\n",
        "model.add(tf.keras.layers.Dense(10, activation='softmax'))\n",
        "\n",
        "\n",
        "# Take a look at the model summary\n",
        "\n",
        "model.summary()"
      ],
      "execution_count": 60,
      "outputs": [
        {
          "output_type": "stream",
          "text": [
            "_________________________________________________________________\n",
            "Layer (type)                 Output Shape              Param #   \n",
            "=================================================================\n",
            "conv2d_30 (Conv2D)           (None, 28, 28, 64)        320       \n",
            "_________________________________________________________________\n",
            "max_pooling2d_30 (MaxPooling (None, 14, 14, 64)        0         \n",
            "_________________________________________________________________\n",
            "dropout_39 (Dropout)         (None, 14, 14, 64)        0         \n",
            "_________________________________________________________________\n",
            "conv2d_31 (Conv2D)           (None, 14, 14, 128)       32896     \n",
            "_________________________________________________________________\n",
            "max_pooling2d_31 (MaxPooling (None, 7, 7, 128)         0         \n",
            "_________________________________________________________________\n",
            "dropout_40 (Dropout)         (None, 7, 7, 128)         0         \n",
            "_________________________________________________________________\n",
            "conv2d_32 (Conv2D)           (None, 7, 7, 256)         33024     \n",
            "_________________________________________________________________\n",
            "max_pooling2d_32 (MaxPooling (None, 3, 3, 256)         0         \n",
            "_________________________________________________________________\n",
            "dropout_41 (Dropout)         (None, 3, 3, 256)         0         \n",
            "_________________________________________________________________\n",
            "conv2d_33 (Conv2D)           (None, 3, 3, 512)         524800    \n",
            "_________________________________________________________________\n",
            "max_pooling2d_33 (MaxPooling (None, 1, 1, 512)         0         \n",
            "_________________________________________________________________\n",
            "dropout_42 (Dropout)         (None, 1, 1, 512)         0         \n",
            "_________________________________________________________________\n",
            "flatten_10 (Flatten)         (None, 512)               0         \n",
            "_________________________________________________________________\n",
            "dense_24 (Dense)             (None, 256)               131328    \n",
            "_________________________________________________________________\n",
            "dropout_43 (Dropout)         (None, 256)               0         \n",
            "_________________________________________________________________\n",
            "dense_25 (Dense)             (None, 10)                2570      \n",
            "=================================================================\n",
            "Total params: 724,938\n",
            "Trainable params: 724,938\n",
            "Non-trainable params: 0\n",
            "_________________________________________________________________\n"
          ],
          "name": "stdout"
        }
      ]
    },
    {
      "metadata": {
        "id": "MJbhSzR1GGzB",
        "colab_type": "text"
      },
      "cell_type": "markdown",
      "source": [
        "# Compile the model"
      ]
    },
    {
      "metadata": {
        "id": "BL6X9ncyGJEU",
        "colab_type": "code",
        "colab": {}
      },
      "cell_type": "code",
      "source": [
        "model.compile(loss='categorical_crossentropy',\n",
        "             optimizer='adam',\n",
        "             metrics=['accuracy'])"
      ],
      "execution_count": 0,
      "outputs": []
    },
    {
      "metadata": {
        "id": "gtVF2f0RGeSA",
        "colab_type": "text"
      },
      "cell_type": "markdown",
      "source": [
        "# Train the model\n",
        "\n",
        "Using the .fit() API"
      ]
    },
    {
      "metadata": {
        "id": "gW3EUnrBGiVf",
        "colab_type": "code",
        "outputId": "52ad1b9c-ed18-49ca-cf20-72d466e45aff",
        "colab": {
          "base_uri": "https://localhost:8080/",
          "height": 2136
        }
      },
      "cell_type": "code",
      "source": [
        "from keras.callbacks import ModelCheckpoint\n",
        "\n",
        "checkpointer = ModelCheckpoint(filepath='model.weights.best.hdf5', verbose = 1, save_best_only=True)\n",
        "model.fit(x_train,\n",
        "         y_train,\n",
        "         batch_size=64,\n",
        "         epochs=30,\n",
        "         validation_data=(x_valid, y_valid),\n",
        "         callbacks=[checkpointer])"
      ],
      "execution_count": 62,
      "outputs": [
        {
          "output_type": "stream",
          "text": [
            "Train on 55000 samples, validate on 5000 samples\n",
            "Epoch 1/30\n",
            "54976/55000 [============================>.] - ETA: 0s - loss: 0.8014 - acc: 0.6978\n",
            "Epoch 00001: val_loss improved from inf to 0.43566, saving model to model.weights.best.hdf5\n",
            "55000/55000 [==============================] - 19s 344us/step - loss: 0.8013 - acc: 0.6979 - val_loss: 0.4357 - val_acc: 0.8392\n",
            "Epoch 2/30\n",
            "54976/55000 [============================>.] - ETA: 0s - loss: 0.4862 - acc: 0.8221\n",
            "Epoch 00002: val_loss improved from 0.43566 to 0.35636, saving model to model.weights.best.hdf5\n",
            "55000/55000 [==============================] - 16s 296us/step - loss: 0.4861 - acc: 0.8222 - val_loss: 0.3564 - val_acc: 0.8708\n",
            "Epoch 3/30\n",
            "54976/55000 [============================>.] - ETA: 0s - loss: 0.4214 - acc: 0.8474\n",
            "Epoch 00003: val_loss improved from 0.35636 to 0.31565, saving model to model.weights.best.hdf5\n",
            "55000/55000 [==============================] - 16s 296us/step - loss: 0.4214 - acc: 0.8474 - val_loss: 0.3156 - val_acc: 0.8874\n",
            "Epoch 4/30\n",
            "54976/55000 [============================>.] - ETA: 0s - loss: 0.3873 - acc: 0.8587\n",
            "Epoch 00004: val_loss did not improve from 0.31565\n",
            "55000/55000 [==============================] - 16s 297us/step - loss: 0.3872 - acc: 0.8587 - val_loss: 0.3329 - val_acc: 0.8770\n",
            "Epoch 5/30\n",
            "54976/55000 [============================>.] - ETA: 0s - loss: 0.3662 - acc: 0.8661\n",
            "Epoch 00005: val_loss improved from 0.31565 to 0.27995, saving model to model.weights.best.hdf5\n",
            "55000/55000 [==============================] - 16s 299us/step - loss: 0.3661 - acc: 0.8662 - val_loss: 0.2800 - val_acc: 0.8974\n",
            "Epoch 6/30\n",
            "54976/55000 [============================>.] - ETA: 0s - loss: 0.3484 - acc: 0.8736\n",
            "Epoch 00006: val_loss did not improve from 0.27995\n",
            "55000/55000 [==============================] - 16s 298us/step - loss: 0.3484 - acc: 0.8736 - val_loss: 0.2803 - val_acc: 0.8954\n",
            "Epoch 7/30\n",
            "54976/55000 [============================>.] - ETA: 0s - loss: 0.3334 - acc: 0.8778\n",
            "Epoch 00007: val_loss did not improve from 0.27995\n",
            "55000/55000 [==============================] - 16s 299us/step - loss: 0.3333 - acc: 0.8778 - val_loss: 0.2801 - val_acc: 0.8992\n",
            "Epoch 8/30\n",
            "54976/55000 [============================>.] - ETA: 0s - loss: 0.3272 - acc: 0.8809\n",
            "Epoch 00008: val_loss improved from 0.27995 to 0.25467, saving model to model.weights.best.hdf5\n",
            "55000/55000 [==============================] - 16s 298us/step - loss: 0.3274 - acc: 0.8808 - val_loss: 0.2547 - val_acc: 0.9078\n",
            "Epoch 9/30\n",
            "54976/55000 [============================>.] - ETA: 0s - loss: 0.3148 - acc: 0.8847\n",
            "Epoch 00009: val_loss improved from 0.25467 to 0.25389, saving model to model.weights.best.hdf5\n",
            "55000/55000 [==============================] - 16s 297us/step - loss: 0.3147 - acc: 0.8848 - val_loss: 0.2539 - val_acc: 0.9074\n",
            "Epoch 10/30\n",
            "54976/55000 [============================>.] - ETA: 0s - loss: 0.3131 - acc: 0.8848\n",
            "Epoch 00010: val_loss improved from 0.25389 to 0.24559, saving model to model.weights.best.hdf5\n",
            "55000/55000 [==============================] - 16s 297us/step - loss: 0.3130 - acc: 0.8848 - val_loss: 0.2456 - val_acc: 0.9124\n",
            "Epoch 11/30\n",
            "54912/55000 [============================>.] - ETA: 0s - loss: 0.3065 - acc: 0.8868\n",
            "Epoch 00011: val_loss did not improve from 0.24559\n",
            "55000/55000 [==============================] - 16s 299us/step - loss: 0.3069 - acc: 0.8867 - val_loss: 0.2532 - val_acc: 0.9092\n",
            "Epoch 12/30\n",
            "54976/55000 [============================>.] - ETA: 0s - loss: 0.3029 - acc: 0.8880\n",
            "Epoch 00012: val_loss improved from 0.24559 to 0.24549, saving model to model.weights.best.hdf5\n",
            "55000/55000 [==============================] - 16s 296us/step - loss: 0.3029 - acc: 0.8880 - val_loss: 0.2455 - val_acc: 0.9130\n",
            "Epoch 13/30\n",
            "54976/55000 [============================>.] - ETA: 0s - loss: 0.2955 - acc: 0.8907\n",
            "Epoch 00013: val_loss did not improve from 0.24549\n",
            "55000/55000 [==============================] - 16s 293us/step - loss: 0.2955 - acc: 0.8907 - val_loss: 0.2473 - val_acc: 0.9086\n",
            "Epoch 14/30\n",
            "54976/55000 [============================>.] - ETA: 0s - loss: 0.2905 - acc: 0.8933\n",
            "Epoch 00014: val_loss improved from 0.24549 to 0.23546, saving model to model.weights.best.hdf5\n",
            "55000/55000 [==============================] - 16s 299us/step - loss: 0.2905 - acc: 0.8933 - val_loss: 0.2355 - val_acc: 0.9162\n",
            "Epoch 15/30\n",
            "54976/55000 [============================>.] - ETA: 0s - loss: 0.2871 - acc: 0.8940\n",
            "Epoch 00015: val_loss improved from 0.23546 to 0.23343, saving model to model.weights.best.hdf5\n",
            "55000/55000 [==============================] - 17s 300us/step - loss: 0.2871 - acc: 0.8940 - val_loss: 0.2334 - val_acc: 0.9130\n",
            "Epoch 16/30\n",
            "54976/55000 [============================>.] - ETA: 0s - loss: 0.2836 - acc: 0.8958\n",
            "Epoch 00016: val_loss did not improve from 0.23343\n",
            "55000/55000 [==============================] - 16s 296us/step - loss: 0.2835 - acc: 0.8957 - val_loss: 0.2359 - val_acc: 0.9154\n",
            "Epoch 17/30\n",
            "54976/55000 [============================>.] - ETA: 0s - loss: 0.2854 - acc: 0.8950\n",
            "Epoch 00017: val_loss did not improve from 0.23343\n",
            "55000/55000 [==============================] - 16s 294us/step - loss: 0.2854 - acc: 0.8950 - val_loss: 0.2344 - val_acc: 0.9122\n",
            "Epoch 18/30\n",
            "54848/55000 [============================>.] - ETA: 0s - loss: 0.2815 - acc: 0.8966\n",
            "Epoch 00018: val_loss improved from 0.23343 to 0.22630, saving model to model.weights.best.hdf5\n",
            "55000/55000 [==============================] - 16s 296us/step - loss: 0.2813 - acc: 0.8966 - val_loss: 0.2263 - val_acc: 0.9198\n",
            "Epoch 19/30\n",
            "54912/55000 [============================>.] - ETA: 0s - loss: 0.2810 - acc: 0.8972\n",
            "Epoch 00019: val_loss did not improve from 0.22630\n",
            "55000/55000 [==============================] - 16s 295us/step - loss: 0.2810 - acc: 0.8972 - val_loss: 0.2312 - val_acc: 0.9190\n",
            "Epoch 20/30\n",
            "54976/55000 [============================>.] - ETA: 0s - loss: 0.2723 - acc: 0.8989\n",
            "Epoch 00020: val_loss did not improve from 0.22630\n",
            "55000/55000 [==============================] - 16s 293us/step - loss: 0.2723 - acc: 0.8989 - val_loss: 0.2490 - val_acc: 0.9124\n",
            "Epoch 21/30\n",
            "54976/55000 [============================>.] - ETA: 0s - loss: 0.2742 - acc: 0.8998\n",
            "Epoch 00021: val_loss did not improve from 0.22630\n",
            "55000/55000 [==============================] - 16s 295us/step - loss: 0.2741 - acc: 0.8999 - val_loss: 0.2429 - val_acc: 0.9166\n",
            "Epoch 22/30\n",
            "54976/55000 [============================>.] - ETA: 0s - loss: 0.2676 - acc: 0.9007\n",
            "Epoch 00022: val_loss did not improve from 0.22630\n",
            "55000/55000 [==============================] - 16s 295us/step - loss: 0.2676 - acc: 0.9007 - val_loss: 0.2285 - val_acc: 0.9218\n",
            "Epoch 23/30\n",
            "54976/55000 [============================>.] - ETA: 0s - loss: 0.2660 - acc: 0.9024\n",
            "Epoch 00023: val_loss improved from 0.22630 to 0.22350, saving model to model.weights.best.hdf5\n",
            "55000/55000 [==============================] - 16s 294us/step - loss: 0.2660 - acc: 0.9024 - val_loss: 0.2235 - val_acc: 0.9150\n",
            "Epoch 24/30\n",
            "54976/55000 [============================>.] - ETA: 0s - loss: 0.2654 - acc: 0.9022\n",
            "Epoch 00024: val_loss improved from 0.22350 to 0.22307, saving model to model.weights.best.hdf5\n",
            "55000/55000 [==============================] - 16s 294us/step - loss: 0.2654 - acc: 0.9022 - val_loss: 0.2231 - val_acc: 0.9186\n",
            "Epoch 25/30\n",
            "54976/55000 [============================>.] - ETA: 0s - loss: 0.2627 - acc: 0.9017\n",
            "Epoch 00025: val_loss did not improve from 0.22307\n",
            "55000/55000 [==============================] - 16s 294us/step - loss: 0.2626 - acc: 0.9017 - val_loss: 0.2318 - val_acc: 0.9134\n",
            "Epoch 26/30\n",
            "54912/55000 [============================>.] - ETA: 0s - loss: 0.2622 - acc: 0.9038\n",
            "Epoch 00026: val_loss improved from 0.22307 to 0.22180, saving model to model.weights.best.hdf5\n",
            "55000/55000 [==============================] - 16s 295us/step - loss: 0.2623 - acc: 0.9037 - val_loss: 0.2218 - val_acc: 0.9222\n",
            "Epoch 27/30\n",
            "54976/55000 [============================>.] - ETA: 0s - loss: 0.2652 - acc: 0.9026\n",
            "Epoch 00027: val_loss did not improve from 0.22180\n",
            "55000/55000 [==============================] - 16s 295us/step - loss: 0.2652 - acc: 0.9026 - val_loss: 0.2249 - val_acc: 0.9186\n",
            "Epoch 28/30\n",
            "54976/55000 [============================>.] - ETA: 0s - loss: 0.2606 - acc: 0.9039\n",
            "Epoch 00028: val_loss did not improve from 0.22180\n",
            "55000/55000 [==============================] - 16s 296us/step - loss: 0.2606 - acc: 0.9039 - val_loss: 0.2264 - val_acc: 0.9162\n",
            "Epoch 29/30\n",
            "54976/55000 [============================>.] - ETA: 0s - loss: 0.2578 - acc: 0.9041\n",
            "Epoch 00029: val_loss improved from 0.22180 to 0.22113, saving model to model.weights.best.hdf5\n",
            "55000/55000 [==============================] - 16s 300us/step - loss: 0.2578 - acc: 0.9041 - val_loss: 0.2211 - val_acc: 0.9188\n",
            "Epoch 30/30\n",
            "54976/55000 [============================>.] - ETA: 0s - loss: 0.2562 - acc: 0.9053\n",
            "Epoch 00030: val_loss did not improve from 0.22113\n",
            "55000/55000 [==============================] - 16s 297us/step - loss: 0.2562 - acc: 0.9053 - val_loss: 0.2282 - val_acc: 0.9164\n"
          ],
          "name": "stdout"
        },
        {
          "output_type": "execute_result",
          "data": {
            "text/plain": [
              "<tensorflow.python.keras.callbacks.History at 0x7f4172c00cf8>"
            ]
          },
          "metadata": {
            "tags": []
          },
          "execution_count": 62
        }
      ]
    },
    {
      "metadata": {
        "id": "LtQuJrHFIynV",
        "colab_type": "text"
      },
      "cell_type": "markdown",
      "source": [
        "# Save trained model"
      ]
    },
    {
      "metadata": {
        "id": "CMEoDs-LCE6J",
        "colab_type": "code",
        "colab": {}
      },
      "cell_type": "code",
      "source": [
        "!pip install -U -q PyDrive\n",
        "from pydrive.auth import GoogleAuth\n",
        "from pydrive.drive import GoogleDrive\n",
        "from google.colab import auth\n",
        "from oauth2client.client import GoogleCredentials\n",
        "\n",
        "# 1. Authenticate and create the PyDrive client.\n",
        "auth.authenticate_user()\n",
        "gauth = GoogleAuth()\n",
        "gauth.credentials = GoogleCredentials.get_application_default()\n",
        "drive = GoogleDrive(gauth)\n",
        "\n"
      ],
      "execution_count": 0,
      "outputs": []
    },
    {
      "metadata": {
        "id": "ooWlvpjkGi4E",
        "colab_type": "code",
        "outputId": "64f70b60-558a-4150-97ad-29cb4a085e7d",
        "colab": {
          "base_uri": "https://localhost:8080/",
          "height": 34
        }
      },
      "cell_type": "code",
      "source": [
        "#load best weight and save to drive\n",
        "model.load_weights('model.weights.best.hdf5')\n",
        "model.save('fashion_mnist_trained.h5')\n",
        "model_file = drive.CreateFile({'title' : 'fashion_mnist_trained.h5'})\n",
        "model_file.SetContentFile('fashion_mnist_trained.h5')\n",
        "model_file.Upload()\n",
        "\n",
        "# download to google drive\n",
        "drive.CreateFile({'id': model_file.get('id')})"
      ],
      "execution_count": 63,
      "outputs": [
        {
          "output_type": "execute_result",
          "data": {
            "text/plain": [
              "GoogleDriveFile({'id': '1fEId7GKFtbsTBpmzjefsWGIpK9_YCYw4'})"
            ]
          },
          "metadata": {
            "tags": []
          },
          "execution_count": 63
        }
      ]
    },
    {
      "metadata": {
        "id": "9JEr6kgSwO3B",
        "colab_type": "text"
      },
      "cell_type": "markdown",
      "source": [
        "# Predict values"
      ]
    },
    {
      "metadata": {
        "id": "shSbqIrFwQ0S",
        "colab_type": "code",
        "colab": {}
      },
      "cell_type": "code",
      "source": [
        "y_hat = model.predict(x_test)\n",
        "\n",
        "# Plot a random sample of 10 test images, their predicted labels and ground truth\n",
        "figure = plt.figure(figsize=(20, 8))\n",
        "for i, index in enumerate(np.random.choice(x_test.shape[0], size=15, replace=False)):\n",
        "    ax = figure.add_subplot(3, 5, i + 1, xticks=[], yticks=[])\n",
        "    # Display each image\n",
        "    ax.imshow(np.squeeze(x_test[index]))\n",
        "    predict_index = np.argmax(y_hat[index])\n",
        "    true_index = np.argmax(y_test[index])\n",
        "    print(true_index)\n",
        "    # Set the title for each image\n",
        "    ax.set_title(\"{} ({})\".format(fashion_mnist_labels[predict_index], \n",
        "                                  fashion_mnist_labels[true_index]),\n",
        "                                  color=(\"green\" if predict_index == true_index else \"red\"))"
      ],
      "execution_count": 0,
      "outputs": []
    },
    {
      "metadata": {
        "id": "ax4as_pbwR2q",
        "colab_type": "code",
        "colab": {}
      },
      "cell_type": "code",
      "source": [
        ""
      ],
      "execution_count": 0,
      "outputs": []
    }
  ]
}