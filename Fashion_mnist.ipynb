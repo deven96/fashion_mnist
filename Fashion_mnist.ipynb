{
  "nbformat": 4,
  "nbformat_minor": 0,
  "metadata": {
    "colab": {
      "name": "Fashion_mnist.ipynb",
      "version": "0.3.2",
      "provenance": [],
      "include_colab_link": true
    },
    "kernelspec": {
      "name": "python3",
      "display_name": "Python 3"
    },
    "accelerator": "GPU"
  },
  "cells": [
    {
      "cell_type": "markdown",
      "metadata": {
        "id": "view-in-github",
        "colab_type": "text"
      },
      "source": [
        "<a href=\"https://colab.research.google.com/github/deven96/fashion_mnist/blob/master/Fashion_mnist.ipynb\" target=\"_parent\"><img src=\"https://colab.research.google.com/assets/colab-badge.svg\" alt=\"Open In Colab\"/></a>"
      ]
    },
    {
      "metadata": {
        "id": "M2s8jV-TD2Ze",
        "colab_type": "text"
      },
      "cell_type": "markdown",
      "source": [
        "# Imports"
      ]
    },
    {
      "metadata": {
        "id": "eKTzQamlCHJM",
        "colab_type": "code",
        "colab": {
          "base_uri": "https://localhost:8080/",
          "height": 173
        },
        "outputId": "3c117854-3e07-434e-b2de-c2fbc98d9729"
      },
      "cell_type": "code",
      "source": [
        "import tensorflow as tf\n",
        "\n",
        "import numpy as np\n",
        "import pandas as pd\n",
        "import matplotlib.pyplot as plt\n",
        "\n",
        "# Load the fashion-mnist pre-shuffled train data and test data\n",
        "(x_train, y_train), (x_test, y_test) = tf.keras.datasets.fashion_mnist.load_data()\n",
        "\n",
        "print(\"x_train shape:\", x_train.shape, \"y_train shape:\", y_train.shape)"
      ],
      "execution_count": 5,
      "outputs": [
        {
          "output_type": "stream",
          "text": [
            "Downloading data from https://storage.googleapis.com/tensorflow/tf-keras-datasets/train-labels-idx1-ubyte.gz\n",
            "32768/29515 [=================================] - 0s 0us/step\n",
            "Downloading data from https://storage.googleapis.com/tensorflow/tf-keras-datasets/train-images-idx3-ubyte.gz\n",
            "26427392/26421880 [==============================] - 0s 0us/step\n",
            "Downloading data from https://storage.googleapis.com/tensorflow/tf-keras-datasets/t10k-labels-idx1-ubyte.gz\n",
            "8192/5148 [===============================================] - 0s 0us/step\n",
            "Downloading data from https://storage.googleapis.com/tensorflow/tf-keras-datasets/t10k-images-idx3-ubyte.gz\n",
            "4423680/4422102 [==============================] - 0s 0us/step\n",
            "x_train shape: (60000, 28, 28) y_train shape: (60000,)\n"
          ],
          "name": "stdout"
        }
      ]
    },
    {
      "metadata": {
        "id": "vLN0gC4CDtaY",
        "colab_type": "text"
      },
      "cell_type": "markdown",
      "source": [
        "# Visualizing the data"
      ]
    },
    {
      "metadata": {
        "id": "slktfaNcDyWt",
        "colab_type": "code",
        "colab": {
          "base_uri": "https://localhost:8080/",
          "height": 434
        },
        "outputId": "bc075dd5-162e-4c39-f9ed-7b2aa2ee6363"
      },
      "cell_type": "code",
      "source": [
        "# Print training set shape - note there are 60,000 training data of image size of 28x28, 60,000 train labels)\n",
        "print(\"x_train shape:\", x_train.shape, \"y_train shape:\", y_train.shape)\n",
        "\n",
        "# Print the number of training and test datasets\n",
        "print(x_train.shape[0], 'train set')\n",
        "print(x_test.shape[0], 'test set')\n",
        "\n",
        "# Define the text labels\n",
        "fashion_mnist_labels = [\"T-shirt/top\",  # index 0\n",
        "                        \"Trouser\",      # index 1\n",
        "                        \"Pullover\",     # index 2 \n",
        "                        \"Dress\",        # index 3 \n",
        "                        \"Coat\",         # index 4\n",
        "                        \"Sandal\",       # index 5\n",
        "                        \"Shirt\",        # index 6 \n",
        "                        \"Sneaker\",      # index 7 \n",
        "                        \"Bag\",          # index 8 \n",
        "                        \"Ankle boot\"]   # index 9\n",
        "\n",
        "# Image index, you can pick any number between 0 and 59,999\n",
        "img_index = 5\n",
        "# y_train contains the lables, ranging from 0 to 9\n",
        "label_index = y_train[img_index]\n",
        "# Print the label, for example 2 Pullover\n",
        "print (\"y = \" + str(label_index) + \" \" +(fashion_mnist_labels[label_index]))\n",
        "# # Show one of the images from the training dataset\n",
        "plt.imshow(x_train[img_index])"
      ],
      "execution_count": 6,
      "outputs": [
        {
          "output_type": "stream",
          "text": [
            "x_train shape: (60000, 28, 28) y_train shape: (60000,)\n",
            "60000 train set\n",
            "10000 test set\n",
            "y = 2 Pullover\n"
          ],
          "name": "stdout"
        },
        {
          "output_type": "execute_result",
          "data": {
            "text/plain": [
              "<matplotlib.image.AxesImage at 0x7f4180909f98>"
            ]
          },
          "metadata": {
            "tags": []
          },
          "execution_count": 6
        },
        {
          "output_type": "display_data",
          "data": {
            "image/png": "[encoded data removed]",
            "text/plain": [
              "<matplotlib.figure.Figure at 0x7f4180d98208>"
            ]
          },
          "metadata": {
            "tags": []
          }
        }
      ]
    },
    {
      "metadata": {
        "id": "Z_UtEsphEbWL",
        "colab_type": "text"
      },
      "cell_type": "markdown",
      "source": [
        "# Data Normalization"
      ]
    },
    {
      "metadata": {
        "id": "wTBVuww1Eea9",
        "colab_type": "code",
        "colab": {}
      },
      "cell_type": "code",
      "source": [
        "x_train = x_train.astype('float32') / 255\n",
        "x_test = x_test.astype('float32') / 255"
      ],
      "execution_count": 0,
      "outputs": []
    },
    {
      "metadata": {
        "id": "DGI0DLyjEe68",
        "colab_type": "code",
        "colab": {
          "base_uri": "https://localhost:8080/",
          "height": 52
        },
        "outputId": "092458c7-bc4a-479b-b656-b2420b224ad0"
      },
      "cell_type": "code",
      "source": [
        "print(\"Number of train data - \" + str(len(x_train)))\n",
        "print(\"Number of test data - \" + str(len(x_test)))"
      ],
      "execution_count": 8,
      "outputs": [
        {
          "output_type": "stream",
          "text": [
            "Number of train data - 60000\n",
            "Number of test data - 10000\n"
          ],
          "name": "stdout"
        }
      ]
    },
    {
      "metadata": {
        "id": "s0IgyM_oEif8",
        "colab_type": "code",
        "colab": {
          "base_uri": "https://localhost:8080/",
          "height": 86
        },
        "outputId": "039559d7-6dec-44aa-c123-c415cc947c49"
      },
      "cell_type": "code",
      "source": [
        "# Further break training data into train / validation sets (# put 5000 into validation set and keep remaining 55,000 for train)\n",
        "(x_train, x_valid) = x_train[5000:], x_train[:5000] \n",
        "(y_train, y_valid) = y_train[5000:], y_train[:5000]\n",
        "\n",
        "# Reshape input data from (28, 28) to (28, 28, 1)\n",
        "w, h = 28, 28\n",
        "x_train = x_train.reshape(x_train.shape[0], w, h, 1)\n",
        "x_valid = x_valid.reshape(x_valid.shape[0], w, h, 1)\n",
        "x_test = x_test.reshape(x_test.shape[0], w, h, 1)\n",
        "\n",
        "# One-hot encode the labels\n",
        "y_train = tf.keras.utils.to_categorical(y_train, 10)\n",
        "y_valid = tf.keras.utils.to_categorical(y_valid, 10)\n",
        "y_test = tf.keras.utils.to_categorical(y_test, 10)\n",
        "\n",
        "# Print training set shape\n",
        "print(\"x_train shape:\", x_train.shape, \"y_train shape:\", y_train.shape)\n",
        "\n",
        "# Print the number of training, validation, and test datasets\n",
        "print(x_train.shape[0], 'train set')\n",
        "print(x_valid.shape[0], 'validation set')\n",
        "print(x_test.shape[0], 'test set')"
      ],
      "execution_count": 9,
      "outputs": [
        {
          "output_type": "stream",
          "text": [
            "x_train shape: (55000, 28, 28, 1) y_train shape: (55000, 10)\n",
            "55000 train set\n",
            "5000 validation set\n",
            "10000 test set\n"
          ],
          "name": "stdout"
        }
      ]
    },
    {
      "metadata": {
        "id": "rGKbh_jEFR4W",
        "colab_type": "text"
      },
      "cell_type": "markdown",
      "source": [
        "# Model Architecture\n",
        "\n",
        "A Convolutional neural network\n"
      ]
    },
    {
      "metadata": {
        "id": "6ngkgCOqFUuX",
        "colab_type": "code",
        "colab": {
          "base_uri": "https://localhost:8080/",
          "height": 486
        },
        "outputId": "e1cd2e92-5941-46ce-d809-ef642b94763f"
      },
      "cell_type": "code",
      "source": [
        "     \n",
        "\n",
        "model = tf.keras.Sequential()\n",
        "\n",
        "# Must define the input shape in the first layer of the neural network\n",
        "\n",
        "model.add(tf.keras.layers.Conv2D(filters=64, kernel_size=2, padding='same', activation='relu', input_shape=(28,28,1))) \n",
        "\n",
        "model.add(tf.keras.layers.MaxPooling2D(pool_size=2))\n",
        "\n",
        "model.add(tf.keras.layers.Dropout(0.3))\n",
        "\n",
        "model.add(tf.keras.layers.Conv2D(filters=32, kernel_size=2, padding='same', activation='relu'))\n",
        "\n",
        "model.add(tf.keras.layers.MaxPooling2D(pool_size=2))\n",
        "\n",
        "model.add(tf.keras.layers.Dropout(0.3))\n",
        "\n",
        "model.add(tf.keras.layers.Flatten())\n",
        "\n",
        "model.add(tf.keras.layers.Dense(256, activation='relu'))\n",
        "\n",
        "model.add(tf.keras.layers.Dropout(0.5))\n",
        "\n",
        "model.add(tf.keras.layers.Dense(10, activation='softmax'))\n",
        "\n",
        "\n",
        "# Take a look at the model summary\n",
        "\n",
        "model.summary()"
      ],
      "execution_count": 10,
      "outputs": [
        {
          "output_type": "stream",
          "text": [
            "_________________________________________________________________\n",
            "Layer (type)                 Output Shape              Param #   \n",
            "=================================================================\n",
            "conv2d (Conv2D)              (None, 28, 28, 64)        320       \n",
            "_________________________________________________________________\n",
            "max_pooling2d (MaxPooling2D) (None, 14, 14, 64)        0         \n",
            "_________________________________________________________________\n",
            "dropout (Dropout)            (None, 14, 14, 64)        0         \n",
            "_________________________________________________________________\n",
            "conv2d_1 (Conv2D)            (None, 14, 14, 32)        8224      \n",
            "_________________________________________________________________\n",
            "max_pooling2d_1 (MaxPooling2 (None, 7, 7, 32)          0         \n",
            "_________________________________________________________________\n",
            "dropout_1 (Dropout)          (None, 7, 7, 32)          0         \n",
            "_________________________________________________________________\n",
            "flatten (Flatten)            (None, 1568)              0         \n",
            "_________________________________________________________________\n",
            "dense (Dense)                (None, 256)               401664    \n",
            "_________________________________________________________________\n",
            "dropout_2 (Dropout)          (None, 256)               0         \n",
            "_________________________________________________________________\n",
            "dense_1 (Dense)              (None, 10)                2570      \n",
            "=================================================================\n",
            "Total params: 412,778\n",
            "Trainable params: 412,778\n",
            "Non-trainable params: 0\n",
            "_________________________________________________________________\n"
          ],
          "name": "stdout"
        }
      ]
    },
    {
      "metadata": {
        "id": "MJbhSzR1GGzB",
        "colab_type": "text"
      },
      "cell_type": "markdown",
      "source": [
        "# Compile the model"
      ]
    },
    {
      "metadata": {
        "id": "BL6X9ncyGJEU",
        "colab_type": "code",
        "colab": {}
      },
      "cell_type": "code",
      "source": [
        "model.compile(loss='categorical_crossentropy',\n",
        "             optimizer='adam',\n",
        "             metrics=['accuracy'])"
      ],
      "execution_count": 0,
      "outputs": []
    },
    {
      "metadata": {
        "id": "gtVF2f0RGeSA",
        "colab_type": "text"
      },
      "cell_type": "markdown",
      "source": [
        "# Train the model\n",
        "\n",
        "Using the .fit() API"
      ]
    },
    {
      "metadata": {
        "id": "gW3EUnrBGiVf",
        "colab_type": "code",
        "colab": {
          "base_uri": "https://localhost:8080/",
          "height": 746
        },
        "outputId": "649d586b-43da-4f7c-b611-452196ed0221"
      },
      "cell_type": "code",
      "source": [
        "from keras.callbacks import ModelCheckpoint\n",
        "\n",
        "checkpointer = ModelCheckpoint(filepath='model.weights.best.hdf5', verbose = 1, save_best_only=True)\n",
        "model.fit(x_train,\n",
        "         y_train,\n",
        "         batch_size=64,\n",
        "         epochs=10,\n",
        "         validation_data=(x_valid, y_valid),\n",
        "         callbacks=[checkpointer])"
      ],
      "execution_count": 12,
      "outputs": [
        {
          "output_type": "stream",
          "text": [
            "Train on 55000 samples, validate on 5000 samples\n",
            "Epoch 1/10\n",
            "54720/55000 [============================>.] - ETA: 0s - loss: 0.6065 - acc: 0.7763\n",
            "Epoch 00001: val_loss improved from inf to 0.39001, saving model to model.weights.best.hdf5\n",
            "55000/55000 [==============================] - 14s 258us/step - loss: 0.6053 - acc: 0.7766 - val_loss: 0.3900 - val_acc: 0.8606\n",
            "Epoch 2/10\n",
            "54848/55000 [============================>.] - ETA: 0s - loss: 0.4225 - acc: 0.8472\n",
            "Epoch 00002: val_loss improved from 0.39001 to 0.32151, saving model to model.weights.best.hdf5\n",
            "55000/55000 [==============================] - 10s 180us/step - loss: 0.4224 - acc: 0.8472 - val_loss: 0.3215 - val_acc: 0.8848\n",
            "Epoch 3/10\n",
            "54976/55000 [============================>.] - ETA: 0s - loss: 0.3767 - acc: 0.8630\n",
            "Epoch 00003: val_loss improved from 0.32151 to 0.30316, saving model to model.weights.best.hdf5\n",
            "55000/55000 [==============================] - 10s 180us/step - loss: 0.3768 - acc: 0.8630 - val_loss: 0.3032 - val_acc: 0.8912\n",
            "Epoch 4/10\n",
            "54976/55000 [============================>.] - ETA: 0s - loss: 0.3503 - acc: 0.8728\n",
            "Epoch 00004: val_loss improved from 0.30316 to 0.27825, saving model to model.weights.best.hdf5\n",
            "55000/55000 [==============================] - 10s 182us/step - loss: 0.3503 - acc: 0.8729 - val_loss: 0.2783 - val_acc: 0.8980\n",
            "Epoch 5/10\n",
            "54720/55000 [============================>.] - ETA: 0s - loss: 0.3291 - acc: 0.8783\n",
            "Epoch 00005: val_loss improved from 0.27825 to 0.26618, saving model to model.weights.best.hdf5\n",
            "55000/55000 [==============================] - 10s 179us/step - loss: 0.3294 - acc: 0.8781 - val_loss: 0.2662 - val_acc: 0.9002\n",
            "Epoch 6/10\n",
            "54976/55000 [============================>.] - ETA: 0s - loss: 0.3129 - acc: 0.8854\n",
            "Epoch 00006: val_loss did not improve from 0.26618\n",
            "55000/55000 [==============================] - 10s 185us/step - loss: 0.3131 - acc: 0.8854 - val_loss: 0.2696 - val_acc: 0.8982\n",
            "Epoch 7/10\n",
            "54976/55000 [============================>.] - ETA: 0s - loss: 0.2988 - acc: 0.8890\n",
            "Epoch 00007: val_loss improved from 0.26618 to 0.25274, saving model to model.weights.best.hdf5\n",
            "55000/55000 [==============================] - 10s 188us/step - loss: 0.2988 - acc: 0.8890 - val_loss: 0.2527 - val_acc: 0.9046\n",
            "Epoch 8/10\n",
            "54976/55000 [============================>.] - ETA: 0s - loss: 0.2881 - acc: 0.8929\n",
            "Epoch 00008: val_loss did not improve from 0.25274\n",
            "55000/55000 [==============================] - 10s 188us/step - loss: 0.2881 - acc: 0.8928 - val_loss: 0.2572 - val_acc: 0.9004\n",
            "Epoch 9/10\n",
            "54784/55000 [============================>.] - ETA: 0s - loss: 0.2784 - acc: 0.8969\n",
            "Epoch 00009: val_loss improved from 0.25274 to 0.23254, saving model to model.weights.best.hdf5\n",
            "55000/55000 [==============================] - 10s 183us/step - loss: 0.2781 - acc: 0.8970 - val_loss: 0.2325 - val_acc: 0.9114\n",
            "Epoch 10/10\n",
            "54784/55000 [============================>.] - ETA: 0s - loss: 0.2701 - acc: 0.8999\n",
            "Epoch 00010: val_loss did not improve from 0.23254\n",
            "55000/55000 [==============================] - 10s 184us/step - loss: 0.2701 - acc: 0.8998 - val_loss: 0.2371 - val_acc: 0.9118\n"
          ],
          "name": "stdout"
        },
        {
          "output_type": "execute_result",
          "data": {
            "text/plain": [
              "<tensorflow.python.keras.callbacks.History at 0x7f417d5e4198>"
            ]
          },
          "metadata": {
            "tags": []
          },
          "execution_count": 12
        }
      ]
    },
    {
      "metadata": {
        "id": "LtQuJrHFIynV",
        "colab_type": "text"
      },
      "cell_type": "markdown",
      "source": [
        "# Save trained model"
      ]
    },
    {
      "metadata": {
        "id": "ooWlvpjkGi4E",
        "colab_type": "code",
        "colab": {
          "base_uri": "https://localhost:8080/",
          "height": 34
        },
        "outputId": "ae6efaa9-cc4c-41c7-f6a7-c60633cc1d3c"
      },
      "cell_type": "code",
      "source": [
        "#save model architecture\n",
        "model.save('fashion_mnist_trained.h5')\n",
        "model_file = drive.CreateFile({'title' : 'fashion_mnist_trained.h5'})\n",
        "model_file.SetContentFile('fashion_mnist_trained.h5')\n",
        "model_file.Upload()\n",
        "\n",
        "# download to google drive\n",
        "drive.CreateFile({'id': model_file.get('id')})"
      ],
      "execution_count": 19,
      "outputs": [
        {
          "output_type": "execute_result",
          "data": {
            "text/plain": [
              "GoogleDriveFile({'id': '11VZ4ZCL648WbbBmVdNRGdf80HZ4UWtTV'})"
            ]
          },
          "metadata": {
            "tags": []
          },
          "execution_count": 19
        }
      ]
    },
    {
      "metadata": {
        "id": "IQAl_bBiMv0n",
        "colab_type": "code",
        "colab": {
          "base_uri": "https://localhost:8080/",
          "height": 34
        },
        "outputId": "5ce5c781-6a49-49fe-c07b-cbb78d445a5a"
      },
      "cell_type": "code",
      "source": [
        "#save model weights\n",
        "model.save_weights('fashion_mnist_weights.h5')\n",
        "weights_file = drive.CreateFile({'title' : 'fashion_mnist_weights.h5'})\n",
        "weights_file.SetContentFile('fashion_mnist_weights.h5')\n",
        "weights_file.Upload()\n",
        "drive.CreateFile({'id': weights_file.get('id')})"
      ],
      "execution_count": 21,
      "outputs": [
        {
          "output_type": "execute_result",
          "data": {
            "text/plain": [
              "GoogleDriveFile({'id': '11I-TOIO0nuOnvl59OvDtaOHX6jj6A2zb'})"
            ]
          },
          "metadata": {
            "tags": []
          },
          "execution_count": 21
        }
      ]
    },
    {
      "metadata": {
        "id": "NPxa-n5CNL3Y",
        "colab_type": "code",
        "colab": {}
      },
      "cell_type": "code",
      "source": [
        ""
      ],
      "execution_count": 0,
      "outputs": []
    }
  ]
}