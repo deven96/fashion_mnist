{
  "nbformat": 4,
  "nbformat_minor": 0,
  "metadata": {
    "colab": {
      "name": "Fashion_mnist.ipynb",
      "version": "0.3.2",
      "provenance": [],
      "include_colab_link": true
    },
    "kernelspec": {
      "name": "python3",
      "display_name": "Python 3"
    },
    "accelerator": "GPU"
  },
  "cells": [
    {
      "cell_type": "markdown",
      "metadata": {
        "id": "view-in-github",
        "colab_type": "text"
      },
      "source": [
        "<a href=\"https://colab.research.google.com/github/deven96/fashion_mnist/blob/master/Fashion_mnist.ipynb\" target=\"_parent\"><img src=\"https://colab.research.google.com/assets/colab-badge.svg\" alt=\"Open In Colab\"/></a>"
      ]
    },
    {
      "metadata": {
        "id": "M2s8jV-TD2Ze",
        "colab_type": "text"
      },
      "cell_type": "markdown",
      "source": [
        "# Imports"
      ]
    },
    {
      "metadata": {
        "id": "eKTzQamlCHJM",
        "colab_type": "code",
        "outputId": "f0955e21-a03a-4ed4-c91b-cfbb434e2f5d",
        "colab": {
          "base_uri": "https://localhost:8080/",
          "height": 52
        }
      },
      "cell_type": "code",
      "source": [
        "import tensorflow as tf\n",
        "\n",
        "import numpy as np\n",
        "import pandas as pd\n",
        "from keras.utils import plot_model\n",
        "from keras.utils.vis_utils import model_to_dot\n",
        "from IPython.display import SVG\n",
        "import matplotlib.pyplot as plt\n",
        "\n",
        "# Load the fashion-mnist pre-shuffled train data and test data\n",
        "(x_train, y_train), (x_test, y_test) = tf.keras.datasets.fashion_mnist.load_data()\n",
        "\n",
        "print(\"x_train shape:\", x_train.shape, \"y_train shape:\", y_train.shape)"
      ],
      "execution_count": 1,
      "outputs": [
        {
          "output_type": "stream",
          "text": [
            "Using TensorFlow backend.\n"
          ],
          "name": "stderr"
        },
        {
          "output_type": "stream",
          "text": [
            "x_train shape: (60000, 28, 28) y_train shape: (60000,)\n"
          ],
          "name": "stdout"
        }
      ]
    },
    {
      "metadata": {
        "id": "vLN0gC4CDtaY",
        "colab_type": "text"
      },
      "cell_type": "markdown",
      "source": [
        "# Visualizing the data"
      ]
    },
    {
      "metadata": {
        "id": "slktfaNcDyWt",
        "colab_type": "code",
        "outputId": "19a5f7f3-30fe-4815-b919-d569f04a1d81",
        "colab": {
          "base_uri": "https://localhost:8080/",
          "height": 434
        }
      },
      "cell_type": "code",
      "source": [
        "# Print training set shape - note there are 60,000 training data of image size of 28x28, 60,000 train labels)\n",
        "print(\"x_train shape:\", x_train.shape, \"y_train shape:\", y_train.shape)\n",
        "\n",
        "# Print the number of training and test datasets\n",
        "print(x_train.shape[0], 'train set')\n",
        "print(x_test.shape[0], 'test set')\n",
        "\n",
        "# Define the text labels\n",
        "fashion_mnist_labels = [\"T-shirt/top\",  # index 0\n",
        "                        \"Trouser\",      # index 1\n",
        "                        \"Pullover\",     # index 2 \n",
        "                        \"Dress\",        # index 3 \n",
        "                        \"Coat\",         # index 4\n",
        "                        \"Sandal\",       # index 5\n",
        "                        \"Shirt\",        # index 6 \n",
        "                        \"Sneaker\",      # index 7 \n",
        "                        \"Bag\",          # index 8 \n",
        "                        \"Ankle boot\"]   # index 9\n",
        "\n",
        "# Image index, you can pick any number between 0 and 59,999\n",
        "img_index = 90\n",
        "# y_train contains the lables, ranging from 0 to 9\n",
        "label_index = y_train[img_index]\n",
        "# Print the label, for example 2 Pullover\n",
        "print (\"y = \" + str(label_index) + \" \" +(fashion_mnist_labels[label_index]))\n",
        "# # Show one of the images from the training dataset\n",
        "plt.imshow(x_train[img_index])"
      ],
      "execution_count": 2,
      "outputs": [
        {
          "output_type": "stream",
          "text": [
            "x_train shape: (60000, 28, 28) y_train shape: (60000,)\n",
            "60000 train set\n",
            "10000 test set\n",
            "y = 9 Ankle boot\n"
          ],
          "name": "stdout"
        },
        {
          "output_type": "execute_result",
          "data": {
            "text/plain": [
              "<matplotlib.image.AxesImage at 0x7fb4c539f208>"
            ]
          },
          "metadata": {
            "tags": []
          },
          "execution_count": 2
        },
        {
          "output_type": "display_data",
          "data": {
            "image/png": "[encoded data removed]",
            "text/plain": [
              "<matplotlib.figure.Figure at 0x7fb4c5433a90>"
            ]
          },
          "metadata": {
            "tags": []
          }
        }
      ]
    },
    {
      "metadata": {
        "id": "Z_UtEsphEbWL",
        "colab_type": "text"
      },
      "cell_type": "markdown",
      "source": [
        "# Data Normalization"
      ]
    },
    {
      "metadata": {
        "id": "wTBVuww1Eea9",
        "colab_type": "code",
        "colab": {}
      },
      "cell_type": "code",
      "source": [
        "x_train = x_train.astype('float32') / 255\n",
        "x_test = x_test.astype('float32') / 255"
      ],
      "execution_count": 0,
      "outputs": []
    },
    {
      "metadata": {
        "id": "DGI0DLyjEe68",
        "colab_type": "code",
        "outputId": "d2cf0d5b-ee16-46c3-e40e-5cf8f861bc2d",
        "colab": {
          "base_uri": "https://localhost:8080/",
          "height": 52
        }
      },
      "cell_type": "code",
      "source": [
        "print(\"Number of train data - \" + str(len(x_train)))\n",
        "print(\"Number of test data - \" + str(len(x_test)))"
      ],
      "execution_count": 4,
      "outputs": [
        {
          "output_type": "stream",
          "text": [
            "Number of train data - 60000\n",
            "Number of test data - 10000\n"
          ],
          "name": "stdout"
        }
      ]
    },
    {
      "metadata": {
        "id": "s0IgyM_oEif8",
        "colab_type": "code",
        "outputId": "7821b5c3-8835-442e-fb85-e99efc0337c0",
        "colab": {
          "base_uri": "https://localhost:8080/",
          "height": 86
        }
      },
      "cell_type": "code",
      "source": [
        "# Further break training data into train / validation sets (# put 5000 into validation set and keep remaining 55,000 for train)\n",
        "(x_train, x_valid) = x_train[5000:], x_train[:5000] \n",
        "(y_train, y_valid) = y_train[5000:], y_train[:5000]\n",
        "\n",
        "# Reshape input data from (28, 28) to (28, 28, 1)\n",
        "w, h = 28, 28\n",
        "x_train = x_train.reshape(x_train.shape[0], w, h, 1)\n",
        "x_valid = x_valid.reshape(x_valid.shape[0], w, h, 1)\n",
        "x_test = x_test.reshape(x_test.shape[0], w, h, 1)\n",
        "\n",
        "# One-hot encode the labels\n",
        "y_train = tf.keras.utils.to_categorical(y_train, 10)\n",
        "y_valid = tf.keras.utils.to_categorical(y_valid, 10)\n",
        "y_test = tf.keras.utils.to_categorical(y_test, 10)\n",
        "\n",
        "# Print training set shape\n",
        "print(\"x_train shape:\", x_train.shape, \"y_train shape:\", y_train.shape)\n",
        "\n",
        "# Print the number of training, validation, and test datasets\n",
        "print(x_train.shape[0], 'train set')\n",
        "print(x_valid.shape[0], 'validation set')\n",
        "print(x_test.shape[0], 'test set')"
      ],
      "execution_count": 5,
      "outputs": [
        {
          "output_type": "stream",
          "text": [
            "x_train shape: (55000, 28, 28, 1) y_train shape: (55000, 10)\n",
            "55000 train set\n",
            "5000 validation set\n",
            "10000 test set\n"
          ],
          "name": "stdout"
        }
      ]
    },
    {
      "metadata": {
        "id": "rGKbh_jEFR4W",
        "colab_type": "text"
      },
      "cell_type": "markdown",
      "source": [
        "# Model Architecture\n",
        "\n",
        "Tweak CNN parameters to optimize"
      ]
    },
    {
      "metadata": {
        "id": "6ngkgCOqFUuX",
        "colab_type": "code",
        "outputId": "0dfc7e90-10c1-4b69-d7fa-58f3a4720b00",
        "colab": {
          "base_uri": "https://localhost:8080/",
          "height": 642
        }
      },
      "cell_type": "code",
      "source": [
        "     \n",
        "\n",
        "\n",
        "# Model\n",
        "inputs = tf.keras.layers.Input(shape=(28, 28, 1), name=\"input\")\n",
        "# Add convolution 2D\n",
        "x = tf.keras.layers.Conv2D(32, kernel_size=(3, 3),\n",
        "                 activation='relu',\n",
        "                 padding=\"same\",\n",
        "                 kernel_initializer='he_normal',\n",
        "                 name=\"conv_1\")(inputs)\n",
        "skip = tf.keras.layers.Add(name='skip_1')([inputs, x])\n",
        "x = tf.keras.layers.MaxPooling2D((2, 2), name=\"maxpool_1\")(skip)\n",
        "x = tf.keras.layers.Dropout(0.25, name=\"dropout_1\")(x)\n",
        "x = tf.keras.layers.Conv2D(64, \n",
        "                 kernel_size=(3, 3), \n",
        "                 activation='relu',\n",
        "                 name=\"conv_2\")(x)\n",
        "x = tf.keras.layers.MaxPooling2D((2, 2), name=\"maxpool_2\")(x)\n",
        "x = tf.keras.layers.Dropout(0.25, name=\"dropout_2\")(x)\n",
        "x = tf.keras.layers.Conv2D(128,\n",
        "                 kernel_size=(3, 3), \n",
        "                 activation='relu',\n",
        "                 name=\"conv_3\")(x)\n",
        "x = tf.keras.layers.Dropout(0.4, name=\"dropout_3\")(x)\n",
        "x = tf.keras.layers.Flatten(name=\"vector_3\")(x)\n",
        "x = tf.keras.layers.Dense(128, activation='relu', name=\"fc_4\")(x)\n",
        "x = tf.keras.layers.Dropout(0.3, name=\"dropout_4\")(x)\n",
        "predictions = tf.keras.layers.Dense(10, activation='softmax', name='fc_output')(x)\n",
        "\n",
        "# Take a look at the model summary\n",
        "\n",
        "model = tf.keras.models.Model(inputs=inputs, outputs=predictions)\n",
        "model.summary()"
      ],
      "execution_count": 6,
      "outputs": [
        {
          "output_type": "stream",
          "text": [
            "__________________________________________________________________________________________________\n",
            "Layer (type)                    Output Shape         Param #     Connected to                     \n",
            "==================================================================================================\n",
            "input (InputLayer)              (None, 28, 28, 1)    0                                            \n",
            "__________________________________________________________________________________________________\n",
            "conv_1 (Conv2D)                 (None, 28, 28, 32)   320         input[0][0]                      \n",
            "__________________________________________________________________________________________________\n",
            "skip_1 (Add)                    (None, 28, 28, 32)   0           input[0][0]                      \n",
            "                                                                 conv_1[0][0]                     \n",
            "__________________________________________________________________________________________________\n",
            "maxpool_1 (MaxPooling2D)        (None, 14, 14, 32)   0           skip_1[0][0]                     \n",
            "__________________________________________________________________________________________________\n",
            "dropout_1 (Dropout)             (None, 14, 14, 32)   0           maxpool_1[0][0]                  \n",
            "__________________________________________________________________________________________________\n",
            "conv_2 (Conv2D)                 (None, 12, 12, 64)   18496       dropout_1[0][0]                  \n",
            "__________________________________________________________________________________________________\n",
            "maxpool_2 (MaxPooling2D)        (None, 6, 6, 64)     0           conv_2[0][0]                     \n",
            "__________________________________________________________________________________________________\n",
            "dropout_2 (Dropout)             (None, 6, 6, 64)     0           maxpool_2[0][0]                  \n",
            "__________________________________________________________________________________________________\n",
            "conv_3 (Conv2D)                 (None, 4, 4, 128)    73856       dropout_2[0][0]                  \n",
            "__________________________________________________________________________________________________\n",
            "dropout_3 (Dropout)             (None, 4, 4, 128)    0           conv_3[0][0]                     \n",
            "__________________________________________________________________________________________________\n",
            "vector_3 (Flatten)              (None, 2048)         0           dropout_3[0][0]                  \n",
            "__________________________________________________________________________________________________\n",
            "fc_4 (Dense)                    (None, 128)          262272      vector_3[0][0]                   \n",
            "__________________________________________________________________________________________________\n",
            "dropout_4 (Dropout)             (None, 128)          0           fc_4[0][0]                       \n",
            "__________________________________________________________________________________________________\n",
            "fc_output (Dense)               (None, 10)           1290        dropout_4[0][0]                  \n",
            "==================================================================================================\n",
            "Total params: 356,234\n",
            "Trainable params: 356,234\n",
            "Non-trainable params: 0\n",
            "__________________________________________________________________________________________________\n"
          ],
          "name": "stdout"
        }
      ]
    },
    {
      "metadata": {
        "id": "K4OC2NMMYIVY",
        "colab_type": "text"
      },
      "cell_type": "markdown",
      "source": [
        "# Plot the model"
      ]
    },
    {
      "metadata": {
        "id": "ohOcQ8LZYMPC",
        "colab_type": "code",
        "outputId": "18605fe2-cfce-43eb-fabc-2071935f0966",
        "colab": {
          "base_uri": "https://localhost:8080/",
          "height": 1347
        }
      },
      "cell_type": "code",
      "source": [
        "plot_model(model, to_file='model.png')\n",
        "SVG(model_to_dot(model).create(prog='dot', format='svg'))"
      ],
      "execution_count": 9,
      "outputs": [
        {
          "output_type": "execute_result",
          "data": {
            "text/plain": [
              "<IPython.core.display.SVG object>"
            ],
            "image/svg+xml": "<svg height=\"994pt\" viewBox=\"0.00 0.00 200.00 994.00\" width=\"200pt\" xmlns=\"http://www.w3.org/2000/svg\" xmlns:xlink=\"http://www.w3.org/1999/xlink\">\n<g class=\"graph\" id=\"graph0\" transform=\"scale(1 1) rotate(0) translate(4 990)\">\n<title>G</title>\n<polygon fill=\"#ffffff\" points=\"-4,4 -4,-990 196,-990 196,4 -4,4\" stroke=\"transparent\"/>\n<!-- 140414337233416 -->\n<g class=\"node\" id=\"node1\">\n<title>140414337233416</title>\n<polygon fill=\"none\" points=\"43,-949.5 43,-985.5 161,-985.5 161,-949.5 43,-949.5\" stroke=\"#000000\"/>\n<text fill=\"#000000\" font-family=\"Times,serif\" font-size=\"14.00\" text-anchor=\"middle\" x=\"102\" y=\"-963.8\">input: InputLayer</text>\n</g>\n<!-- 140414337233360 -->\n<g class=\"node\" id=\"node2\">\n<title>140414337233360</title>\n<polygon fill=\"none\" points=\"0,-876.5 0,-912.5 118,-912.5 118,-876.5 0,-876.5\" stroke=\"#000000\"/>\n<text fill=\"#000000\" font-family=\"Times,serif\" font-size=\"14.00\" text-anchor=\"middle\" x=\"59\" y=\"-890.8\">conv_1: Conv2D</text>\n</g>\n<!-- 140414337233416&#45;&gt;140414337233360 -->\n<g class=\"edge\" id=\"edge1\">\n<title>140414337233416-&gt;140414337233360</title>\n<path d=\"M91.3708,-949.4551C86.3575,-940.9441 80.2741,-930.6165 74.7403,-921.2219\" fill=\"none\" stroke=\"#000000\"/>\n<polygon fill=\"#000000\" points=\"77.7471,-919.4303 69.656,-912.5904 71.7157,-922.9831 77.7471,-919.4303\" stroke=\"#000000\"/>\n</g>\n<!-- 140414380168416 -->\n<g class=\"node\" id=\"node3\">\n<title>140414380168416</title>\n<polygon fill=\"none\" points=\"58,-803.5 58,-839.5 146,-839.5 146,-803.5 58,-803.5\" stroke=\"#000000\"/>\n<text fill=\"#000000\" font-family=\"Times,serif\" font-size=\"14.00\" text-anchor=\"middle\" x=\"102\" y=\"-817.8\">skip_1: Add</text>\n</g>\n<!-- 140414337233416&#45;&gt;140414380168416 -->\n<g class=\"edge\" id=\"edge2\">\n<title>140414337233416-&gt;140414380168416</title>\n<path d=\"M112.8888,-949.0316C118.294,-938.7917 124.2456,-925.6108 127,-913 130.509,-896.9343 130.509,-892.0657 127,-876 124.9987,-866.8374 121.3097,-857.374 117.3688,-848.9562\" fill=\"none\" stroke=\"#000000\"/>\n<polygon fill=\"#000000\" points=\"120.4823,-847.3569 112.8888,-839.9684 114.2175,-850.4796 120.4823,-847.3569\" stroke=\"#000000\"/>\n</g>\n<!-- 140414337233360&#45;&gt;140414380168416 -->\n<g class=\"edge\" id=\"edge3\">\n<title>140414337233360-&gt;140414380168416</title>\n<path d=\"M69.6292,-876.4551C74.6425,-867.9441 80.7259,-857.6165 86.2597,-848.2219\" fill=\"none\" stroke=\"#000000\"/>\n<polygon fill=\"#000000\" points=\"89.2843,-849.9831 91.344,-839.5904 83.2529,-846.4303 89.2843,-849.9831\" stroke=\"#000000\"/>\n</g>\n<!-- 140414337234312 -->\n<g class=\"node\" id=\"node4\">\n<title>140414337234312</title>\n<polygon fill=\"none\" points=\"12,-730.5 12,-766.5 192,-766.5 192,-730.5 12,-730.5\" stroke=\"#000000\"/>\n<text fill=\"#000000\" font-family=\"Times,serif\" font-size=\"14.00\" text-anchor=\"middle\" x=\"102\" y=\"-744.8\">maxpool_1: MaxPooling2D</text>\n</g>\n<!-- 140414380168416&#45;&gt;140414337234312 -->\n<g class=\"edge\" id=\"edge4\">\n<title>140414380168416-&gt;140414337234312</title>\n<path d=\"M102,-803.4551C102,-795.3828 102,-785.6764 102,-776.6817\" fill=\"none\" stroke=\"#000000\"/>\n<polygon fill=\"#000000\" points=\"105.5001,-776.5903 102,-766.5904 98.5001,-776.5904 105.5001,-776.5903\" stroke=\"#000000\"/>\n</g>\n<!-- 140414337234816 -->\n<g class=\"node\" id=\"node5\">\n<title>140414337234816</title>\n<polygon fill=\"none\" points=\"35,-657.5 35,-693.5 169,-693.5 169,-657.5 35,-657.5\" stroke=\"#000000\"/>\n<text fill=\"#000000\" font-family=\"Times,serif\" font-size=\"14.00\" text-anchor=\"middle\" x=\"102\" y=\"-671.8\">dropout_1: Dropout</text>\n</g>\n<!-- 140414337234312&#45;&gt;140414337234816 -->\n<g class=\"edge\" id=\"edge5\">\n<title>140414337234312-&gt;140414337234816</title>\n<path d=\"M102,-730.4551C102,-722.3828 102,-712.6764 102,-703.6817\" fill=\"none\" stroke=\"#000000\"/>\n<polygon fill=\"#000000\" points=\"105.5001,-703.5903 102,-693.5904 98.5001,-703.5904 105.5001,-703.5903\" stroke=\"#000000\"/>\n</g>\n<!-- 140414337234592 -->\n<g class=\"node\" id=\"node6\">\n<title>140414337234592</title>\n<polygon fill=\"none\" points=\"43,-584.5 43,-620.5 161,-620.5 161,-584.5 43,-584.5\" stroke=\"#000000\"/>\n<text fill=\"#000000\" font-family=\"Times,serif\" font-size=\"14.00\" text-anchor=\"middle\" x=\"102\" y=\"-598.8\">conv_2: Conv2D</text>\n</g>\n<!-- 140414337234816&#45;&gt;140414337234592 -->\n<g class=\"edge\" id=\"edge6\">\n<title>140414337234816-&gt;140414337234592</title>\n<path d=\"M102,-657.4551C102,-649.3828 102,-639.6764 102,-630.6817\" fill=\"none\" stroke=\"#000000\"/>\n<polygon fill=\"#000000\" points=\"105.5001,-630.5903 102,-620.5904 98.5001,-630.5904 105.5001,-630.5903\" stroke=\"#000000\"/>\n</g>\n<!-- 140414337234536 -->\n<g class=\"node\" id=\"node7\">\n<title>140414337234536</title>\n<polygon fill=\"none\" points=\"12,-511.5 12,-547.5 192,-547.5 192,-511.5 12,-511.5\" stroke=\"#000000\"/>\n<text fill=\"#000000\" font-family=\"Times,serif\" font-size=\"14.00\" text-anchor=\"middle\" x=\"102\" y=\"-525.8\">maxpool_2: MaxPooling2D</text>\n</g>\n<!-- 140414337234592&#45;&gt;140414337234536 -->\n<g class=\"edge\" id=\"edge7\">\n<title>140414337234592-&gt;140414337234536</title>\n<path d=\"M102,-584.4551C102,-576.3828 102,-566.6764 102,-557.6817\" fill=\"none\" stroke=\"#000000\"/>\n<polygon fill=\"#000000\" points=\"105.5001,-557.5903 102,-547.5904 98.5001,-557.5904 105.5001,-557.5903\" stroke=\"#000000\"/>\n</g>\n<!-- 140414328564312 -->\n<g class=\"node\" id=\"node8\">\n<title>140414328564312</title>\n<polygon fill=\"none\" points=\"35,-438.5 35,-474.5 169,-474.5 169,-438.5 35,-438.5\" stroke=\"#000000\"/>\n<text fill=\"#000000\" font-family=\"Times,serif\" font-size=\"14.00\" text-anchor=\"middle\" x=\"102\" y=\"-452.8\">dropout_2: Dropout</text>\n</g>\n<!-- 140414337234536&#45;&gt;140414328564312 -->\n<g class=\"edge\" id=\"edge8\">\n<title>140414337234536-&gt;140414328564312</title>\n<path d=\"M102,-511.4551C102,-503.3828 102,-493.6764 102,-484.6817\" fill=\"none\" stroke=\"#000000\"/>\n<polygon fill=\"#000000\" points=\"105.5001,-484.5903 102,-474.5904 98.5001,-484.5904 105.5001,-484.5903\" stroke=\"#000000\"/>\n</g>\n<!-- 140414328652240 -->\n<g class=\"node\" id=\"node9\">\n<title>140414328652240</title>\n<polygon fill=\"none\" points=\"43,-365.5 43,-401.5 161,-401.5 161,-365.5 43,-365.5\" stroke=\"#000000\"/>\n<text fill=\"#000000\" font-family=\"Times,serif\" font-size=\"14.00\" text-anchor=\"middle\" x=\"102\" y=\"-379.8\">conv_3: Conv2D</text>\n</g>\n<!-- 140414328564312&#45;&gt;140414328652240 -->\n<g class=\"edge\" id=\"edge9\">\n<title>140414328564312-&gt;140414328652240</title>\n<path d=\"M102,-438.4551C102,-430.3828 102,-420.6764 102,-411.6817\" fill=\"none\" stroke=\"#000000\"/>\n<polygon fill=\"#000000\" points=\"105.5001,-411.5903 102,-401.5904 98.5001,-411.5904 105.5001,-411.5903\" stroke=\"#000000\"/>\n</g>\n<!-- 140414328653304 -->\n<g class=\"node\" id=\"node10\">\n<title>140414328653304</title>\n<polygon fill=\"none\" points=\"35,-292.5 35,-328.5 169,-328.5 169,-292.5 35,-292.5\" stroke=\"#000000\"/>\n<text fill=\"#000000\" font-family=\"Times,serif\" font-size=\"14.00\" text-anchor=\"middle\" x=\"102\" y=\"-306.8\">dropout_3: Dropout</text>\n</g>\n<!-- 140414328652240&#45;&gt;140414328653304 -->\n<g class=\"edge\" id=\"edge10\">\n<title>140414328652240-&gt;140414328653304</title>\n<path d=\"M102,-365.4551C102,-357.3828 102,-347.6764 102,-338.6817\" fill=\"none\" stroke=\"#000000\"/>\n<polygon fill=\"#000000\" points=\"105.5001,-338.5903 102,-328.5904 98.5001,-338.5904 105.5001,-338.5903\" stroke=\"#000000\"/>\n</g>\n<!-- 140414328363888 -->\n<g class=\"node\" id=\"node11\">\n<title>140414328363888</title>\n<polygon fill=\"none\" points=\"45.5,-219.5 45.5,-255.5 158.5,-255.5 158.5,-219.5 45.5,-219.5\" stroke=\"#000000\"/>\n<text fill=\"#000000\" font-family=\"Times,serif\" font-size=\"14.00\" text-anchor=\"middle\" x=\"102\" y=\"-233.8\">vector_3: Flatten</text>\n</g>\n<!-- 140414328653304&#45;&gt;140414328363888 -->\n<g class=\"edge\" id=\"edge11\">\n<title>140414328653304-&gt;140414328363888</title>\n<path d=\"M102,-292.4551C102,-284.3828 102,-274.6764 102,-265.6817\" fill=\"none\" stroke=\"#000000\"/>\n<polygon fill=\"#000000\" points=\"105.5001,-265.5903 102,-255.5904 98.5001,-265.5904 105.5001,-265.5903\" stroke=\"#000000\"/>\n</g>\n<!-- 140414328363608 -->\n<g class=\"node\" id=\"node12\">\n<title>140414328363608</title>\n<polygon fill=\"none\" points=\"59.5,-146.5 59.5,-182.5 144.5,-182.5 144.5,-146.5 59.5,-146.5\" stroke=\"#000000\"/>\n<text fill=\"#000000\" font-family=\"Times,serif\" font-size=\"14.00\" text-anchor=\"middle\" x=\"102\" y=\"-160.8\">fc_4: Dense</text>\n</g>\n<!-- 140414328363888&#45;&gt;140414328363608 -->\n<g class=\"edge\" id=\"edge12\">\n<title>140414328363888-&gt;140414328363608</title>\n<path d=\"M102,-219.4551C102,-211.3828 102,-201.6764 102,-192.6817\" fill=\"none\" stroke=\"#000000\"/>\n<polygon fill=\"#000000\" points=\"105.5001,-192.5903 102,-182.5904 98.5001,-192.5904 105.5001,-192.5903\" stroke=\"#000000\"/>\n</g>\n<!-- 140414328050296 -->\n<g class=\"node\" id=\"node13\">\n<title>140414328050296</title>\n<polygon fill=\"none\" points=\"35,-73.5 35,-109.5 169,-109.5 169,-73.5 35,-73.5\" stroke=\"#000000\"/>\n<text fill=\"#000000\" font-family=\"Times,serif\" font-size=\"14.00\" text-anchor=\"middle\" x=\"102\" y=\"-87.8\">dropout_4: Dropout</text>\n</g>\n<!-- 140414328363608&#45;&gt;140414328050296 -->\n<g class=\"edge\" id=\"edge13\">\n<title>140414328363608-&gt;140414328050296</title>\n<path d=\"M102,-146.4551C102,-138.3828 102,-128.6764 102,-119.6817\" fill=\"none\" stroke=\"#000000\"/>\n<polygon fill=\"#000000\" points=\"105.5001,-119.5903 102,-109.5904 98.5001,-119.5904 105.5001,-119.5903\" stroke=\"#000000\"/>\n</g>\n<!-- 140414328243536 -->\n<g class=\"node\" id=\"node14\">\n<title>140414328243536</title>\n<polygon fill=\"none\" points=\"44.5,-.5 44.5,-36.5 159.5,-36.5 159.5,-.5 44.5,-.5\" stroke=\"#000000\"/>\n<text fill=\"#000000\" font-family=\"Times,serif\" font-size=\"14.00\" text-anchor=\"middle\" x=\"102\" y=\"-14.8\">fc_output: Dense</text>\n</g>\n<!-- 140414328050296&#45;&gt;140414328243536 -->\n<g class=\"edge\" id=\"edge14\">\n<title>140414328050296-&gt;140414328243536</title>\n<path d=\"M102,-73.4551C102,-65.3828 102,-55.6764 102,-46.6817\" fill=\"none\" stroke=\"#000000\"/>\n<polygon fill=\"#000000\" points=\"105.5001,-46.5903 102,-36.5904 98.5001,-46.5904 105.5001,-46.5903\" stroke=\"#000000\"/>\n</g>\n</g>\n</svg>"
          },
          "metadata": {
            "tags": []
          },
          "execution_count": 9
        }
      ]
    },
    {
      "metadata": {
        "id": "MJbhSzR1GGzB",
        "colab_type": "text"
      },
      "cell_type": "markdown",
      "source": [
        "# Compile the model"
      ]
    },
    {
      "metadata": {
        "id": "BL6X9ncyGJEU",
        "colab_type": "code",
        "colab": {}
      },
      "cell_type": "code",
      "source": [
        "model.compile(loss='categorical_crossentropy',\n",
        "             optimizer='adam',\n",
        "             metrics=['accuracy'])"
      ],
      "execution_count": 0,
      "outputs": []
    },
    {
      "metadata": {
        "id": "gtVF2f0RGeSA",
        "colab_type": "text"
      },
      "cell_type": "markdown",
      "source": [
        "# Train the model\n",
        "\n",
        "Using the .fit() API"
      ]
    },
    {
      "metadata": {
        "id": "gW3EUnrBGiVf",
        "colab_type": "code",
        "outputId": "6f2a095c-ca82-4d4f-ceb7-e2c520b0db55",
        "colab": {
          "base_uri": "https://localhost:8080/",
          "height": 3525
        }
      },
      "cell_type": "code",
      "source": [
        "from keras.callbacks import ModelCheckpoint\n",
        "\n",
        "checkpointer = ModelCheckpoint(filepath='model.weights.best.hdf5', verbose = 1, save_best_only=True)\n",
        "model.fit(x_train,\n",
        "         y_train,\n",
        "         batch_size=128,\n",
        "         epochs=50,\n",
        "         validation_data=(x_validate, y_validate),\n",
        "         callbacks=[checkpointer])"
      ],
      "execution_count": 0,
      "outputs": [
        {
          "output_type": "stream",
          "text": [
            "Train on 55000 samples, validate on 10000 samples\n",
            "Epoch 1/50\n",
            "54656/55000 [============================>.] - ETA: 0s - loss: 0.8076 - acc: 0.7020\n",
            "Epoch 00001: val_loss improved from inf to 0.49469, saving model to model.weights.best.hdf5\n",
            "55000/55000 [==============================] - 16s 299us/step - loss: 0.8069 - acc: 0.7023 - val_loss: 0.4947 - val_acc: 0.8258\n",
            "Epoch 2/50\n",
            "54784/55000 [============================>.] - ETA: 0s - loss: 0.5213 - acc: 0.8101\n",
            "Epoch 00002: val_loss improved from 0.49469 to 0.38874, saving model to model.weights.best.hdf5\n",
            "55000/55000 [==============================] - 11s 194us/step - loss: 0.5211 - acc: 0.8101 - val_loss: 0.3887 - val_acc: 0.8603\n",
            "Epoch 3/50\n",
            "54912/55000 [============================>.] - ETA: 0s - loss: 0.4406 - acc: 0.8408\n",
            "Epoch 00003: val_loss improved from 0.38874 to 0.35689, saving model to model.weights.best.hdf5\n",
            "55000/55000 [==============================] - 11s 198us/step - loss: 0.4405 - acc: 0.8409 - val_loss: 0.3569 - val_acc: 0.8696\n",
            "Epoch 4/50\n",
            "54784/55000 [============================>.] - ETA: 0s - loss: 0.4042 - acc: 0.8556\n",
            "Epoch 00004: val_loss improved from 0.35689 to 0.33156, saving model to model.weights.best.hdf5\n",
            "55000/55000 [==============================] - 11s 196us/step - loss: 0.4041 - acc: 0.8557 - val_loss: 0.3316 - val_acc: 0.8818\n",
            "Epoch 5/50\n",
            "54784/55000 [============================>.] - ETA: 0s - loss: 0.3738 - acc: 0.8661\n",
            "Epoch 00005: val_loss improved from 0.33156 to 0.30244, saving model to model.weights.best.hdf5\n",
            "55000/55000 [==============================] - 11s 197us/step - loss: 0.3737 - acc: 0.8662 - val_loss: 0.3024 - val_acc: 0.8927\n",
            "Epoch 6/50\n",
            "54784/55000 [============================>.] - ETA: 0s - loss: 0.3521 - acc: 0.8733\n",
            "Epoch 00006: val_loss did not improve from 0.30244\n",
            "55000/55000 [==============================] - 11s 197us/step - loss: 0.3520 - acc: 0.8734 - val_loss: 0.3036 - val_acc: 0.8864\n",
            "Epoch 7/50\n",
            "54656/55000 [============================>.] - ETA: 0s - loss: 0.3358 - acc: 0.8786\n",
            "Epoch 00007: val_loss improved from 0.30244 to 0.28724, saving model to model.weights.best.hdf5\n",
            "55000/55000 [==============================] - 11s 199us/step - loss: 0.3356 - acc: 0.8787 - val_loss: 0.2872 - val_acc: 0.8954\n",
            "Epoch 8/50\n",
            "54656/55000 [============================>.] - ETA: 0s - loss: 0.3241 - acc: 0.8842\n",
            "Epoch 00008: val_loss improved from 0.28724 to 0.27890, saving model to model.weights.best.hdf5\n",
            "55000/55000 [==============================] - 11s 196us/step - loss: 0.3243 - acc: 0.8840 - val_loss: 0.2789 - val_acc: 0.8981\n",
            "Epoch 9/50\n",
            "54656/55000 [============================>.] - ETA: 0s - loss: 0.3138 - acc: 0.8867\n",
            "Epoch 00009: val_loss improved from 0.27890 to 0.27767, saving model to model.weights.best.hdf5\n",
            "55000/55000 [==============================] - 11s 194us/step - loss: 0.3138 - acc: 0.8867 - val_loss: 0.2777 - val_acc: 0.8996\n",
            "Epoch 10/50\n",
            "54656/55000 [============================>.] - ETA: 0s - loss: 0.3023 - acc: 0.8913\n",
            "Epoch 00010: val_loss improved from 0.27767 to 0.26198, saving model to model.weights.best.hdf5\n",
            "55000/55000 [==============================] - 11s 194us/step - loss: 0.3021 - acc: 0.8913 - val_loss: 0.2620 - val_acc: 0.9074\n",
            "Epoch 11/50\n",
            "54912/55000 [============================>.] - ETA: 0s - loss: 0.2967 - acc: 0.8930\n",
            "Epoch 00011: val_loss did not improve from 0.26198\n",
            "55000/55000 [==============================] - 11s 195us/step - loss: 0.2969 - acc: 0.8930 - val_loss: 0.2622 - val_acc: 0.9059\n",
            "Epoch 12/50\n",
            "54656/55000 [============================>.] - ETA: 0s - loss: 0.2865 - acc: 0.8960\n",
            "Epoch 00012: val_loss did not improve from 0.26198\n",
            "55000/55000 [==============================] - 11s 193us/step - loss: 0.2864 - acc: 0.8959 - val_loss: 0.2639 - val_acc: 0.9027\n",
            "Epoch 13/50\n",
            "54912/55000 [============================>.] - ETA: 0s - loss: 0.2804 - acc: 0.8989\n",
            "Epoch 00013: val_loss improved from 0.26198 to 0.25801, saving model to model.weights.best.hdf5\n",
            "55000/55000 [==============================] - 11s 197us/step - loss: 0.2804 - acc: 0.8989 - val_loss: 0.2580 - val_acc: 0.9057\n",
            "Epoch 14/50\n",
            "54656/55000 [============================>.] - ETA: 0s - loss: 0.2748 - acc: 0.8997\n",
            "Epoch 00014: val_loss improved from 0.25801 to 0.24680, saving model to model.weights.best.hdf5\n",
            "55000/55000 [==============================] - 11s 196us/step - loss: 0.2754 - acc: 0.8995 - val_loss: 0.2468 - val_acc: 0.9108\n",
            "Epoch 15/50\n",
            "54656/55000 [============================>.] - ETA: 0s - loss: 0.2724 - acc: 0.9018\n",
            "Epoch 00015: val_loss improved from 0.24680 to 0.24534, saving model to model.weights.best.hdf5\n",
            "55000/55000 [==============================] - 11s 196us/step - loss: 0.2726 - acc: 0.9017 - val_loss: 0.2453 - val_acc: 0.9118\n",
            "Epoch 16/50\n",
            "54656/55000 [============================>.] - ETA: 0s - loss: 0.2637 - acc: 0.9033\n",
            "Epoch 00016: val_loss improved from 0.24534 to 0.24418, saving model to model.weights.best.hdf5\n",
            "55000/55000 [==============================] - 11s 195us/step - loss: 0.2639 - acc: 0.9032 - val_loss: 0.2442 - val_acc: 0.9121\n",
            "Epoch 17/50\n",
            "54784/55000 [============================>.] - ETA: 0s - loss: 0.2581 - acc: 0.9050\n",
            "Epoch 00017: val_loss did not improve from 0.24418\n",
            "55000/55000 [==============================] - 11s 193us/step - loss: 0.2584 - acc: 0.9049 - val_loss: 0.2548 - val_acc: 0.9068\n",
            "Epoch 18/50\n",
            "54784/55000 [============================>.] - ETA: 0s - loss: 0.2573 - acc: 0.9052\n",
            "Epoch 00018: val_loss improved from 0.24418 to 0.24250, saving model to model.weights.best.hdf5\n",
            "55000/55000 [==============================] - 10s 190us/step - loss: 0.2573 - acc: 0.9052 - val_loss: 0.2425 - val_acc: 0.9123\n",
            "Epoch 19/50\n",
            "54656/55000 [============================>.] - ETA: 0s - loss: 0.2547 - acc: 0.9067\n",
            "Epoch 00019: val_loss improved from 0.24250 to 0.23841, saving model to model.weights.best.hdf5\n",
            "55000/55000 [==============================] - 11s 194us/step - loss: 0.2546 - acc: 0.9067 - val_loss: 0.2384 - val_acc: 0.9140\n",
            "Epoch 20/50\n",
            "54912/55000 [============================>.] - ETA: 0s - loss: 0.2541 - acc: 0.9084\n",
            "Epoch 00020: val_loss did not improve from 0.23841\n",
            "55000/55000 [==============================] - 11s 193us/step - loss: 0.2542 - acc: 0.9084 - val_loss: 0.2407 - val_acc: 0.9136\n",
            "Epoch 21/50\n",
            "54656/55000 [============================>.] - ETA: 0s - loss: 0.2472 - acc: 0.9097\n",
            "Epoch 00021: val_loss did not improve from 0.23841\n",
            "55000/55000 [==============================] - 11s 195us/step - loss: 0.2470 - acc: 0.9099 - val_loss: 0.2431 - val_acc: 0.9108\n",
            "Epoch 22/50\n",
            "54912/55000 [============================>.] - ETA: 0s - loss: 0.2449 - acc: 0.9091\n",
            "Epoch 00022: val_loss did not improve from 0.23841\n",
            "55000/55000 [==============================] - 11s 196us/step - loss: 0.2448 - acc: 0.9091 - val_loss: 0.2431 - val_acc: 0.9113\n",
            "Epoch 23/50\n",
            "54784/55000 [============================>.] - ETA: 0s - loss: 0.2400 - acc: 0.9125\n",
            "Epoch 00023: val_loss did not improve from 0.23841\n",
            "55000/55000 [==============================] - 11s 195us/step - loss: 0.2403 - acc: 0.9125 - val_loss: 0.2395 - val_acc: 0.9144\n",
            "Epoch 24/50\n",
            "54784/55000 [============================>.] - ETA: 0s - loss: 0.2387 - acc: 0.9122\n",
            "Epoch 00024: val_loss improved from 0.23841 to 0.23837, saving model to model.weights.best.hdf5\n",
            "55000/55000 [==============================] - 11s 197us/step - loss: 0.2390 - acc: 0.9120 - val_loss: 0.2384 - val_acc: 0.9126\n",
            "Epoch 25/50\n",
            "54656/55000 [============================>.] - ETA: 0s - loss: 0.2361 - acc: 0.9134\n",
            "Epoch 00025: val_loss improved from 0.23837 to 0.23743, saving model to model.weights.best.hdf5\n",
            "55000/55000 [==============================] - 11s 193us/step - loss: 0.2366 - acc: 0.9134 - val_loss: 0.2374 - val_acc: 0.9145\n",
            "Epoch 26/50\n",
            "54656/55000 [============================>.] - ETA: 0s - loss: 0.2369 - acc: 0.9127\n",
            "Epoch 00026: val_loss improved from 0.23743 to 0.23198, saving model to model.weights.best.hdf5\n",
            "55000/55000 [==============================] - 11s 195us/step - loss: 0.2370 - acc: 0.9126 - val_loss: 0.2320 - val_acc: 0.9165\n",
            "Epoch 27/50\n",
            "54912/55000 [============================>.] - ETA: 0s - loss: 0.2319 - acc: 0.9159\n",
            "Epoch 00027: val_loss did not improve from 0.23198\n",
            "55000/55000 [==============================] - 11s 194us/step - loss: 0.2319 - acc: 0.9159 - val_loss: 0.2351 - val_acc: 0.9114\n",
            "Epoch 28/50\n",
            "54912/55000 [============================>.] - ETA: 0s - loss: 0.2321 - acc: 0.9142\n",
            "Epoch 00028: val_loss did not improve from 0.23198\n",
            "55000/55000 [==============================] - 11s 195us/step - loss: 0.2321 - acc: 0.9142 - val_loss: 0.2324 - val_acc: 0.9152\n",
            "Epoch 29/50\n",
            "54912/55000 [============================>.] - ETA: 0s - loss: 0.2292 - acc: 0.9156\n",
            "Epoch 00029: val_loss improved from 0.23198 to 0.23140, saving model to model.weights.best.hdf5\n",
            "55000/55000 [==============================] - 11s 195us/step - loss: 0.2293 - acc: 0.9155 - val_loss: 0.2314 - val_acc: 0.9181\n",
            "Epoch 30/50\n",
            "54784/55000 [============================>.] - ETA: 0s - loss: 0.2226 - acc: 0.9190\n",
            "Epoch 00030: val_loss improved from 0.23140 to 0.22838, saving model to model.weights.best.hdf5\n",
            "55000/55000 [==============================] - 11s 196us/step - loss: 0.2226 - acc: 0.9189 - val_loss: 0.2284 - val_acc: 0.9172\n",
            "Epoch 31/50\n",
            "54656/55000 [============================>.] - ETA: 0s - loss: 0.2257 - acc: 0.9176\n",
            "Epoch 00031: val_loss did not improve from 0.22838\n",
            "55000/55000 [==============================] - 11s 196us/step - loss: 0.2257 - acc: 0.9176 - val_loss: 0.2356 - val_acc: 0.9129\n",
            "Epoch 32/50\n",
            "54784/55000 [============================>.] - ETA: 0s - loss: 0.2220 - acc: 0.9196\n",
            "Epoch 00032: val_loss did not improve from 0.22838\n",
            "55000/55000 [==============================] - 11s 193us/step - loss: 0.2220 - acc: 0.9196 - val_loss: 0.2313 - val_acc: 0.9158\n",
            "Epoch 33/50\n",
            "54656/55000 [============================>.] - ETA: 0s - loss: 0.2190 - acc: 0.9203\n",
            "Epoch 00033: val_loss improved from 0.22838 to 0.22744, saving model to model.weights.best.hdf5\n",
            "55000/55000 [==============================] - 11s 196us/step - loss: 0.2192 - acc: 0.9203 - val_loss: 0.2274 - val_acc: 0.9173\n",
            "Epoch 34/50\n",
            "54656/55000 [============================>.] - ETA: 0s - loss: 0.2196 - acc: 0.9191\n",
            "Epoch 00034: val_loss did not improve from 0.22744\n",
            "55000/55000 [==============================] - 11s 191us/step - loss: 0.2195 - acc: 0.9191 - val_loss: 0.2276 - val_acc: 0.9190\n",
            "Epoch 35/50\n",
            "54784/55000 [============================>.] - ETA: 0s - loss: 0.2191 - acc: 0.9200\n",
            "Epoch 00035: val_loss improved from 0.22744 to 0.22612, saving model to model.weights.best.hdf5\n",
            "55000/55000 [==============================] - 11s 196us/step - loss: 0.2191 - acc: 0.9200 - val_loss: 0.2261 - val_acc: 0.9187\n",
            "Epoch 36/50\n",
            "54656/55000 [============================>.] - ETA: 0s - loss: 0.2156 - acc: 0.9214\n",
            "Epoch 00036: val_loss did not improve from 0.22612\n",
            "55000/55000 [==============================] - 11s 193us/step - loss: 0.2153 - acc: 0.9214 - val_loss: 0.2265 - val_acc: 0.9185\n",
            "Epoch 37/50\n",
            "54656/55000 [============================>.] - ETA: 0s - loss: 0.2131 - acc: 0.9215\n",
            "Epoch 00037: val_loss did not improve from 0.22612\n",
            "55000/55000 [==============================] - 11s 193us/step - loss: 0.2131 - acc: 0.9216 - val_loss: 0.2289 - val_acc: 0.9183\n",
            "Epoch 38/50\n",
            "54784/55000 [============================>.] - ETA: 0s - loss: 0.2118 - acc: 0.9213\n",
            "Epoch 00038: val_loss improved from 0.22612 to 0.22469, saving model to model.weights.best.hdf5\n",
            "55000/55000 [==============================] - 11s 195us/step - loss: 0.2118 - acc: 0.9214 - val_loss: 0.2247 - val_acc: 0.9191\n",
            "Epoch 39/50\n",
            "54912/55000 [============================>.] - ETA: 0s - loss: 0.2085 - acc: 0.9224\n",
            "Epoch 00039: val_loss did not improve from 0.22469\n",
            "55000/55000 [==============================] - 11s 193us/step - loss: 0.2084 - acc: 0.9224 - val_loss: 0.2322 - val_acc: 0.9147\n",
            "Epoch 40/50\n",
            "54912/55000 [============================>.] - ETA: 0s - loss: 0.2098 - acc: 0.9238\n",
            "Epoch 00040: val_loss did not improve from 0.22469\n",
            "55000/55000 [==============================] - 10s 190us/step - loss: 0.2097 - acc: 0.9238 - val_loss: 0.2288 - val_acc: 0.9187\n",
            "Epoch 41/50\n",
            "54656/55000 [============================>.] - ETA: 0s - loss: 0.2093 - acc: 0.9227\n",
            "Epoch 00041: val_loss improved from 0.22469 to 0.22231, saving model to model.weights.best.hdf5\n",
            "55000/55000 [==============================] - 11s 195us/step - loss: 0.2092 - acc: 0.9228 - val_loss: 0.2223 - val_acc: 0.9198\n",
            "Epoch 42/50\n",
            "54656/55000 [============================>.] - ETA: 0s - loss: 0.2069 - acc: 0.9239\n",
            "Epoch 00042: val_loss improved from 0.22231 to 0.21829, saving model to model.weights.best.hdf5\n",
            "55000/55000 [==============================] - 10s 191us/step - loss: 0.2069 - acc: 0.9240 - val_loss: 0.2183 - val_acc: 0.9210\n",
            "Epoch 43/50\n",
            "54784/55000 [============================>.] - ETA: 0s - loss: 0.2034 - acc: 0.9247\n",
            "Epoch 00043: val_loss did not improve from 0.21829\n",
            "55000/55000 [==============================] - 10s 189us/step - loss: 0.2035 - acc: 0.9247 - val_loss: 0.2196 - val_acc: 0.9217\n",
            "Epoch 44/50\n",
            "54656/55000 [============================>.] - ETA: 0s - loss: 0.2056 - acc: 0.9245\n",
            "Epoch 00044: val_loss did not improve from 0.21829\n",
            "55000/55000 [==============================] - 10s 189us/step - loss: 0.2056 - acc: 0.9244 - val_loss: 0.2190 - val_acc: 0.9194\n",
            "Epoch 45/50\n",
            "54912/55000 [============================>.] - ETA: 0s - loss: 0.2050 - acc: 0.9246\n",
            "Epoch 00045: val_loss did not improve from 0.21829\n",
            "55000/55000 [==============================] - 11s 192us/step - loss: 0.2050 - acc: 0.9246 - val_loss: 0.2273 - val_acc: 0.9207\n",
            "Epoch 46/50\n",
            "54912/55000 [============================>.] - ETA: 0s - loss: 0.2018 - acc: 0.9249\n",
            "Epoch 00046: val_loss did not improve from 0.21829\n",
            "55000/55000 [==============================] - 10s 191us/step - loss: 0.2019 - acc: 0.9248 - val_loss: 0.2191 - val_acc: 0.9220\n",
            "Epoch 47/50\n",
            "54784/55000 [============================>.] - ETA: 0s - loss: 0.1996 - acc: 0.9269\n",
            "Epoch 00047: val_loss did not improve from 0.21829\n",
            "55000/55000 [==============================] - 10s 190us/step - loss: 0.1996 - acc: 0.9269 - val_loss: 0.2253 - val_acc: 0.9188\n",
            "Epoch 48/50\n",
            "54912/55000 [============================>.] - ETA: 0s - loss: 0.2011 - acc: 0.9266\n",
            "Epoch 00048: val_loss did not improve from 0.21829\n",
            "55000/55000 [==============================] - 11s 192us/step - loss: 0.2011 - acc: 0.9266 - val_loss: 0.2233 - val_acc: 0.9201\n",
            "Epoch 49/50\n",
            "54656/55000 [============================>.] - ETA: 0s - loss: 0.1965 - acc: 0.9280\n",
            "Epoch 00049: val_loss did not improve from 0.21829\n",
            "55000/55000 [==============================] - 11s 191us/step - loss: 0.1968 - acc: 0.9279 - val_loss: 0.2191 - val_acc: 0.9212\n",
            "Epoch 50/50\n",
            "54784/55000 [============================>.] - ETA: 0s - loss: 0.1946 - acc: 0.9269\n",
            "Epoch 00050: val_loss did not improve from 0.21829\n",
            "55000/55000 [==============================] - 11s 192us/step - loss: 0.1943 - acc: 0.9271 - val_loss: 0.2210 - val_acc: 0.9205\n"
          ],
          "name": "stdout"
        },
        {
          "output_type": "execute_result",
          "data": {
            "text/plain": [
              "<tensorflow.python.keras.callbacks.History at 0x7fdc499e1da0>"
            ]
          },
          "metadata": {
            "tags": []
          },
          "execution_count": 109
        }
      ]
    },
    {
      "metadata": {
        "id": "LtQuJrHFIynV",
        "colab_type": "text"
      },
      "cell_type": "markdown",
      "source": [
        "# Save trained model"
      ]
    },
    {
      "metadata": {
        "id": "CMEoDs-LCE6J",
        "colab_type": "code",
        "colab": {}
      },
      "cell_type": "code",
      "source": [
        "!pip install -U -q PyDrive\n",
        "from pydrive.auth import GoogleAuth\n",
        "from pydrive.drive import GoogleDrive\n",
        "from google.colab import auth\n",
        "from oauth2client.client import GoogleCredentials\n",
        "\n",
        "# 1. Authenticate and create the PyDrive client.\n",
        "auth.authenticate_user()\n",
        "gauth = GoogleAuth()\n",
        "gauth.credentials = GoogleCredentials.get_application_default()\n",
        "drive = GoogleDrive(gauth)\n",
        "\n"
      ],
      "execution_count": 0,
      "outputs": []
    },
    {
      "metadata": {
        "id": "ooWlvpjkGi4E",
        "colab_type": "code",
        "outputId": "7a837f1d-64b0-481d-d7aa-c44169ee4a9a",
        "colab": {
          "base_uri": "https://localhost:8080/",
          "height": 34
        }
      },
      "cell_type": "code",
      "source": [
        "#load best weight, cnn arch_diagram and save to drive\n",
        "model.load_weights('model.weights.best.hdf5')\n",
        "model.save('fashion_mnist_trained.h5')\n",
        "model_file = drive.CreateFile({'title' : 'fashion_mnist_trained.h5'})\n",
        "arch_diagram = drive.CreateFile({'title' : 'fashionNET.png'})\n",
        "model_file.SetContentFile('fashion_mnist_trained.h5')\n",
        "arch_diagram.SetContentFile('model.png')\n",
        "model_file.Upload()\n",
        "arch_diagram.Upload()\n",
        "\n",
        "# download to google drive\n",
        "drive.CreateFile({'id': model_file.get('id')})"
      ],
      "execution_count": 0,
      "outputs": [
        {
          "output_type": "execute_result",
          "data": {
            "text/plain": [
              "GoogleDriveFile({'id': '1Er8lWy2NqadJZN5h5IwseTtynMi64m7Y'})"
            ]
          },
          "metadata": {
            "tags": []
          },
          "execution_count": 23
        }
      ]
    },
    {
      "metadata": {
        "id": "9JEr6kgSwO3B",
        "colab_type": "text"
      },
      "cell_type": "markdown",
      "source": [
        "# Predict values"
      ]
    },
    {
      "metadata": {
        "id": "shSbqIrFwQ0S",
        "colab_type": "code",
        "outputId": "70aa14bc-ac00-4db3-819e-87d900622813",
        "colab": {
          "base_uri": "https://localhost:8080/",
          "height": 481
        }
      },
      "cell_type": "code",
      "source": [
        "y_hat = model.predict(x_test)\n",
        "\n",
        "# Plot a random sample of 10 test images, their predicted labels and ground truth\n",
        "figure = plt.figure(figsize=(20, 8))\n",
        "for i, index in enumerate(np.random.choice(x_test.shape[0], size=15, replace=False)):\n",
        "    ax = figure.add_subplot(3, 5, i + 1, xticks=[], yticks=[])\n",
        "    # Display each image\n",
        "    ax.imshow(np.squeeze(x_test[index]))\n",
        "    predict_index = np.argmax(y_hat[index])\n",
        "    true_index = np.argmax(y_test[index])\n",
        "    # Set the title for each image\n",
        "    ax.set_title(\"{} ({})\".format(fashion_mnist_labels[predict_index], \n",
        "                                  fashion_mnist_labels[true_index]),\n",
        "                                  color=(\"green\" if predict_index == true_index else \"red\"))"
      ],
      "execution_count": 0,
      "outputs": [
        {
          "output_type": "display_data",
          "data": {
            "image/png": "[encoded data removed]",
            "text/plain": [
              "<matplotlib.figure.Figure at 0x7fdc4be1f438>"
            ]
          },
          "metadata": {
            "tags": []
          }
        }
      ]
    },
    {
      "metadata": {
        "id": "ax4as_pbwR2q",
        "colab_type": "code",
        "outputId": "8db89c80-ae23-4512-e9fe-28972b468e0e",
        "colab": {
          "base_uri": "https://localhost:8080/",
          "height": 52
        }
      },
      "cell_type": "code",
      "source": [
        "score = model.evaluate(x_test, y_test, verbose=0)\n",
        "print('Test loss:', score[0])\n",
        "print('Test accuracy:', score[1])"
      ],
      "execution_count": 0,
      "outputs": [
        {
          "output_type": "stream",
          "text": [
            "Test loss: 0.2668200936794281\n",
            "Test accuracy: 0.9171\n"
          ],
          "name": "stdout"
        }
      ]
    },
    {
      "metadata": {
        "id": "3hSivRLefwsh",
        "colab_type": "code",
        "colab": {}
      },
      "cell_type": "code",
      "source": [
        ""
      ],
      "execution_count": 0,
      "outputs": []
    }
  ]
}