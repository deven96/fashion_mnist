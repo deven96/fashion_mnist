{
  "nbformat": 4,
  "nbformat_minor": 0,
  "metadata": {
    "colab": {
      "name": "Fashion_mnist.ipynb",
      "version": "0.3.2",
      "provenance": [],
      "include_colab_link": true
    },
    "kernelspec": {
      "name": "python3",
      "display_name": "Python 3"
    },
    "accelerator": "GPU"
  },
  "cells": [
    {
      "cell_type": "markdown",
      "metadata": {
        "id": "view-in-github",
        "colab_type": "text"
      },
      "source": [
        "<a href=\"https://colab.research.google.com/github/deven96/fashion_mnist/blob/master/Fashion_mnist.ipynb\" target=\"_parent\"><img src=\"https://colab.research.google.com/assets/colab-badge.svg\" alt=\"Open In Colab\"/></a>"
      ]
    },
    {
      "metadata": {
        "id": "M2s8jV-TD2Ze",
        "colab_type": "text"
      },
      "cell_type": "markdown",
      "source": [
        "# Imports"
      ]
    },
    {
      "metadata": {
        "id": "eKTzQamlCHJM",
        "colab_type": "code",
        "outputId": "039ae603-6c38-4da1-92d2-a3ae1197521e",
        "colab": {
          "base_uri": "https://localhost:8080/",
          "height": 52
        }
      },
      "cell_type": "code",
      "source": [
        "import tensorflow as tf\n",
        "\n",
        "import numpy as np\n",
        "import pandas as pd\n",
        "from keras.utils import plot_model\n",
        "from keras.utils.vis_utils import model_to_dot\n",
        "from IPython.display import SVG\n",
        "import matplotlib.pyplot as plt\n",
        "\n"
      ],
      "execution_count": 1,
      "outputs": [
        {
          "output_type": "stream",
          "text": [
            "Using TensorFlow backend.\n"
          ],
          "name": "stderr"
        },
        {
          "output_type": "stream",
          "text": [
            "x_train shape: (60000, 28, 28) y_train shape: (60000,)\n"
          ],
          "name": "stdout"
        }
      ]
    },
    {
      "metadata": {
        "id": "6OahxJW8GDA_",
        "colab_type": "text"
      },
      "cell_type": "markdown",
      "source": [
        "# Installations"
      ]
    },
    {
      "metadata": {
        "id": "uxOjMK0QGIJk",
        "colab_type": "code",
        "colab": {}
      },
      "cell_type": "code",
      "source": [
        "# Necessary installations to visualize data\n",
        "!pip install -q pydot\n",
        "!apt install -q graphviz"
      ],
      "execution_count": 0,
      "outputs": []
    },
    {
      "metadata": {
        "id": "w4dAbWh8F8Ki",
        "colab_type": "text"
      },
      "cell_type": "markdown",
      "source": [
        "# Load the data"
      ]
    },
    {
      "metadata": {
        "id": "SC4YleB9F_Zp",
        "colab_type": "code",
        "colab": {
          "base_uri": "https://localhost:8080/",
          "height": 69
        },
        "outputId": "5e60bb08-845b-4c23-db13-ca0159711469"
      },
      "cell_type": "code",
      "source": [
        "# Load the fashion-mnist pre-shuffled train data and test data\n",
        "(x_train, y_train), (x_test, y_test) = tf.keras.datasets.fashion_mnist.load_data()\n",
        "print(\"x_train shape:\", x_train.shape, \"y_train shape:\", y_train.shape)\n",
        "print(\"Number of train data - \" + str(len(x_train)))\n",
        "print(\"Number of test data - \" + str(len(x_test)))"
      ],
      "execution_count": 14,
      "outputs": [
        {
          "output_type": "stream",
          "text": [
            "x_train shape: (60000, 28, 28) y_train shape: (60000,)\n",
            "Number of train data - 60000\n",
            "Number of test data - 10000\n"
          ],
          "name": "stdout"
        }
      ]
    },
    {
      "metadata": {
        "id": "vLN0gC4CDtaY",
        "colab_type": "text"
      },
      "cell_type": "markdown",
      "source": [
        "# Visualizing the data"
      ]
    },
    {
      "metadata": {
        "id": "slktfaNcDyWt",
        "colab_type": "code",
        "outputId": "7fe89dd8-535d-4952-d886-eaa6c610b063",
        "colab": {
          "base_uri": "https://localhost:8080/",
          "height": 434
        }
      },
      "cell_type": "code",
      "source": [
        "# Print training set shape - note there are 60,000 training data of image size of 28x28, 60,000 train labels)\n",
        "print(\"x_train shape:\", x_train.shape, \"y_train shape:\", y_train.shape)\n",
        "\n",
        "# Print the number of training and test datasets\n",
        "print(x_train.shape[0], 'train set')\n",
        "print(x_test.shape[0], 'test set')\n",
        "\n",
        "# Define the text labels\n",
        "fashion_mnist_labels = [\"T-shirt/top\",  # index 0\n",
        "                        \"Trouser\",      # index 1\n",
        "                        \"Pullover\",     # index 2 \n",
        "                        \"Dress\",        # index 3 \n",
        "                        \"Coat\",         # index 4\n",
        "                        \"Sandal\",       # index 5\n",
        "                        \"Shirt\",        # index 6 \n",
        "                        \"Sneaker\",      # index 7 \n",
        "                        \"Bag\",          # index 8 \n",
        "                        \"Ankle boot\"]   # index 9\n",
        "\n",
        "# Image index, you can pick any number between 0 and 59,999\n",
        "img_index = 90\n",
        "# y_train contains the lables, ranging from 0 to 9\n",
        "label_index = y_train[img_index]\n",
        "# Print the label, for example 2 Pullover\n",
        "print (\"y = \" + str(label_index) + \" \" +(fashion_mnist_labels[label_index]))\n",
        "# # Show one of the images from the training dataset\n",
        "plt.imshow(x_train[img_index], interpolation=\"spline\")"
      ],
      "execution_count": 11,
      "outputs": [
        {
          "output_type": "stream",
          "text": [
            "x_train shape: (60000, 28, 28) y_train shape: (60000,)\n",
            "60000 train set\n",
            "10000 test set\n",
            "y = 9 Ankle boot\n"
          ],
          "name": "stdout"
        },
        {
          "output_type": "execute_result",
          "data": {
            "text/plain": [
              "<matplotlib.image.AxesImage at 0x7f4684819ef0>"
            ]
          },
          "metadata": {
            "tags": []
          },
          "execution_count": 11
        },
        {
          "output_type": "display_data",
          "data": {
            "image/png": "[encoded data removed]",
            "text/plain": [
              "<matplotlib.figure.Figure at 0x7f468486a5c0>"
            ]
          },
          "metadata": {
            "tags": []
          }
        }
      ]
    },
    {
      "metadata": {
        "id": "Z_UtEsphEbWL",
        "colab_type": "text"
      },
      "cell_type": "markdown",
      "source": [
        "# Data Normalization"
      ]
    },
    {
      "metadata": {
        "id": "wTBVuww1Eea9",
        "colab_type": "code",
        "colab": {}
      },
      "cell_type": "code",
      "source": [
        "x_train = x_train.astype('float32') / 255\n",
        "x_test = x_test.astype('float32') / 255"
      ],
      "execution_count": 0,
      "outputs": []
    },
    {
      "metadata": {
        "id": "s0IgyM_oEif8",
        "colab_type": "code",
        "outputId": "c8dd2913-162a-4e1a-ec79-43c28ac4e5f7",
        "colab": {
          "base_uri": "https://localhost:8080/",
          "height": 86
        }
      },
      "cell_type": "code",
      "source": [
        "# Further break training data into train / validation sets (# put 5000 into validation set and keep remaining 55,000 for train)\n",
        "(x_train, x_valid) = x_train[5000:], x_train[:5000] \n",
        "(y_train, y_valid) = y_train[5000:], y_train[:5000]\n",
        "\n",
        "# Reshape input data from (28, 28) to (28, 28, 1)\n",
        "w, h = 28, 28\n",
        "x_train = x_train.reshape(x_train.shape[0], w, h, 1)\n",
        "x_valid = x_valid.reshape(x_valid.shape[0], w, h, 1)\n",
        "x_test = x_test.reshape(x_test.shape[0], w, h, 1)\n",
        "\n",
        "# One-hot encode the labels\n",
        "y_train = tf.keras.utils.to_categorical(y_train, 10)\n",
        "y_valid = tf.keras.utils.to_categorical(y_valid, 10)\n",
        "y_test = tf.keras.utils.to_categorical(y_test, 10)\n",
        "\n",
        "# Print training set shape\n",
        "print(\"x_train shape:\", x_train.shape, \"y_train shape:\", y_train.shape)\n",
        "\n",
        "# Print the number of training, validation, and test datasets\n",
        "print(x_train.shape[0], 'train set')\n",
        "print(x_valid.shape[0], 'validation set')\n",
        "print(x_test.shape[0], 'test set')\n",
        "\n",
        "#data augmentation\n",
        "datagen = tf.keras.preprocessing.image.ImageDataGenerator(rotation_range=8, width_shift_range=0.08, shear_range=0.3,\n",
        "                               height_shift_range=0.08, zoom_range=0.08)\n",
        "\n",
        "train_batch = datagen.flow(x_train, y_train, batch_size=256)\n",
        "val_batch = datagen.flow(x_valid, y_valid, batch_size=256)\n"
      ],
      "execution_count": 16,
      "outputs": [
        {
          "output_type": "stream",
          "text": [
            "x_train shape: (55000, 28, 28, 1) y_train shape: (55000, 10)\n",
            "55000 train set\n",
            "5000 validation set\n",
            "10000 test set\n"
          ],
          "name": "stdout"
        }
      ]
    },
    {
      "metadata": {
        "id": "rGKbh_jEFR4W",
        "colab_type": "text"
      },
      "cell_type": "markdown",
      "source": [
        "# Model Architecture\n",
        "\n",
        "Tweak CNN parameters to optimize"
      ]
    },
    {
      "metadata": {
        "id": "6ngkgCOqFUuX",
        "colab_type": "code",
        "outputId": "93a4835b-2ab4-4907-b517-900bb3402d82",
        "colab": {
          "base_uri": "https://localhost:8080/",
          "height": 868
        }
      },
      "cell_type": "code",
      "source": [
        "     \n",
        "\n",
        "\n",
        "# Sequential Model\n",
        "cnn4 = tf.keras.models.Sequential()\n",
        "\n",
        "#layers\n",
        "cnn4.add(tf.keras.layers.Conv2D(32, kernel_size=(3, 3), activation='relu', input_shape=(28, 28, 1)))\n",
        "cnn4.add(tf.keras.layers.BatchNormalization())\n",
        "cnn4.add(tf.keras.layers.MaxPooling2D(pool_size=(1, 1)))\n",
        "cnn4.add(tf.keras.layers.Conv2D(32, kernel_size=(3, 3), activation='relu'))\n",
        "cnn4.add(tf.keras.layers.BatchNormalization())\n",
        "cnn4.add(tf.keras.layers.MaxPooling2D(pool_size=(2, 2)))\n",
        "\n",
        "cnn4.add(tf.keras.layers.Conv2D(64, kernel_size=(3, 3), activation='relu'))\n",
        "cnn4.add(tf.keras.layers.BatchNormalization())\n",
        "\n",
        "cnn4.add(tf.keras.layers.Conv2D(128, kernel_size=(3, 3), activation='relu'))\n",
        "cnn4.add(tf.keras.layers.BatchNormalization())\n",
        "cnn4.add(tf.keras.layers.MaxPooling2D(pool_size=(2, 2)))\n",
        "\n",
        "cnn4.add(tf.keras.layers.Flatten())\n",
        "\n",
        "cnn4.add(tf.keras.layers.Dense(512, activation='relu'))\n",
        "cnn4.add(tf.keras.layers.BatchNormalization())\n",
        "cnn4.add(tf.keras.layers.Dropout(0.5))\n",
        "\n",
        "cnn4.add(tf.keras.layers.Dense(128, activation='relu'))\n",
        "cnn4.add(tf.keras.layers.BatchNormalization())\n",
        "cnn4.add(tf.keras.layers.Dropout(0.5))\n",
        "\n",
        "cnn4.add(tf.keras.layers.Dense(10, activation='softmax'))\n",
        "# Take a look at the model summary\n",
        "\n",
        "model = cnn4\n",
        "model.summary()"
      ],
      "execution_count": 17,
      "outputs": [
        {
          "output_type": "stream",
          "text": [
            "_________________________________________________________________\n",
            "Layer (type)                 Output Shape              Param #   \n",
            "=================================================================\n",
            "conv2d_4 (Conv2D)            (None, 26, 26, 32)        320       \n",
            "_________________________________________________________________\n",
            "batch_normalization_6 (Batch (None, 26, 26, 32)        128       \n",
            "_________________________________________________________________\n",
            "conv2d_5 (Conv2D)            (None, 24, 24, 32)        9248      \n",
            "_________________________________________________________________\n",
            "batch_normalization_7 (Batch (None, 24, 24, 32)        128       \n",
            "_________________________________________________________________\n",
            "max_pooling2d_2 (MaxPooling2 (None, 12, 12, 32)        0         \n",
            "_________________________________________________________________\n",
            "dropout_5 (Dropout)          (None, 12, 12, 32)        0         \n",
            "_________________________________________________________________\n",
            "conv2d_6 (Conv2D)            (None, 10, 10, 64)        18496     \n",
            "_________________________________________________________________\n",
            "batch_normalization_8 (Batch (None, 10, 10, 64)        256       \n",
            "_________________________________________________________________\n",
            "dropout_6 (Dropout)          (None, 10, 10, 64)        0         \n",
            "_________________________________________________________________\n",
            "conv2d_7 (Conv2D)            (None, 8, 8, 128)         73856     \n",
            "_________________________________________________________________\n",
            "batch_normalization_9 (Batch (None, 8, 8, 128)         512       \n",
            "_________________________________________________________________\n",
            "max_pooling2d_3 (MaxPooling2 (None, 4, 4, 128)         0         \n",
            "_________________________________________________________________\n",
            "dropout_7 (Dropout)          (None, 4, 4, 128)         0         \n",
            "_________________________________________________________________\n",
            "flatten_1 (Flatten)          (None, 2048)              0         \n",
            "_________________________________________________________________\n",
            "dense_3 (Dense)              (None, 512)               1049088   \n",
            "_________________________________________________________________\n",
            "batch_normalization_10 (Batc (None, 512)               2048      \n",
            "_________________________________________________________________\n",
            "dropout_8 (Dropout)          (None, 512)               0         \n",
            "_________________________________________________________________\n",
            "dense_4 (Dense)              (None, 128)               65664     \n",
            "_________________________________________________________________\n",
            "batch_normalization_11 (Batc (None, 128)               512       \n",
            "_________________________________________________________________\n",
            "dropout_9 (Dropout)          (None, 128)               0         \n",
            "_________________________________________________________________\n",
            "dense_5 (Dense)              (None, 10)                1290      \n",
            "=================================================================\n",
            "Total params: 1,221,546\n",
            "Trainable params: 1,219,754\n",
            "Non-trainable params: 1,792\n",
            "_________________________________________________________________\n"
          ],
          "name": "stdout"
        }
      ]
    },
    {
      "metadata": {
        "id": "K4OC2NMMYIVY",
        "colab_type": "text"
      },
      "cell_type": "markdown",
      "source": [
        "# Plot the model"
      ]
    },
    {
      "metadata": {
        "id": "ohOcQ8LZYMPC",
        "colab_type": "code",
        "outputId": "3b65e53c-b84b-443e-e124-ab9252e01dcc",
        "colab": {
          "base_uri": "https://localhost:8080/",
          "height": 2125
        }
      },
      "cell_type": "code",
      "source": [
        "plot_model(model, to_file='model.png')\n",
        "SVG(model_to_dot(model).create(prog='dot', format='svg'))"
      ],
      "execution_count": 18,
      "outputs": [
        {
          "output_type": "execute_result",
          "data": {
            "text/plain": [
              "<IPython.core.display.SVG object>"
            ],
            "image/svg+xml": "<svg height=\"1578pt\" viewBox=\"0.00 0.00 286.00 1578.00\" width=\"286pt\" xmlns=\"http://www.w3.org/2000/svg\" xmlns:xlink=\"http://www.w3.org/1999/xlink\">\n<g class=\"graph\" id=\"graph0\" transform=\"scale(1 1) rotate(0) translate(4 1574)\">\n<title>G</title>\n<polygon fill=\"#ffffff\" points=\"-4,4 -4,-1574 282,-1574 282,4 -4,4\" stroke=\"transparent\"/>\n<!-- 139940847298824 -->\n<g class=\"node\" id=\"node1\">\n<title>139940847298824</title>\n<polygon fill=\"none\" points=\"72.5,-1460.5 72.5,-1496.5 205.5,-1496.5 205.5,-1460.5 72.5,-1460.5\" stroke=\"#000000\"/>\n<text fill=\"#000000\" font-family=\"Times,serif\" font-size=\"14.00\" text-anchor=\"middle\" x=\"139\" y=\"-1474.8\">conv2d_4: Conv2D</text>\n</g>\n<!-- 139940847299160 -->\n<g class=\"node\" id=\"node2\">\n<title>139940847299160</title>\n<polygon fill=\"none\" points=\"3.5,-1387.5 3.5,-1423.5 274.5,-1423.5 274.5,-1387.5 3.5,-1387.5\" stroke=\"#000000\"/>\n<text fill=\"#000000\" font-family=\"Times,serif\" font-size=\"14.00\" text-anchor=\"middle\" x=\"139\" y=\"-1401.8\">batch_normalization_6: BatchNormalization</text>\n</g>\n<!-- 139940847298824&#45;&gt;139940847299160 -->\n<g class=\"edge\" id=\"edge2\">\n<title>139940847298824-&gt;139940847299160</title>\n<path d=\"M139,-1460.4551C139,-1452.3828 139,-1442.6764 139,-1433.6817\" fill=\"none\" stroke=\"#000000\"/>\n<polygon fill=\"#000000\" points=\"142.5001,-1433.5903 139,-1423.5904 135.5001,-1433.5904 142.5001,-1433.5903\" stroke=\"#000000\"/>\n</g>\n<!-- 139940847299776 -->\n<g class=\"node\" id=\"node3\">\n<title>139940847299776</title>\n<polygon fill=\"none\" points=\"72.5,-1314.5 72.5,-1350.5 205.5,-1350.5 205.5,-1314.5 72.5,-1314.5\" stroke=\"#000000\"/>\n<text fill=\"#000000\" font-family=\"Times,serif\" font-size=\"14.00\" text-anchor=\"middle\" x=\"139\" y=\"-1328.8\">conv2d_5: Conv2D</text>\n</g>\n<!-- 139940847299160&#45;&gt;139940847299776 -->\n<g class=\"edge\" id=\"edge3\">\n<title>139940847299160-&gt;139940847299776</title>\n<path d=\"M139,-1387.4551C139,-1379.3828 139,-1369.6764 139,-1360.6817\" fill=\"none\" stroke=\"#000000\"/>\n<polygon fill=\"#000000\" points=\"142.5001,-1360.5903 139,-1350.5904 135.5001,-1360.5904 142.5001,-1360.5903\" stroke=\"#000000\"/>\n</g>\n<!-- 139940847370648 -->\n<g class=\"node\" id=\"node4\">\n<title>139940847370648</title>\n<polygon fill=\"none\" points=\"3.5,-1241.5 3.5,-1277.5 274.5,-1277.5 274.5,-1241.5 3.5,-1241.5\" stroke=\"#000000\"/>\n<text fill=\"#000000\" font-family=\"Times,serif\" font-size=\"14.00\" text-anchor=\"middle\" x=\"139\" y=\"-1255.8\">batch_normalization_7: BatchNormalization</text>\n</g>\n<!-- 139940847299776&#45;&gt;139940847370648 -->\n<g class=\"edge\" id=\"edge4\">\n<title>139940847299776-&gt;139940847370648</title>\n<path d=\"M139,-1314.4551C139,-1306.3828 139,-1296.6764 139,-1287.6817\" fill=\"none\" stroke=\"#000000\"/>\n<polygon fill=\"#000000\" points=\"142.5001,-1287.5903 139,-1277.5904 135.5001,-1287.5904 142.5001,-1287.5903\" stroke=\"#000000\"/>\n</g>\n<!-- 139940846740760 -->\n<g class=\"node\" id=\"node5\">\n<title>139940846740760</title>\n<polygon fill=\"none\" points=\"28.5,-1168.5 28.5,-1204.5 249.5,-1204.5 249.5,-1168.5 28.5,-1168.5\" stroke=\"#000000\"/>\n<text fill=\"#000000\" font-family=\"Times,serif\" font-size=\"14.00\" text-anchor=\"middle\" x=\"139\" y=\"-1182.8\">max_pooling2d_2: MaxPooling2D</text>\n</g>\n<!-- 139940847370648&#45;&gt;139940846740760 -->\n<g class=\"edge\" id=\"edge5\">\n<title>139940847370648-&gt;139940846740760</title>\n<path d=\"M139,-1241.4551C139,-1233.3828 139,-1223.6764 139,-1214.6817\" fill=\"none\" stroke=\"#000000\"/>\n<polygon fill=\"#000000\" points=\"142.5001,-1214.5903 139,-1204.5904 135.5001,-1214.5904 142.5001,-1214.5903\" stroke=\"#000000\"/>\n</g>\n<!-- 139940846538536 -->\n<g class=\"node\" id=\"node6\">\n<title>139940846538536</title>\n<polygon fill=\"none\" points=\"72,-1095.5 72,-1131.5 206,-1131.5 206,-1095.5 72,-1095.5\" stroke=\"#000000\"/>\n<text fill=\"#000000\" font-family=\"Times,serif\" font-size=\"14.00\" text-anchor=\"middle\" x=\"139\" y=\"-1109.8\">dropout_5: Dropout</text>\n</g>\n<!-- 139940846740760&#45;&gt;139940846538536 -->\n<g class=\"edge\" id=\"edge6\">\n<title>139940846740760-&gt;139940846538536</title>\n<path d=\"M139,-1168.4551C139,-1160.3828 139,-1150.6764 139,-1141.6817\" fill=\"none\" stroke=\"#000000\"/>\n<polygon fill=\"#000000\" points=\"142.5001,-1141.5903 139,-1131.5904 135.5001,-1141.5904 142.5001,-1141.5903\" stroke=\"#000000\"/>\n</g>\n<!-- 139940847371376 -->\n<g class=\"node\" id=\"node7\">\n<title>139940847371376</title>\n<polygon fill=\"none\" points=\"72.5,-1022.5 72.5,-1058.5 205.5,-1058.5 205.5,-1022.5 72.5,-1022.5\" stroke=\"#000000\"/>\n<text fill=\"#000000\" font-family=\"Times,serif\" font-size=\"14.00\" text-anchor=\"middle\" x=\"139\" y=\"-1036.8\">conv2d_6: Conv2D</text>\n</g>\n<!-- 139940846538536&#45;&gt;139940847371376 -->\n<g class=\"edge\" id=\"edge7\">\n<title>139940846538536-&gt;139940847371376</title>\n<path d=\"M139,-1095.4551C139,-1087.3828 139,-1077.6764 139,-1068.6817\" fill=\"none\" stroke=\"#000000\"/>\n<polygon fill=\"#000000\" points=\"142.5001,-1068.5903 139,-1058.5904 135.5001,-1068.5904 142.5001,-1068.5903\" stroke=\"#000000\"/>\n</g>\n<!-- 139940846536576 -->\n<g class=\"node\" id=\"node8\">\n<title>139940846536576</title>\n<polygon fill=\"none\" points=\"3.5,-949.5 3.5,-985.5 274.5,-985.5 274.5,-949.5 3.5,-949.5\" stroke=\"#000000\"/>\n<text fill=\"#000000\" font-family=\"Times,serif\" font-size=\"14.00\" text-anchor=\"middle\" x=\"139\" y=\"-963.8\">batch_normalization_8: BatchNormalization</text>\n</g>\n<!-- 139940847371376&#45;&gt;139940846536576 -->\n<g class=\"edge\" id=\"edge8\">\n<title>139940847371376-&gt;139940846536576</title>\n<path d=\"M139,-1022.4551C139,-1014.3828 139,-1004.6764 139,-995.6817\" fill=\"none\" stroke=\"#000000\"/>\n<polygon fill=\"#000000\" points=\"142.5001,-995.5903 139,-985.5904 135.5001,-995.5904 142.5001,-995.5903\" stroke=\"#000000\"/>\n</g>\n<!-- 139940845803448 -->\n<g class=\"node\" id=\"node9\">\n<title>139940845803448</title>\n<polygon fill=\"none\" points=\"72,-876.5 72,-912.5 206,-912.5 206,-876.5 72,-876.5\" stroke=\"#000000\"/>\n<text fill=\"#000000\" font-family=\"Times,serif\" font-size=\"14.00\" text-anchor=\"middle\" x=\"139\" y=\"-890.8\">dropout_6: Dropout</text>\n</g>\n<!-- 139940846536576&#45;&gt;139940845803448 -->\n<g class=\"edge\" id=\"edge9\">\n<title>139940846536576-&gt;139940845803448</title>\n<path d=\"M139,-949.4551C139,-941.3828 139,-931.6764 139,-922.6817\" fill=\"none\" stroke=\"#000000\"/>\n<polygon fill=\"#000000\" points=\"142.5001,-922.5903 139,-912.5904 135.5001,-922.5904 142.5001,-922.5903\" stroke=\"#000000\"/>\n</g>\n<!-- 139940845408208 -->\n<g class=\"node\" id=\"node10\">\n<title>139940845408208</title>\n<polygon fill=\"none\" points=\"72.5,-803.5 72.5,-839.5 205.5,-839.5 205.5,-803.5 72.5,-803.5\" stroke=\"#000000\"/>\n<text fill=\"#000000\" font-family=\"Times,serif\" font-size=\"14.00\" text-anchor=\"middle\" x=\"139\" y=\"-817.8\">conv2d_7: Conv2D</text>\n</g>\n<!-- 139940845803448&#45;&gt;139940845408208 -->\n<g class=\"edge\" id=\"edge10\">\n<title>139940845803448-&gt;139940845408208</title>\n<path d=\"M139,-876.4551C139,-868.3828 139,-858.6764 139,-849.6817\" fill=\"none\" stroke=\"#000000\"/>\n<polygon fill=\"#000000\" points=\"142.5001,-849.5903 139,-839.5904 135.5001,-849.5904 142.5001,-849.5903\" stroke=\"#000000\"/>\n</g>\n<!-- 139940845652680 -->\n<g class=\"node\" id=\"node11\">\n<title>139940845652680</title>\n<polygon fill=\"none\" points=\"3.5,-730.5 3.5,-766.5 274.5,-766.5 274.5,-730.5 3.5,-730.5\" stroke=\"#000000\"/>\n<text fill=\"#000000\" font-family=\"Times,serif\" font-size=\"14.00\" text-anchor=\"middle\" x=\"139\" y=\"-744.8\">batch_normalization_9: BatchNormalization</text>\n</g>\n<!-- 139940845408208&#45;&gt;139940845652680 -->\n<g class=\"edge\" id=\"edge11\">\n<title>139940845408208-&gt;139940845652680</title>\n<path d=\"M139,-803.4551C139,-795.3828 139,-785.6764 139,-776.6817\" fill=\"none\" stroke=\"#000000\"/>\n<polygon fill=\"#000000\" points=\"142.5001,-776.5903 139,-766.5904 135.5001,-776.5904 142.5001,-776.5903\" stroke=\"#000000\"/>\n</g>\n<!-- 139940846658728 -->\n<g class=\"node\" id=\"node12\">\n<title>139940846658728</title>\n<polygon fill=\"none\" points=\"28.5,-657.5 28.5,-693.5 249.5,-693.5 249.5,-657.5 28.5,-657.5\" stroke=\"#000000\"/>\n<text fill=\"#000000\" font-family=\"Times,serif\" font-size=\"14.00\" text-anchor=\"middle\" x=\"139\" y=\"-671.8\">max_pooling2d_3: MaxPooling2D</text>\n</g>\n<!-- 139940845652680&#45;&gt;139940846658728 -->\n<g class=\"edge\" id=\"edge12\">\n<title>139940845652680-&gt;139940846658728</title>\n<path d=\"M139,-730.4551C139,-722.3828 139,-712.6764 139,-703.6817\" fill=\"none\" stroke=\"#000000\"/>\n<polygon fill=\"#000000\" points=\"142.5001,-703.5903 139,-693.5904 135.5001,-703.5904 142.5001,-703.5903\" stroke=\"#000000\"/>\n</g>\n<!-- 139940845545064 -->\n<g class=\"node\" id=\"node13\">\n<title>139940845545064</title>\n<polygon fill=\"none\" points=\"72,-584.5 72,-620.5 206,-620.5 206,-584.5 72,-584.5\" stroke=\"#000000\"/>\n<text fill=\"#000000\" font-family=\"Times,serif\" font-size=\"14.00\" text-anchor=\"middle\" x=\"139\" y=\"-598.8\">dropout_7: Dropout</text>\n</g>\n<!-- 139940846658728&#45;&gt;139940845545064 -->\n<g class=\"edge\" id=\"edge13\">\n<title>139940846658728-&gt;139940845545064</title>\n<path d=\"M139,-657.4551C139,-649.3828 139,-639.6764 139,-630.6817\" fill=\"none\" stroke=\"#000000\"/>\n<polygon fill=\"#000000\" points=\"142.5001,-630.5903 139,-620.5904 135.5001,-630.5904 142.5001,-630.5903\" stroke=\"#000000\"/>\n</g>\n<!-- 139940846657944 -->\n<g class=\"node\" id=\"node14\">\n<title>139940846657944</title>\n<polygon fill=\"none\" points=\"82.5,-511.5 82.5,-547.5 195.5,-547.5 195.5,-511.5 82.5,-511.5\" stroke=\"#000000\"/>\n<text fill=\"#000000\" font-family=\"Times,serif\" font-size=\"14.00\" text-anchor=\"middle\" x=\"139\" y=\"-525.8\">flatten_1: Flatten</text>\n</g>\n<!-- 139940845545064&#45;&gt;139940846657944 -->\n<g class=\"edge\" id=\"edge14\">\n<title>139940845545064-&gt;139940846657944</title>\n<path d=\"M139,-584.4551C139,-576.3828 139,-566.6764 139,-557.6817\" fill=\"none\" stroke=\"#000000\"/>\n<polygon fill=\"#000000\" points=\"142.5001,-557.5903 139,-547.5904 135.5001,-557.5904 142.5001,-557.5903\" stroke=\"#000000\"/>\n</g>\n<!-- 139940844809128 -->\n<g class=\"node\" id=\"node15\">\n<title>139940844809128</title>\n<polygon fill=\"none\" points=\"85.5,-438.5 85.5,-474.5 192.5,-474.5 192.5,-438.5 85.5,-438.5\" stroke=\"#000000\"/>\n<text fill=\"#000000\" font-family=\"Times,serif\" font-size=\"14.00\" text-anchor=\"middle\" x=\"139\" y=\"-452.8\">dense_3: Dense</text>\n</g>\n<!-- 139940846657944&#45;&gt;139940844809128 -->\n<g class=\"edge\" id=\"edge15\">\n<title>139940846657944-&gt;139940844809128</title>\n<path d=\"M139,-511.4551C139,-503.3828 139,-493.6764 139,-484.6817\" fill=\"none\" stroke=\"#000000\"/>\n<polygon fill=\"#000000\" points=\"142.5001,-484.5903 139,-474.5904 135.5001,-484.5904 142.5001,-484.5903\" stroke=\"#000000\"/>\n</g>\n<!-- 139940844806328 -->\n<g class=\"node\" id=\"node16\">\n<title>139940844806328</title>\n<polygon fill=\"none\" points=\"0,-365.5 0,-401.5 278,-401.5 278,-365.5 0,-365.5\" stroke=\"#000000\"/>\n<text fill=\"#000000\" font-family=\"Times,serif\" font-size=\"14.00\" text-anchor=\"middle\" x=\"139\" y=\"-379.8\">batch_normalization_10: BatchNormalization</text>\n</g>\n<!-- 139940844809128&#45;&gt;139940844806328 -->\n<g class=\"edge\" id=\"edge16\">\n<title>139940844809128-&gt;139940844806328</title>\n<path d=\"M139,-438.4551C139,-430.3828 139,-420.6764 139,-411.6817\" fill=\"none\" stroke=\"#000000\"/>\n<polygon fill=\"#000000\" points=\"142.5001,-411.5903 139,-401.5904 135.5001,-411.5904 142.5001,-411.5903\" stroke=\"#000000\"/>\n</g>\n<!-- 139940844422200 -->\n<g class=\"node\" id=\"node17\">\n<title>139940844422200</title>\n<polygon fill=\"none\" points=\"72,-292.5 72,-328.5 206,-328.5 206,-292.5 72,-292.5\" stroke=\"#000000\"/>\n<text fill=\"#000000\" font-family=\"Times,serif\" font-size=\"14.00\" text-anchor=\"middle\" x=\"139\" y=\"-306.8\">dropout_8: Dropout</text>\n</g>\n<!-- 139940844806328&#45;&gt;139940844422200 -->\n<g class=\"edge\" id=\"edge17\">\n<title>139940844806328-&gt;139940844422200</title>\n<path d=\"M139,-365.4551C139,-357.3828 139,-347.6764 139,-338.6817\" fill=\"none\" stroke=\"#000000\"/>\n<polygon fill=\"#000000\" points=\"142.5001,-338.5903 139,-328.5904 135.5001,-338.5904 142.5001,-338.5903\" stroke=\"#000000\"/>\n</g>\n<!-- 139940843974216 -->\n<g class=\"node\" id=\"node18\">\n<title>139940843974216</title>\n<polygon fill=\"none\" points=\"85.5,-219.5 85.5,-255.5 192.5,-255.5 192.5,-219.5 85.5,-219.5\" stroke=\"#000000\"/>\n<text fill=\"#000000\" font-family=\"Times,serif\" font-size=\"14.00\" text-anchor=\"middle\" x=\"139\" y=\"-233.8\">dense_4: Dense</text>\n</g>\n<!-- 139940844422200&#45;&gt;139940843974216 -->\n<g class=\"edge\" id=\"edge18\">\n<title>139940844422200-&gt;139940843974216</title>\n<path d=\"M139,-292.4551C139,-284.3828 139,-274.6764 139,-265.6817\" fill=\"none\" stroke=\"#000000\"/>\n<polygon fill=\"#000000\" points=\"142.5001,-265.5903 139,-255.5904 135.5001,-265.5904 142.5001,-265.5903\" stroke=\"#000000\"/>\n</g>\n<!-- 139940843971024 -->\n<g class=\"node\" id=\"node19\">\n<title>139940843971024</title>\n<polygon fill=\"none\" points=\"0,-146.5 0,-182.5 278,-182.5 278,-146.5 0,-146.5\" stroke=\"#000000\"/>\n<text fill=\"#000000\" font-family=\"Times,serif\" font-size=\"14.00\" text-anchor=\"middle\" x=\"139\" y=\"-160.8\">batch_normalization_11: BatchNormalization</text>\n</g>\n<!-- 139940843974216&#45;&gt;139940843971024 -->\n<g class=\"edge\" id=\"edge19\">\n<title>139940843974216-&gt;139940843971024</title>\n<path d=\"M139,-219.4551C139,-211.3828 139,-201.6764 139,-192.6817\" fill=\"none\" stroke=\"#000000\"/>\n<polygon fill=\"#000000\" points=\"142.5001,-192.5903 139,-182.5904 135.5001,-192.5904 142.5001,-192.5903\" stroke=\"#000000\"/>\n</g>\n<!-- 139940842810336 -->\n<g class=\"node\" id=\"node20\">\n<title>139940842810336</title>\n<polygon fill=\"none\" points=\"72,-73.5 72,-109.5 206,-109.5 206,-73.5 72,-73.5\" stroke=\"#000000\"/>\n<text fill=\"#000000\" font-family=\"Times,serif\" font-size=\"14.00\" text-anchor=\"middle\" x=\"139\" y=\"-87.8\">dropout_9: Dropout</text>\n</g>\n<!-- 139940843971024&#45;&gt;139940842810336 -->\n<g class=\"edge\" id=\"edge20\">\n<title>139940843971024-&gt;139940842810336</title>\n<path d=\"M139,-146.4551C139,-138.3828 139,-128.6764 139,-119.6817\" fill=\"none\" stroke=\"#000000\"/>\n<polygon fill=\"#000000\" points=\"142.5001,-119.5903 139,-109.5904 135.5001,-119.5904 142.5001,-119.5903\" stroke=\"#000000\"/>\n</g>\n<!-- 139940843576232 -->\n<g class=\"node\" id=\"node21\">\n<title>139940843576232</title>\n<polygon fill=\"none\" points=\"85.5,-.5 85.5,-36.5 192.5,-36.5 192.5,-.5 85.5,-.5\" stroke=\"#000000\"/>\n<text fill=\"#000000\" font-family=\"Times,serif\" font-size=\"14.00\" text-anchor=\"middle\" x=\"139\" y=\"-14.8\">dense_5: Dense</text>\n</g>\n<!-- 139940842810336&#45;&gt;139940843576232 -->\n<g class=\"edge\" id=\"edge21\">\n<title>139940842810336-&gt;139940843576232</title>\n<path d=\"M139,-73.4551C139,-65.3828 139,-55.6764 139,-46.6817\" fill=\"none\" stroke=\"#000000\"/>\n<polygon fill=\"#000000\" points=\"142.5001,-46.5903 139,-36.5904 135.5001,-46.5904 142.5001,-46.5903\" stroke=\"#000000\"/>\n</g>\n<!-- 139940847299384 -->\n<g class=\"node\" id=\"node22\">\n<title>139940847299384</title>\n<polygon fill=\"none\" points=\"74.5,-1533.5 74.5,-1569.5 203.5,-1569.5 203.5,-1533.5 74.5,-1533.5\" stroke=\"#000000\"/>\n<text fill=\"#000000\" font-family=\"Times,serif\" font-size=\"14.00\" text-anchor=\"middle\" x=\"139\" y=\"-1547.8\">139940847299384</text>\n</g>\n<!-- 139940847299384&#45;&gt;139940847298824 -->\n<g class=\"edge\" id=\"edge1\">\n<title>139940847299384-&gt;139940847298824</title>\n<path d=\"M139,-1533.4551C139,-1525.3828 139,-1515.6764 139,-1506.6817\" fill=\"none\" stroke=\"#000000\"/>\n<polygon fill=\"#000000\" points=\"142.5001,-1506.5903 139,-1496.5904 135.5001,-1506.5904 142.5001,-1506.5903\" stroke=\"#000000\"/>\n</g>\n</g>\n</svg>"
          },
          "metadata": {
            "tags": []
          },
          "execution_count": 18
        }
      ]
    },
    {
      "metadata": {
        "id": "MJbhSzR1GGzB",
        "colab_type": "text"
      },
      "cell_type": "markdown",
      "source": [
        "# Compile the model"
      ]
    },
    {
      "metadata": {
        "id": "BL6X9ncyGJEU",
        "colab_type": "code",
        "colab": {}
      },
      "cell_type": "code",
      "source": [
        "model.compile(loss='categorical_crossentropy',\n",
        "             optimizer='adam',\n",
        "             metrics=['accuracy'])"
      ],
      "execution_count": 0,
      "outputs": []
    },
    {
      "metadata": {
        "id": "gtVF2f0RGeSA",
        "colab_type": "text"
      },
      "cell_type": "markdown",
      "source": [
        "# Train the model\n",
        "\n",
        "Using the .fit() API"
      ]
    },
    {
      "metadata": {
        "id": "gW3EUnrBGiVf",
        "colab_type": "code",
        "outputId": "4ff95399-7819-4aee-fab0-73be665e5878",
        "colab": {
          "base_uri": "https://localhost:8080/",
          "height": 3247
        }
      },
      "cell_type": "code",
      "source": [
        "from keras.callbacks import ModelCheckpoint\n",
        "\n",
        "checkpointer = ModelCheckpoint(filepath='model.weights.best.hdf5', verbose = 1, save_best_only=True)\n",
        "model.fit_generator(\n",
        "         train_batch,\n",
        "         steps_per_epoch=len(x_train) / 256,\n",
        "         epochs=50,\n",
        "         validation_data=val_batch,\n",
        "         use_multiprocessing=True,\n",
        "         callbacks=[checkpointer])"
      ],
      "execution_count": 0,
      "outputs": [
        {
          "output_type": "stream",
          "text": [
            "Epoch 1/50\n",
            "214/214 [============================>.] - ETA: 0s - loss: 0.8803 - acc: 0.6874\n",
            "Epoch 00001: val_loss improved from inf to 3.03312, saving model to model.weights.best.hdf5\n",
            "215/214 [==============================] - 28s 131ms/step - loss: 0.8789 - acc: 0.6878 - val_loss: 3.0331 - val_acc: 0.1698\n",
            "Epoch 2/50\n",
            "214/214 [============================>.] - ETA: 0s - loss: 0.5542 - acc: 0.7944\n",
            "Epoch 00002: val_loss improved from 3.03312 to 1.50057, saving model to model.weights.best.hdf5\n",
            "215/214 [==============================] - 22s 103ms/step - loss: 0.5545 - acc: 0.7942 - val_loss: 1.5006 - val_acc: 0.5560\n",
            "Epoch 3/50\n",
            "214/214 [============================>.] - ETA: 0s - loss: 0.4811 - acc: 0.8219\n",
            "Epoch 00003: val_loss improved from 1.50057 to 0.42810, saving model to model.weights.best.hdf5\n",
            "215/214 [==============================] - 22s 104ms/step - loss: 0.4810 - acc: 0.8220 - val_loss: 0.4281 - val_acc: 0.8430\n",
            "Epoch 4/50\n",
            "214/214 [============================>.] - ETA: 0s - loss: 0.4372 - acc: 0.8400\n",
            "Epoch 00004: val_loss improved from 0.42810 to 0.35575, saving model to model.weights.best.hdf5\n",
            "215/214 [==============================] - 22s 102ms/step - loss: 0.4371 - acc: 0.8400 - val_loss: 0.3557 - val_acc: 0.8684\n",
            "Epoch 5/50\n",
            "214/214 [============================>.] - ETA: 0s - loss: 0.4074 - acc: 0.8509\n",
            "Epoch 00005: val_loss improved from 0.35575 to 0.31984, saving model to model.weights.best.hdf5\n",
            "215/214 [==============================] - 22s 104ms/step - loss: 0.4077 - acc: 0.8508 - val_loss: 0.3198 - val_acc: 0.8824\n",
            "Epoch 6/50\n",
            "214/214 [============================>.] - ETA: 0s - loss: 0.3828 - acc: 0.8617\n",
            "Epoch 00006: val_loss improved from 0.31984 to 0.31858, saving model to model.weights.best.hdf5\n",
            "215/214 [==============================] - 22s 103ms/step - loss: 0.3829 - acc: 0.8617 - val_loss: 0.3186 - val_acc: 0.8798\n",
            "Epoch 7/50\n",
            "214/214 [============================>.] - ETA: 0s - loss: 0.3656 - acc: 0.8666\n",
            "Epoch 00007: val_loss improved from 0.31858 to 0.30858, saving model to model.weights.best.hdf5\n",
            "215/214 [==============================] - 22s 103ms/step - loss: 0.3658 - acc: 0.8665 - val_loss: 0.3086 - val_acc: 0.8826\n",
            "Epoch 8/50\n",
            "214/214 [============================>.] - ETA: 0s - loss: 0.3554 - acc: 0.8700\n",
            "Epoch 00008: val_loss improved from 0.30858 to 0.29038, saving model to model.weights.best.hdf5\n",
            "215/214 [==============================] - 22s 102ms/step - loss: 0.3551 - acc: 0.8701 - val_loss: 0.2904 - val_acc: 0.8930\n",
            "Epoch 9/50\n",
            "214/214 [============================>.] - ETA: 0s - loss: 0.3384 - acc: 0.8767\n",
            "Epoch 00009: val_loss improved from 0.29038 to 0.26601, saving model to model.weights.best.hdf5\n",
            "215/214 [==============================] - 22s 102ms/step - loss: 0.3379 - acc: 0.8768 - val_loss: 0.2660 - val_acc: 0.9014\n",
            "Epoch 10/50\n",
            "214/214 [============================>.] - ETA: 0s - loss: 0.3292 - acc: 0.8793\n",
            "Epoch 00010: val_loss did not improve from 0.26601\n",
            "215/214 [==============================] - 22s 101ms/step - loss: 0.3290 - acc: 0.8793 - val_loss: 0.2762 - val_acc: 0.8976\n",
            "Epoch 11/50\n",
            "214/214 [============================>.] - ETA: 0s - loss: 0.3221 - acc: 0.8823\n",
            "Epoch 00011: val_loss did not improve from 0.26601\n",
            "215/214 [==============================] - 22s 100ms/step - loss: 0.3218 - acc: 0.8824 - val_loss: 0.2706 - val_acc: 0.9002\n",
            "Epoch 12/50\n",
            "214/214 [============================>.] - ETA: 0s - loss: 0.3163 - acc: 0.8850\n",
            "Epoch 00012: val_loss did not improve from 0.26601\n",
            "215/214 [==============================] - 22s 102ms/step - loss: 0.3164 - acc: 0.8851 - val_loss: 0.2719 - val_acc: 0.9002\n",
            "Epoch 13/50\n",
            "214/214 [============================>.] - ETA: 0s - loss: 0.3100 - acc: 0.8880\n",
            "Epoch 00013: val_loss improved from 0.26601 to 0.26162, saving model to model.weights.best.hdf5\n",
            "215/214 [==============================] - 22s 100ms/step - loss: 0.3099 - acc: 0.8880 - val_loss: 0.2616 - val_acc: 0.9040\n",
            "Epoch 14/50\n",
            "214/214 [============================>.] - ETA: 0s - loss: 0.3066 - acc: 0.8908\n",
            "Epoch 00014: val_loss did not improve from 0.26162\n",
            "215/214 [==============================] - 22s 104ms/step - loss: 0.3065 - acc: 0.8908 - val_loss: 0.2985 - val_acc: 0.8884\n",
            "Epoch 15/50\n",
            "214/214 [============================>.] - ETA: 0s - loss: 0.3001 - acc: 0.8904\n",
            "Epoch 00015: val_loss improved from 0.26162 to 0.25860, saving model to model.weights.best.hdf5\n",
            "215/214 [==============================] - 22s 102ms/step - loss: 0.3000 - acc: 0.8905 - val_loss: 0.2586 - val_acc: 0.9044\n",
            "Epoch 16/50\n",
            "214/214 [============================>.] - ETA: 0s - loss: 0.2905 - acc: 0.8946\n",
            "Epoch 00016: val_loss improved from 0.25860 to 0.24768, saving model to model.weights.best.hdf5\n",
            "215/214 [==============================] - 22s 104ms/step - loss: 0.2904 - acc: 0.8947 - val_loss: 0.2477 - val_acc: 0.9024\n",
            "Epoch 17/50\n",
            "214/214 [============================>.] - ETA: 0s - loss: 0.2869 - acc: 0.8963\n",
            "Epoch 00017: val_loss did not improve from 0.24768\n",
            "215/214 [==============================] - 22s 102ms/step - loss: 0.2873 - acc: 0.8961 - val_loss: 0.2487 - val_acc: 0.9072\n",
            "Epoch 18/50\n",
            "214/214 [============================>.] - ETA: 0s - loss: 0.2824 - acc: 0.8966\n",
            "Epoch 00018: val_loss did not improve from 0.24768\n",
            "215/214 [==============================] - 23s 105ms/step - loss: 0.2826 - acc: 0.8964 - val_loss: 0.2490 - val_acc: 0.9058\n",
            "Epoch 19/50\n",
            "214/214 [============================>.] - ETA: 0s - loss: 0.2809 - acc: 0.8972\n",
            "Epoch 00019: val_loss improved from 0.24768 to 0.23222, saving model to model.weights.best.hdf5\n",
            "215/214 [==============================] - 22s 103ms/step - loss: 0.2807 - acc: 0.8972 - val_loss: 0.2322 - val_acc: 0.9128\n",
            "Epoch 20/50\n",
            "214/214 [============================>.] - ETA: 0s - loss: 0.2805 - acc: 0.8969\n",
            "Epoch 00020: val_loss improved from 0.23222 to 0.22235, saving model to model.weights.best.hdf5\n",
            "215/214 [==============================] - 22s 103ms/step - loss: 0.2802 - acc: 0.8970 - val_loss: 0.2223 - val_acc: 0.9198\n",
            "Epoch 21/50\n",
            "214/214 [============================>.] - ETA: 0s - loss: 0.2738 - acc: 0.9005\n",
            "Epoch 00021: val_loss did not improve from 0.22235\n",
            "215/214 [==============================] - 22s 101ms/step - loss: 0.2739 - acc: 0.9005 - val_loss: 0.2444 - val_acc: 0.9082\n",
            "Epoch 22/50\n",
            "214/214 [============================>.] - ETA: 0s - loss: 0.2669 - acc: 0.9047\n",
            "Epoch 00022: val_loss did not improve from 0.22235\n",
            "215/214 [==============================] - 22s 102ms/step - loss: 0.2667 - acc: 0.9048 - val_loss: 0.2988 - val_acc: 0.8976\n",
            "Epoch 23/50\n",
            "214/214 [============================>.] - ETA: 0s - loss: 0.2699 - acc: 0.9029\n",
            "Epoch 00023: val_loss did not improve from 0.22235\n",
            "215/214 [==============================] - 22s 102ms/step - loss: 0.2700 - acc: 0.9030 - val_loss: 0.2463 - val_acc: 0.9064\n",
            "Epoch 24/50\n",
            "214/214 [============================>.] - ETA: 0s - loss: 0.2661 - acc: 0.9050\n",
            "Epoch 00024: val_loss did not improve from 0.22235\n",
            "215/214 [==============================] - 22s 101ms/step - loss: 0.2665 - acc: 0.9048 - val_loss: 0.2420 - val_acc: 0.9118\n",
            "Epoch 25/50\n",
            "214/214 [============================>.] - ETA: 0s - loss: 0.2647 - acc: 0.9031\n",
            "Epoch 00025: val_loss did not improve from 0.22235\n",
            "215/214 [==============================] - 23s 105ms/step - loss: 0.2649 - acc: 0.9030 - val_loss: 0.2387 - val_acc: 0.9124\n",
            "Epoch 26/50\n",
            "214/214 [============================>.] - ETA: 0s - loss: 0.2562 - acc: 0.9078\n",
            "Epoch 00026: val_loss did not improve from 0.22235\n",
            "215/214 [==============================] - 22s 103ms/step - loss: 0.2561 - acc: 0.9079 - val_loss: 0.2348 - val_acc: 0.9112\n",
            "Epoch 27/50\n",
            "214/214 [============================>.] - ETA: 0s - loss: 0.2597 - acc: 0.9074\n",
            "Epoch 00027: val_loss did not improve from 0.22235\n",
            "215/214 [==============================] - 23s 105ms/step - loss: 0.2596 - acc: 0.9074 - val_loss: 0.2287 - val_acc: 0.9152\n",
            "Epoch 28/50\n",
            "214/214 [============================>.] - ETA: 0s - loss: 0.2554 - acc: 0.9082\n",
            "Epoch 00028: val_loss improved from 0.22235 to 0.21846, saving model to model.weights.best.hdf5\n",
            "215/214 [==============================] - 23s 105ms/step - loss: 0.2555 - acc: 0.9082 - val_loss: 0.2185 - val_acc: 0.9206\n",
            "Epoch 29/50\n",
            "214/214 [============================>.] - ETA: 0s - loss: 0.2506 - acc: 0.9097\n",
            "Epoch 00029: val_loss did not improve from 0.21846\n",
            "215/214 [==============================] - 22s 104ms/step - loss: 0.2506 - acc: 0.9098 - val_loss: 0.2192 - val_acc: 0.9170\n",
            "Epoch 30/50\n",
            "214/214 [============================>.] - ETA: 0s - loss: 0.2482 - acc: 0.9099\n",
            "Epoch 00030: val_loss did not improve from 0.21846\n",
            "215/214 [==============================] - 22s 103ms/step - loss: 0.2481 - acc: 0.9100 - val_loss: 0.2290 - val_acc: 0.9144\n",
            "Epoch 31/50\n",
            "214/214 [============================>.] - ETA: 0s - loss: 0.2494 - acc: 0.9092\n",
            "Epoch 00031: val_loss did not improve from 0.21846\n",
            "215/214 [==============================] - 22s 104ms/step - loss: 0.2494 - acc: 0.9091 - val_loss: 0.2191 - val_acc: 0.9196\n",
            "Epoch 32/50\n",
            "214/214 [============================>.] - ETA: 0s - loss: 0.2477 - acc: 0.9100\n",
            "Epoch 00032: val_loss did not improve from 0.21846\n",
            "215/214 [==============================] - 22s 104ms/step - loss: 0.2474 - acc: 0.9101 - val_loss: 0.2273 - val_acc: 0.9164\n",
            "Epoch 33/50\n",
            "214/214 [============================>.] - ETA: 0s - loss: 0.2403 - acc: 0.9130\n",
            "Epoch 00033: val_loss did not improve from 0.21846\n",
            "215/214 [==============================] - 22s 104ms/step - loss: 0.2402 - acc: 0.9130 - val_loss: 0.2255 - val_acc: 0.9162\n",
            "Epoch 34/50\n",
            "214/214 [============================>.] - ETA: 0s - loss: 0.2424 - acc: 0.9128\n",
            "Epoch 00034: val_loss improved from 0.21846 to 0.21079, saving model to model.weights.best.hdf5\n",
            "215/214 [==============================] - 22s 104ms/step - loss: 0.2425 - acc: 0.9128 - val_loss: 0.2108 - val_acc: 0.9214\n",
            "Epoch 35/50\n",
            "214/214 [============================>.] - ETA: 0s - loss: 0.2381 - acc: 0.9134\n",
            "Epoch 00035: val_loss did not improve from 0.21079\n",
            "215/214 [==============================] - 22s 103ms/step - loss: 0.2379 - acc: 0.9135 - val_loss: 0.2156 - val_acc: 0.9222\n",
            "Epoch 36/50\n",
            "214/214 [============================>.] - ETA: 0s - loss: 0.2349 - acc: 0.9147\n",
            "Epoch 00036: val_loss did not improve from 0.21079\n",
            "215/214 [==============================] - 22s 103ms/step - loss: 0.2346 - acc: 0.9147 - val_loss: 0.2143 - val_acc: 0.9176\n",
            "Epoch 37/50\n",
            "214/214 [============================>.] - ETA: 0s - loss: 0.2350 - acc: 0.9154\n",
            "Epoch 00037: val_loss did not improve from 0.21079\n",
            "215/214 [==============================] - 22s 103ms/step - loss: 0.2352 - acc: 0.9153 - val_loss: 0.2162 - val_acc: 0.9198\n",
            "Epoch 38/50\n",
            "214/214 [============================>.] - ETA: 0s - loss: 0.2336 - acc: 0.9153\n",
            "Epoch 00038: val_loss did not improve from 0.21079\n",
            "215/214 [==============================] - 22s 104ms/step - loss: 0.2336 - acc: 0.9153 - val_loss: 0.2123 - val_acc: 0.9202\n",
            "Epoch 39/50\n",
            "214/214 [============================>.] - ETA: 0s - loss: 0.2378 - acc: 0.9147\n",
            "Epoch 00039: val_loss did not improve from 0.21079\n",
            "215/214 [==============================] - 22s 102ms/step - loss: 0.2376 - acc: 0.9148 - val_loss: 0.2116 - val_acc: 0.9282\n",
            "Epoch 40/50\n",
            "214/214 [============================>.] - ETA: 0s - loss: 0.2317 - acc: 0.9167\n",
            "Epoch 00040: val_loss improved from 0.21079 to 0.20331, saving model to model.weights.best.hdf5\n",
            "215/214 [==============================] - 22s 103ms/step - loss: 0.2319 - acc: 0.9166 - val_loss: 0.2033 - val_acc: 0.9252\n",
            "Epoch 41/50\n",
            "214/214 [============================>.] - ETA: 0s - loss: 0.2294 - acc: 0.9162\n",
            "Epoch 00041: val_loss improved from 0.20331 to 0.20115, saving model to model.weights.best.hdf5\n",
            "215/214 [==============================] - 22s 101ms/step - loss: 0.2293 - acc: 0.9162 - val_loss: 0.2011 - val_acc: 0.9232\n",
            "Epoch 42/50\n",
            "214/214 [============================>.] - ETA: 0s - loss: 0.2269 - acc: 0.9172\n",
            "Epoch 00042: val_loss did not improve from 0.20115\n",
            "215/214 [==============================] - 22s 101ms/step - loss: 0.2271 - acc: 0.9171 - val_loss: 0.2118 - val_acc: 0.9242\n",
            "Epoch 43/50\n",
            "214/214 [============================>.] - ETA: 0s - loss: 0.2233 - acc: 0.9185\n",
            "Epoch 00043: val_loss did not improve from 0.20115\n",
            "215/214 [==============================] - 22s 102ms/step - loss: 0.2234 - acc: 0.9185 - val_loss: 0.2023 - val_acc: 0.9236\n",
            "Epoch 44/50\n",
            "214/214 [============================>.] - ETA: 0s - loss: 0.2222 - acc: 0.9192\n",
            "Epoch 00044: val_loss improved from 0.20115 to 0.20009, saving model to model.weights.best.hdf5\n",
            "215/214 [==============================] - 23s 106ms/step - loss: 0.2220 - acc: 0.9193 - val_loss: 0.2001 - val_acc: 0.9294\n",
            "Epoch 45/50\n",
            "214/214 [============================>.] - ETA: 0s - loss: 0.2204 - acc: 0.9201\n",
            "Epoch 00045: val_loss did not improve from 0.20009\n",
            "215/214 [==============================] - 22s 102ms/step - loss: 0.2205 - acc: 0.9200 - val_loss: 0.2174 - val_acc: 0.9236\n",
            "Epoch 46/50\n",
            "214/214 [============================>.] - ETA: 0s - loss: 0.2219 - acc: 0.9196\n",
            "Epoch 00046: val_loss did not improve from 0.20009\n",
            "215/214 [==============================] - 22s 104ms/step - loss: 0.2215 - acc: 0.9198 - val_loss: 0.2052 - val_acc: 0.9268\n",
            "Epoch 47/50\n",
            "163/214 [=====================>........] - ETA: 4s - loss: 0.2212 - acc: 0.9209"
          ],
          "name": "stdout"
        }
      ]
    },
    {
      "metadata": {
        "id": "LtQuJrHFIynV",
        "colab_type": "text"
      },
      "cell_type": "markdown",
      "source": [
        "# Save trained model"
      ]
    },
    {
      "metadata": {
        "id": "CMEoDs-LCE6J",
        "colab_type": "code",
        "colab": {}
      },
      "cell_type": "code",
      "source": [
        "!pip install -U -q PyDrive\n",
        "from pydrive.auth import GoogleAuth\n",
        "from pydrive.drive import GoogleDrive\n",
        "from google.colab import auth\n",
        "from oauth2client.client import GoogleCredentials\n",
        "\n",
        "# 1. Authenticate and create the PyDrive client.\n",
        "auth.authenticate_user()\n",
        "gauth = GoogleAuth()\n",
        "gauth.credentials = GoogleCredentials.get_application_default()\n",
        "drive = GoogleDrive(gauth)\n",
        "\n"
      ],
      "execution_count": 0,
      "outputs": []
    },
    {
      "metadata": {
        "id": "ooWlvpjkGi4E",
        "colab_type": "code",
        "outputId": "0a28bec9-0d25-457b-93aa-0d9452c11467",
        "colab": {
          "base_uri": "https://localhost:8080/",
          "height": 34
        }
      },
      "cell_type": "code",
      "source": [
        "#load best weight, cnn arch_diagram and save to drive\n",
        "model.load_weights('model.weights.best.hdf5')\n",
        "model.save('fashion_mnist_trained.h5')\n",
        "model_file = drive.CreateFile({'title' : 'fashion_mnist_trained.h5'})\n",
        "arch_diagram = drive.CreateFile({'title' : 'fashionNET.png'})\n",
        "model_file.SetContentFile('fashion_mnist_trained.h5')\n",
        "arch_diagram.SetContentFile('model.png')\n",
        "model_file.Upload()\n",
        "arch_diagram.Upload()\n",
        "\n",
        "# download to google drive\n",
        "drive.CreateFile({'id': model_file.get('id')})"
      ],
      "execution_count": 0,
      "outputs": [
        {
          "output_type": "execute_result",
          "data": {
            "text/plain": [
              "GoogleDriveFile({'id': '1CyYool0iKKbc4oGKTMEoRVtiHJrY8qoB'})"
            ]
          },
          "metadata": {
            "tags": []
          },
          "execution_count": 27
        }
      ]
    },
    {
      "metadata": {
        "id": "9JEr6kgSwO3B",
        "colab_type": "text"
      },
      "cell_type": "markdown",
      "source": [
        "# Predict values"
      ]
    },
    {
      "metadata": {
        "id": "shSbqIrFwQ0S",
        "colab_type": "code",
        "outputId": "b7086b7d-eecd-4a1a-88c8-1b3746be0cfc",
        "colab": {
          "base_uri": "https://localhost:8080/",
          "height": 481
        }
      },
      "cell_type": "code",
      "source": [
        "model.load_weights('model.weights.best.hdf5')\n",
        "y_hat = model.predict(x_test)\n",
        "\n",
        "# Plot a random sample of 10 test images, their predicted labels and ground truth\n",
        "figure = plt.figure(figsize=(20, 8))\n",
        "for i, index in enumerate(np.random.choice(x_test.shape[0], size=15, replace=False)):\n",
        "    ax = figure.add_subplot(3, 5, i + 1, xticks=[], yticks=[])\n",
        "    # Display each image\n",
        "    ax.imshow(np.squeeze(x_test[index]), interpolation=\"spline\")\n",
        "    predict_index = np.argmax(y_hat[index])\n",
        "    true_index = np.argmax(y_test[index])\n",
        "    # Set the title for each image\n",
        "    ax.set_title(\"{} ({})\".format(fashion_mnist_labels[predict_index], \n",
        "                                  fashion_mnist_labels[true_index]),\n",
        "                                  color=(\"green\" if predict_index == true_index else \"red\"))"
      ],
      "execution_count": 0,
      "outputs": [
        {
          "output_type": "display_data",
          "data": {
            "image/png": "[encoded data removed]",
            "text/plain": [
              "<matplotlib.figure.Figure at 0x7ff2d05e7748>"
            ]
          },
          "metadata": {
            "tags": []
          }
        }
      ]
    },
    {
      "metadata": {
        "id": "ax4as_pbwR2q",
        "colab_type": "code",
        "outputId": "72b30263-7642-4e6a-9dcf-e51c55aff820",
        "colab": {
          "base_uri": "https://localhost:8080/",
          "height": 52
        }
      },
      "cell_type": "code",
      "source": [
        "model.load_weights('model.weights.best.hdf5')\n",
        "score = model.evaluate(x_test, y_test, verbose=0)\n",
        "print('Test loss:', score[0])\n",
        "print('Test accuracy:', score[1])"
      ],
      "execution_count": 0,
      "outputs": [
        {
          "output_type": "stream",
          "text": [
            "Test loss: 0.21855092290639877\n",
            "Test accuracy: 0.9201\n"
          ],
          "name": "stdout"
        }
      ]
    },
    {
      "metadata": {
        "id": "3hSivRLefwsh",
        "colab_type": "code",
        "colab": {}
      },
      "cell_type": "code",
      "source": [
        ""
      ],
      "execution_count": 0,
      "outputs": []
    }
  ]
}