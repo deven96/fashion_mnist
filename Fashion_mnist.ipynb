{
  "nbformat": 4,
  "nbformat_minor": 0,
  "metadata": {
    "colab": {
      "name": "Fashion_mnist.ipynb",
      "version": "0.3.2",
      "provenance": [],
      "include_colab_link": true
    },
    "kernelspec": {
      "name": "python3",
      "display_name": "Python 3"
    },
    "accelerator": "GPU"
  },
  "cells": [
    {
      "cell_type": "markdown",
      "metadata": {
        "id": "view-in-github",
        "colab_type": "text"
      },
      "source": [
        "<a href=\"https://colab.research.google.com/github/deven96/fashion_mnist/blob/master/Fashion_mnist.ipynb\" target=\"_parent\"><img src=\"https://colab.research.google.com/assets/colab-badge.svg\" alt=\"Open In Colab\"/></a>"
      ]
    },
    {
      "metadata": {
        "id": "M2s8jV-TD2Ze",
        "colab_type": "text"
      },
      "cell_type": "markdown",
      "source": [
        "# Imports"
      ]
    },
    {
      "metadata": {
        "id": "eKTzQamlCHJM",
        "colab_type": "code",
        "outputId": "6a1541b2-97fe-4048-83a4-842ff28cc03c",
        "colab": {
          "base_uri": "https://localhost:8080/",
          "height": 52
        }
      },
      "cell_type": "code",
      "source": [
        "import tensorflow as tf\n",
        "\n",
        "import numpy as np\n",
        "import pandas as pd\n",
        "from keras.utils import plot_model\n",
        "from keras.utils.vis_utils import model_to_dot\n",
        "from IPython.display import SVG\n",
        "import matplotlib.pyplot as plt\n",
        "\n",
        "# Load the fashion-mnist pre-shuffled train data and test data\n",
        "(x_train, y_train), (x_test, y_test) = tf.keras.datasets.fashion_mnist.load_data()\n",
        "\n",
        "print(\"x_train shape:\", x_train.shape, \"y_train shape:\", y_train.shape)"
      ],
      "execution_count": 2,
      "outputs": [
        {
          "output_type": "stream",
          "text": [
            "Using TensorFlow backend.\n"
          ],
          "name": "stderr"
        },
        {
          "output_type": "stream",
          "text": [
            "x_train shape: (60000, 28, 28) y_train shape: (60000,)\n"
          ],
          "name": "stdout"
        }
      ]
    },
    {
      "metadata": {
        "id": "vLN0gC4CDtaY",
        "colab_type": "text"
      },
      "cell_type": "markdown",
      "source": [
        "# Visualizing the data"
      ]
    },
    {
      "metadata": {
        "id": "slktfaNcDyWt",
        "colab_type": "code",
        "outputId": "163fd590-8d95-4c61-cc71-9f1fc07a7b5e",
        "colab": {
          "base_uri": "https://localhost:8080/",
          "height": 434
        }
      },
      "cell_type": "code",
      "source": [
        "# Print training set shape - note there are 60,000 training data of image size of 28x28, 60,000 train labels)\n",
        "print(\"x_train shape:\", x_train.shape, \"y_train shape:\", y_train.shape)\n",
        "\n",
        "# Print the number of training and test datasets\n",
        "print(x_train.shape[0], 'train set')\n",
        "print(x_test.shape[0], 'test set')\n",
        "\n",
        "# Define the text labels\n",
        "fashion_mnist_labels = [\"T-shirt/top\",  # index 0\n",
        "                        \"Trouser\",      # index 1\n",
        "                        \"Pullover\",     # index 2 \n",
        "                        \"Dress\",        # index 3 \n",
        "                        \"Coat\",         # index 4\n",
        "                        \"Sandal\",       # index 5\n",
        "                        \"Shirt\",        # index 6 \n",
        "                        \"Sneaker\",      # index 7 \n",
        "                        \"Bag\",          # index 8 \n",
        "                        \"Ankle boot\"]   # index 9\n",
        "\n",
        "# Image index, you can pick any number between 0 and 59,999\n",
        "img_index = 90\n",
        "# y_train contains the lables, ranging from 0 to 9\n",
        "label_index = y_train[img_index]\n",
        "# Print the label, for example 2 Pullover\n",
        "print (\"y = \" + str(label_index) + \" \" +(fashion_mnist_labels[label_index]))\n",
        "# # Show one of the images from the training dataset\n",
        "plt.imshow(x_train[img_index])"
      ],
      "execution_count": 3,
      "outputs": [
        {
          "output_type": "stream",
          "text": [
            "x_train shape: (60000, 28, 28) y_train shape: (60000,)\n",
            "60000 train set\n",
            "10000 test set\n",
            "y = 9 Ankle boot\n"
          ],
          "name": "stdout"
        },
        {
          "output_type": "execute_result",
          "data": {
            "text/plain": [
              "<matplotlib.image.AxesImage at 0x7ff2dc038780>"
            ]
          },
          "metadata": {
            "tags": []
          },
          "execution_count": 3
        },
        {
          "output_type": "display_data",
          "data": {
            "image/png": "[encoded data removed]",
            "text/plain": [
              "<matplotlib.figure.Figure at 0x7ff2dc05c390>"
            ]
          },
          "metadata": {
            "tags": []
          }
        }
      ]
    },
    {
      "metadata": {
        "id": "Z_UtEsphEbWL",
        "colab_type": "text"
      },
      "cell_type": "markdown",
      "source": [
        "# Data Normalization"
      ]
    },
    {
      "metadata": {
        "id": "wTBVuww1Eea9",
        "colab_type": "code",
        "colab": {}
      },
      "cell_type": "code",
      "source": [
        "x_train = x_train.astype('float32') / 255\n",
        "x_test = x_test.astype('float32') / 255"
      ],
      "execution_count": 0,
      "outputs": []
    },
    {
      "metadata": {
        "id": "DGI0DLyjEe68",
        "colab_type": "code",
        "outputId": "9f0c6434-7d46-4230-8630-4da29b135b5d",
        "colab": {
          "base_uri": "https://localhost:8080/",
          "height": 52
        }
      },
      "cell_type": "code",
      "source": [
        "print(\"Number of train data - \" + str(len(x_train)))\n",
        "print(\"Number of test data - \" + str(len(x_test)))"
      ],
      "execution_count": 5,
      "outputs": [
        {
          "output_type": "stream",
          "text": [
            "Number of train data - 60000\n",
            "Number of test data - 10000\n"
          ],
          "name": "stdout"
        }
      ]
    },
    {
      "metadata": {
        "id": "s0IgyM_oEif8",
        "colab_type": "code",
        "outputId": "6129488e-09a7-4ce1-fb30-23d498a2f045",
        "colab": {
          "base_uri": "https://localhost:8080/",
          "height": 104
        }
      },
      "cell_type": "code",
      "source": [
        "# Further break training data into train / validation sets (# put 5000 into validation set and keep remaining 55,000 for train)\n",
        "(x_train, x_valid) = x_train[5000:], x_train[:5000] \n",
        "(y_train, y_valid) = y_train[5000:], y_train[:5000]\n",
        "\n",
        "# Reshape input data from (28, 28) to (28, 28, 1)\n",
        "w, h = 28, 28\n",
        "x_train = x_train.reshape(x_train.shape[0], w, h, 1)\n",
        "x_valid = x_valid.reshape(x_valid.shape[0], w, h, 1)\n",
        "x_test = x_test.reshape(x_test.shape[0], w, h, 1)\n",
        "\n",
        "# One-hot encode the labels\n",
        "y_train = tf.keras.utils.to_categorical(y_train, 10)\n",
        "y_valid = tf.keras.utils.to_categorical(y_valid, 10)\n",
        "y_test = tf.keras.utils.to_categorical(y_test, 10)\n",
        "\n",
        "#data generator with horizontal flips\n",
        "datagen = tf.keras.preprocessing.image.ImageDataGenerator(horizontal_flip=True)\n",
        "datagen.fit(x_train)\n",
        "\n",
        "# Print training set shape\n",
        "print(\"x_train shape:\", x_train.shape, \"y_train shape:\", y_train.shape)\n",
        "\n",
        "# Print the number of training, validation, and test datasets\n",
        "print(x_train.shape[0], 'train set')\n",
        "print(x_valid.shape[0], 'validation set')\n",
        "print(x_test.shape[0], 'test set')\n",
        "print(datagen)"
      ],
      "execution_count": 6,
      "outputs": [
        {
          "output_type": "stream",
          "text": [
            "x_train shape: (55000, 28, 28, 1) y_train shape: (55000, 10)\n",
            "55000 train set\n",
            "5000 validation set\n",
            "10000 test set\n",
            "<tensorflow.python.keras.preprocessing.image.ImageDataGenerator object at 0x7ff2dc23e278>\n"
          ],
          "name": "stdout"
        }
      ]
    },
    {
      "metadata": {
        "id": "rGKbh_jEFR4W",
        "colab_type": "text"
      },
      "cell_type": "markdown",
      "source": [
        "# Model Architecture\n",
        "\n",
        "Tweak CNN parameters to optimize"
      ]
    },
    {
      "metadata": {
        "id": "6ngkgCOqFUuX",
        "colab_type": "code",
        "outputId": "7b9e936a-8dd2-47d7-b181-8e925e8e028d",
        "colab": {
          "base_uri": "https://localhost:8080/",
          "height": 590
        }
      },
      "cell_type": "code",
      "source": [
        "     \n",
        "\n",
        "\n",
        "# Model\n",
        "inputs = tf.keras.layers.Input(shape=(28, 28, 1), name=\"input\")\n",
        "# Add convolution 2D\n",
        "x = tf.keras.layers.Conv2D(32, kernel_size=(3, 3),\n",
        "                 activation='relu',\n",
        "                 kernel_initializer='he_normal',\n",
        "                 name=\"conv_1\")(inputs)\n",
        "# skip = tf.keras.layers.Add(name='skip_1')([inputs, x])\n",
        "x = tf.keras.layers.MaxPooling2D((2, 2), name=\"maxpool_1\")(x)\n",
        "x = tf.keras.layers.Dropout(0.25, name=\"dropout_1\")(x)\n",
        "x = tf.keras.layers.Conv2D(64, \n",
        "                 kernel_size=(3, 3), \n",
        "                 activation='relu',\n",
        "                 name=\"conv_2\")(x)\n",
        "x = tf.keras.layers.MaxPooling2D((2, 2), name=\"maxpool_2\")(x)\n",
        "x = tf.keras.layers.Dropout(0.25, name=\"dropout_2\")(x)\n",
        "x = tf.keras.layers.Conv2D(128,\n",
        "                 kernel_size=(3, 3), \n",
        "                 activation='relu',\n",
        "                 name=\"conv_3\")(x)\n",
        "x = tf.keras.layers.Dropout(0.4, name=\"dropout_3\")(x)\n",
        "x = tf.keras.layers.Flatten(name=\"vector_3\")(x)\n",
        "x = tf.keras.layers.Dense(256, activation='relu', name=\"fc_4\")(x)\n",
        "x = tf.keras.layers.Dropout(0.3, name=\"dropout_4\")(x)\n",
        "predictions = tf.keras.layers.Dense(10, activation='softmax', name='fc_output')(x)\n",
        "\n",
        "# Take a look at the model summary\n",
        "\n",
        "model = tf.keras.models.Model(inputs=inputs, outputs=predictions)\n",
        "model.summary()"
      ],
      "execution_count": 7,
      "outputs": [
        {
          "output_type": "stream",
          "text": [
            "_________________________________________________________________\n",
            "Layer (type)                 Output Shape              Param #   \n",
            "=================================================================\n",
            "input (InputLayer)           (None, 28, 28, 1)         0         \n",
            "_________________________________________________________________\n",
            "conv_1 (Conv2D)              (None, 26, 26, 32)        320       \n",
            "_________________________________________________________________\n",
            "maxpool_1 (MaxPooling2D)     (None, 13, 13, 32)        0         \n",
            "_________________________________________________________________\n",
            "dropout_1 (Dropout)          (None, 13, 13, 32)        0         \n",
            "_________________________________________________________________\n",
            "conv_2 (Conv2D)              (None, 11, 11, 64)        18496     \n",
            "_________________________________________________________________\n",
            "maxpool_2 (MaxPooling2D)     (None, 5, 5, 64)          0         \n",
            "_________________________________________________________________\n",
            "dropout_2 (Dropout)          (None, 5, 5, 64)          0         \n",
            "_________________________________________________________________\n",
            "conv_3 (Conv2D)              (None, 3, 3, 128)         73856     \n",
            "_________________________________________________________________\n",
            "dropout_3 (Dropout)          (None, 3, 3, 128)         0         \n",
            "_________________________________________________________________\n",
            "vector_3 (Flatten)           (None, 1152)              0         \n",
            "_________________________________________________________________\n",
            "fc_4 (Dense)                 (None, 256)               295168    \n",
            "_________________________________________________________________\n",
            "dropout_4 (Dropout)          (None, 256)               0         \n",
            "_________________________________________________________________\n",
            "fc_output (Dense)            (None, 10)                2570      \n",
            "=================================================================\n",
            "Total params: 390,410\n",
            "Trainable params: 390,410\n",
            "Non-trainable params: 0\n",
            "_________________________________________________________________\n"
          ],
          "name": "stdout"
        }
      ]
    },
    {
      "metadata": {
        "id": "K4OC2NMMYIVY",
        "colab_type": "text"
      },
      "cell_type": "markdown",
      "source": [
        "# Plot the model"
      ]
    },
    {
      "metadata": {
        "id": "ohOcQ8LZYMPC",
        "colab_type": "code",
        "outputId": "cb5db0ce-efd5-4236-9821-e97af4746bfb",
        "colab": {
          "base_uri": "https://localhost:8080/",
          "height": 1249
        }
      },
      "cell_type": "code",
      "source": [
        "plot_model(model, to_file='model.png')\n",
        "SVG(model_to_dot(model).create(prog='dot', format='svg'))"
      ],
      "execution_count": 8,
      "outputs": [
        {
          "output_type": "execute_result",
          "data": {
            "text/plain": [
              "<IPython.core.display.SVG object>"
            ],
            "image/svg+xml": "<svg height=\"921pt\" viewBox=\"0.00 0.00 188.00 921.00\" width=\"188pt\" xmlns=\"http://www.w3.org/2000/svg\" xmlns:xlink=\"http://www.w3.org/1999/xlink\">\n<g class=\"graph\" id=\"graph0\" transform=\"scale(1 1) rotate(0) translate(4 917)\">\n<title>G</title>\n<polygon fill=\"#ffffff\" points=\"-4,4 -4,-917 184,-917 184,4 -4,4\" stroke=\"transparent\"/>\n<!-- 140681007520232 -->\n<g class=\"node\" id=\"node1\">\n<title>140681007520232</title>\n<polygon fill=\"none\" points=\"31,-876.5 31,-912.5 149,-912.5 149,-876.5 31,-876.5\" stroke=\"#000000\"/>\n<text fill=\"#000000\" font-family=\"Times,serif\" font-size=\"14.00\" text-anchor=\"middle\" x=\"90\" y=\"-890.8\">input: InputLayer</text>\n</g>\n<!-- 140681007520176 -->\n<g class=\"node\" id=\"node2\">\n<title>140681007520176</title>\n<polygon fill=\"none\" points=\"31,-803.5 31,-839.5 149,-839.5 149,-803.5 31,-803.5\" stroke=\"#000000\"/>\n<text fill=\"#000000\" font-family=\"Times,serif\" font-size=\"14.00\" text-anchor=\"middle\" x=\"90\" y=\"-817.8\">conv_1: Conv2D</text>\n</g>\n<!-- 140681007520232&#45;&gt;140681007520176 -->\n<g class=\"edge\" id=\"edge1\">\n<title>140681007520232-&gt;140681007520176</title>\n<path d=\"M90,-876.4551C90,-868.3828 90,-858.6764 90,-849.6817\" fill=\"none\" stroke=\"#000000\"/>\n<polygon fill=\"#000000\" points=\"93.5001,-849.5903 90,-839.5904 86.5001,-849.5904 93.5001,-849.5903\" stroke=\"#000000\"/>\n</g>\n<!-- 140681007521688 -->\n<g class=\"node\" id=\"node3\">\n<title>140681007521688</title>\n<polygon fill=\"none\" points=\"0,-730.5 0,-766.5 180,-766.5 180,-730.5 0,-730.5\" stroke=\"#000000\"/>\n<text fill=\"#000000\" font-family=\"Times,serif\" font-size=\"14.00\" text-anchor=\"middle\" x=\"90\" y=\"-744.8\">maxpool_1: MaxPooling2D</text>\n</g>\n<!-- 140681007520176&#45;&gt;140681007521688 -->\n<g class=\"edge\" id=\"edge2\">\n<title>140681007520176-&gt;140681007521688</title>\n<path d=\"M90,-803.4551C90,-795.3828 90,-785.6764 90,-776.6817\" fill=\"none\" stroke=\"#000000\"/>\n<polygon fill=\"#000000\" points=\"93.5001,-776.5903 90,-766.5904 86.5001,-776.5904 93.5001,-776.5903\" stroke=\"#000000\"/>\n</g>\n<!-- 140681007521296 -->\n<g class=\"node\" id=\"node4\">\n<title>140681007521296</title>\n<polygon fill=\"none\" points=\"23,-657.5 23,-693.5 157,-693.5 157,-657.5 23,-657.5\" stroke=\"#000000\"/>\n<text fill=\"#000000\" font-family=\"Times,serif\" font-size=\"14.00\" text-anchor=\"middle\" x=\"90\" y=\"-671.8\">dropout_1: Dropout</text>\n</g>\n<!-- 140681007521688&#45;&gt;140681007521296 -->\n<g class=\"edge\" id=\"edge3\">\n<title>140681007521688-&gt;140681007521296</title>\n<path d=\"M90,-730.4551C90,-722.3828 90,-712.6764 90,-703.6817\" fill=\"none\" stroke=\"#000000\"/>\n<polygon fill=\"#000000\" points=\"93.5001,-703.5903 90,-693.5904 86.5001,-703.5904 93.5001,-703.5903\" stroke=\"#000000\"/>\n</g>\n<!-- 140681007521520 -->\n<g class=\"node\" id=\"node5\">\n<title>140681007521520</title>\n<polygon fill=\"none\" points=\"31,-584.5 31,-620.5 149,-620.5 149,-584.5 31,-584.5\" stroke=\"#000000\"/>\n<text fill=\"#000000\" font-family=\"Times,serif\" font-size=\"14.00\" text-anchor=\"middle\" x=\"90\" y=\"-598.8\">conv_2: Conv2D</text>\n</g>\n<!-- 140681007521296&#45;&gt;140681007521520 -->\n<g class=\"edge\" id=\"edge4\">\n<title>140681007521296-&gt;140681007521520</title>\n<path d=\"M90,-657.4551C90,-649.3828 90,-639.6764 90,-630.6817\" fill=\"none\" stroke=\"#000000\"/>\n<polygon fill=\"#000000\" points=\"93.5001,-630.5903 90,-620.5904 86.5001,-630.5904 93.5001,-630.5903\" stroke=\"#000000\"/>\n</g>\n<!-- 140681007499640 -->\n<g class=\"node\" id=\"node6\">\n<title>140681007499640</title>\n<polygon fill=\"none\" points=\"0,-511.5 0,-547.5 180,-547.5 180,-511.5 0,-511.5\" stroke=\"#000000\"/>\n<text fill=\"#000000\" font-family=\"Times,serif\" font-size=\"14.00\" text-anchor=\"middle\" x=\"90\" y=\"-525.8\">maxpool_2: MaxPooling2D</text>\n</g>\n<!-- 140681007521520&#45;&gt;140681007499640 -->\n<g class=\"edge\" id=\"edge5\">\n<title>140681007521520-&gt;140681007499640</title>\n<path d=\"M90,-584.4551C90,-576.3828 90,-566.6764 90,-557.6817\" fill=\"none\" stroke=\"#000000\"/>\n<polygon fill=\"#000000\" points=\"93.5001,-557.5903 90,-547.5904 86.5001,-557.5904 93.5001,-557.5903\" stroke=\"#000000\"/>\n</g>\n<!-- 140680998760176 -->\n<g class=\"node\" id=\"node7\">\n<title>140680998760176</title>\n<polygon fill=\"none\" points=\"23,-438.5 23,-474.5 157,-474.5 157,-438.5 23,-438.5\" stroke=\"#000000\"/>\n<text fill=\"#000000\" font-family=\"Times,serif\" font-size=\"14.00\" text-anchor=\"middle\" x=\"90\" y=\"-452.8\">dropout_2: Dropout</text>\n</g>\n<!-- 140681007499640&#45;&gt;140680998760176 -->\n<g class=\"edge\" id=\"edge6\">\n<title>140681007499640-&gt;140680998760176</title>\n<path d=\"M90,-511.4551C90,-503.3828 90,-493.6764 90,-484.6817\" fill=\"none\" stroke=\"#000000\"/>\n<polygon fill=\"#000000\" points=\"93.5001,-484.5903 90,-474.5904 86.5001,-484.5904 93.5001,-484.5903\" stroke=\"#000000\"/>\n</g>\n<!-- 140680998900736 -->\n<g class=\"node\" id=\"node8\">\n<title>140680998900736</title>\n<polygon fill=\"none\" points=\"31,-365.5 31,-401.5 149,-401.5 149,-365.5 31,-365.5\" stroke=\"#000000\"/>\n<text fill=\"#000000\" font-family=\"Times,serif\" font-size=\"14.00\" text-anchor=\"middle\" x=\"90\" y=\"-379.8\">conv_3: Conv2D</text>\n</g>\n<!-- 140680998760176&#45;&gt;140680998900736 -->\n<g class=\"edge\" id=\"edge7\">\n<title>140680998760176-&gt;140680998900736</title>\n<path d=\"M90,-438.4551C90,-430.3828 90,-420.6764 90,-411.6817\" fill=\"none\" stroke=\"#000000\"/>\n<polygon fill=\"#000000\" points=\"93.5001,-411.5903 90,-401.5904 86.5001,-411.5904 93.5001,-411.5903\" stroke=\"#000000\"/>\n</g>\n<!-- 140680998902752 -->\n<g class=\"node\" id=\"node9\">\n<title>140680998902752</title>\n<polygon fill=\"none\" points=\"23,-292.5 23,-328.5 157,-328.5 157,-292.5 23,-292.5\" stroke=\"#000000\"/>\n<text fill=\"#000000\" font-family=\"Times,serif\" font-size=\"14.00\" text-anchor=\"middle\" x=\"90\" y=\"-306.8\">dropout_3: Dropout</text>\n</g>\n<!-- 140680998900736&#45;&gt;140680998902752 -->\n<g class=\"edge\" id=\"edge8\">\n<title>140680998900736-&gt;140680998902752</title>\n<path d=\"M90,-365.4551C90,-357.3828 90,-347.6764 90,-338.6817\" fill=\"none\" stroke=\"#000000\"/>\n<polygon fill=\"#000000\" points=\"93.5001,-338.5903 90,-328.5904 86.5001,-338.5904 93.5001,-338.5903\" stroke=\"#000000\"/>\n</g>\n<!-- 140680998612888 -->\n<g class=\"node\" id=\"node10\">\n<title>140680998612888</title>\n<polygon fill=\"none\" points=\"33.5,-219.5 33.5,-255.5 146.5,-255.5 146.5,-219.5 33.5,-219.5\" stroke=\"#000000\"/>\n<text fill=\"#000000\" font-family=\"Times,serif\" font-size=\"14.00\" text-anchor=\"middle\" x=\"90\" y=\"-233.8\">vector_3: Flatten</text>\n</g>\n<!-- 140680998902752&#45;&gt;140680998612888 -->\n<g class=\"edge\" id=\"edge9\">\n<title>140680998902752-&gt;140680998612888</title>\n<path d=\"M90,-292.4551C90,-284.3828 90,-274.6764 90,-265.6817\" fill=\"none\" stroke=\"#000000\"/>\n<polygon fill=\"#000000\" points=\"93.5001,-265.5903 90,-255.5904 86.5001,-265.5904 93.5001,-265.5903\" stroke=\"#000000\"/>\n</g>\n<!-- 140680998242288 -->\n<g class=\"node\" id=\"node11\">\n<title>140680998242288</title>\n<polygon fill=\"none\" points=\"47.5,-146.5 47.5,-182.5 132.5,-182.5 132.5,-146.5 47.5,-146.5\" stroke=\"#000000\"/>\n<text fill=\"#000000\" font-family=\"Times,serif\" font-size=\"14.00\" text-anchor=\"middle\" x=\"90\" y=\"-160.8\">fc_4: Dense</text>\n</g>\n<!-- 140680998612888&#45;&gt;140680998242288 -->\n<g class=\"edge\" id=\"edge10\">\n<title>140680998612888-&gt;140680998242288</title>\n<path d=\"M90,-219.4551C90,-211.3828 90,-201.6764 90,-192.6817\" fill=\"none\" stroke=\"#000000\"/>\n<polygon fill=\"#000000\" points=\"93.5001,-192.5903 90,-182.5904 86.5001,-192.5904 93.5001,-192.5903\" stroke=\"#000000\"/>\n</g>\n<!-- 140680998241728 -->\n<g class=\"node\" id=\"node12\">\n<title>140680998241728</title>\n<polygon fill=\"none\" points=\"23,-73.5 23,-109.5 157,-109.5 157,-73.5 23,-73.5\" stroke=\"#000000\"/>\n<text fill=\"#000000\" font-family=\"Times,serif\" font-size=\"14.00\" text-anchor=\"middle\" x=\"90\" y=\"-87.8\">dropout_4: Dropout</text>\n</g>\n<!-- 140680998242288&#45;&gt;140680998241728 -->\n<g class=\"edge\" id=\"edge11\">\n<title>140680998242288-&gt;140680998241728</title>\n<path d=\"M90,-146.4551C90,-138.3828 90,-128.6764 90,-119.6817\" fill=\"none\" stroke=\"#000000\"/>\n<polygon fill=\"#000000\" points=\"93.5001,-119.5903 90,-109.5904 86.5001,-119.5904 93.5001,-119.5903\" stroke=\"#000000\"/>\n</g>\n<!-- 140680997933008 -->\n<g class=\"node\" id=\"node13\">\n<title>140680997933008</title>\n<polygon fill=\"none\" points=\"32.5,-.5 32.5,-36.5 147.5,-36.5 147.5,-.5 32.5,-.5\" stroke=\"#000000\"/>\n<text fill=\"#000000\" font-family=\"Times,serif\" font-size=\"14.00\" text-anchor=\"middle\" x=\"90\" y=\"-14.8\">fc_output: Dense</text>\n</g>\n<!-- 140680998241728&#45;&gt;140680997933008 -->\n<g class=\"edge\" id=\"edge12\">\n<title>140680998241728-&gt;140680997933008</title>\n<path d=\"M90,-73.4551C90,-65.3828 90,-55.6764 90,-46.6817\" fill=\"none\" stroke=\"#000000\"/>\n<polygon fill=\"#000000\" points=\"93.5001,-46.5903 90,-36.5904 86.5001,-46.5904 93.5001,-46.5903\" stroke=\"#000000\"/>\n</g>\n</g>\n</svg>"
          },
          "metadata": {
            "tags": []
          },
          "execution_count": 8
        }
      ]
    },
    {
      "metadata": {
        "id": "MJbhSzR1GGzB",
        "colab_type": "text"
      },
      "cell_type": "markdown",
      "source": [
        "# Compile the model"
      ]
    },
    {
      "metadata": {
        "id": "BL6X9ncyGJEU",
        "colab_type": "code",
        "colab": {}
      },
      "cell_type": "code",
      "source": [
        "model.compile(loss='categorical_crossentropy',\n",
        "             optimizer='adam',\n",
        "             metrics=['accuracy'])"
      ],
      "execution_count": 0,
      "outputs": []
    },
    {
      "metadata": {
        "id": "gtVF2f0RGeSA",
        "colab_type": "text"
      },
      "cell_type": "markdown",
      "source": [
        "# Train the model\n",
        "\n",
        "Using the .fit() API"
      ]
    },
    {
      "metadata": {
        "id": "gW3EUnrBGiVf",
        "colab_type": "code",
        "outputId": "c5eda51e-c61e-4ef5-fe24-6f2a12ed04d5",
        "colab": {
          "base_uri": "https://localhost:8080/",
          "height": 2969
        }
      },
      "cell_type": "code",
      "source": [
        "from keras.callbacks import ModelCheckpoint\n",
        "\n",
        "checkpointer = ModelCheckpoint(filepath='model.weights.best.hdf5', verbose = 1, save_best_only=True)\n",
        "model.fit_generator(\n",
        "         datagen.flow(x_train, y_train, batch_size=128),\n",
        "         steps_per_epoch=len(x_train) / 64,\n",
        "         epochs=55,\n",
        "         validation_data=(x_valid, y_valid),\n",
        "         callbacks=[checkpointer])"
      ],
      "execution_count": 0,
      "outputs": [
        {
          "output_type": "stream",
          "text": [
            "Epoch 1/55\n",
            "857/859 [============================>.] - ETA: 0s - loss: 0.2058 - acc: 0.9230\n",
            "Epoch 00001: val_loss improved from inf to 0.19329, saving model to model.weights.best.hdf5\n",
            "860/859 [==============================] - 13s 16ms/step - loss: 0.2057 - acc: 0.9231 - val_loss: 0.1933 - val_acc: 0.9264\n",
            "Epoch 2/55\n",
            "856/859 [============================>.] - ETA: 0s - loss: 0.2040 - acc: 0.9235\n",
            "Epoch 00002: val_loss did not improve from 0.19329\n",
            "860/859 [==============================] - 14s 16ms/step - loss: 0.2039 - acc: 0.9235 - val_loss: 0.1950 - val_acc: 0.9254\n",
            "Epoch 3/55\n",
            "857/859 [============================>.] - ETA: 0s - loss: 0.2038 - acc: 0.9235\n",
            "Epoch 00003: val_loss did not improve from 0.19329\n",
            "860/859 [==============================] - 14s 16ms/step - loss: 0.2037 - acc: 0.9235 - val_loss: 0.1961 - val_acc: 0.9262\n",
            "Epoch 4/55\n",
            "859/859 [============================>.] - ETA: 0s - loss: 0.1998 - acc: 0.9249\n",
            "Epoch 00004: val_loss improved from 0.19329 to 0.19123, saving model to model.weights.best.hdf5\n",
            "860/859 [==============================] - 13s 16ms/step - loss: 0.1997 - acc: 0.9249 - val_loss: 0.1912 - val_acc: 0.9300\n",
            "Epoch 5/55\n",
            "859/859 [============================>.] - ETA: 0s - loss: 0.2000 - acc: 0.9244\n",
            "Epoch 00005: val_loss improved from 0.19123 to 0.19109, saving model to model.weights.best.hdf5\n",
            "860/859 [==============================] - 13s 15ms/step - loss: 0.2001 - acc: 0.9244 - val_loss: 0.1911 - val_acc: 0.9282\n",
            "Epoch 6/55\n",
            "858/859 [============================>.] - ETA: 0s - loss: 0.1973 - acc: 0.9261\n",
            "Epoch 00006: val_loss did not improve from 0.19109\n",
            "860/859 [==============================] - 13s 15ms/step - loss: 0.1973 - acc: 0.9261 - val_loss: 0.1982 - val_acc: 0.9272\n",
            "Epoch 7/55\n",
            "857/859 [============================>.] - ETA: 0s - loss: 0.1966 - acc: 0.9260\n",
            "Epoch 00007: val_loss did not improve from 0.19109\n",
            "860/859 [==============================] - 13s 15ms/step - loss: 0.1966 - acc: 0.9261 - val_loss: 0.1911 - val_acc: 0.9272\n",
            "Epoch 8/55\n",
            "857/859 [============================>.] - ETA: 0s - loss: 0.1972 - acc: 0.9254\n",
            "Epoch 00008: val_loss improved from 0.19109 to 0.18694, saving model to model.weights.best.hdf5\n",
            "860/859 [==============================] - 13s 16ms/step - loss: 0.1972 - acc: 0.9254 - val_loss: 0.1869 - val_acc: 0.9272\n",
            "Epoch 9/55\n",
            "859/859 [============================>.] - ETA: 0s - loss: 0.1912 - acc: 0.9274\n",
            "Epoch 00009: val_loss improved from 0.18694 to 0.18690, saving model to model.weights.best.hdf5\n",
            "860/859 [==============================] - 13s 15ms/step - loss: 0.1912 - acc: 0.9274 - val_loss: 0.1869 - val_acc: 0.9294\n",
            "Epoch 10/55\n",
            "856/859 [============================>.] - ETA: 0s - loss: 0.1937 - acc: 0.9268\n",
            "Epoch 00010: val_loss did not improve from 0.18690\n",
            "860/859 [==============================] - 13s 15ms/step - loss: 0.1937 - acc: 0.9267 - val_loss: 0.1939 - val_acc: 0.9266\n",
            "Epoch 11/55\n",
            "857/859 [============================>.] - ETA: 0s - loss: 0.1928 - acc: 0.9269\n",
            "Epoch 00011: val_loss did not improve from 0.18690\n",
            "860/859 [==============================] - 13s 15ms/step - loss: 0.1929 - acc: 0.9268 - val_loss: 0.1886 - val_acc: 0.9292\n",
            "Epoch 12/55\n",
            "858/859 [============================>.] - ETA: 0s - loss: 0.1932 - acc: 0.9276\n",
            "Epoch 00012: val_loss did not improve from 0.18690\n",
            "860/859 [==============================] - 13s 15ms/step - loss: 0.1932 - acc: 0.9276 - val_loss: 0.1922 - val_acc: 0.9290\n",
            "Epoch 13/55\n",
            "856/859 [============================>.] - ETA: 0s - loss: 0.1897 - acc: 0.9286\n",
            "Epoch 00013: val_loss did not improve from 0.18690\n",
            "860/859 [==============================] - 13s 15ms/step - loss: 0.1899 - acc: 0.9286 - val_loss: 0.1875 - val_acc: 0.9338\n",
            "Epoch 14/55\n",
            "858/859 [============================>.] - ETA: 0s - loss: 0.1883 - acc: 0.9291\n",
            "Epoch 00014: val_loss improved from 0.18690 to 0.18559, saving model to model.weights.best.hdf5\n",
            "860/859 [==============================] - 13s 15ms/step - loss: 0.1883 - acc: 0.9291 - val_loss: 0.1856 - val_acc: 0.9308\n",
            "Epoch 15/55\n",
            "859/859 [============================>.] - ETA: 0s - loss: 0.1891 - acc: 0.9287\n",
            "Epoch 00015: val_loss did not improve from 0.18559\n",
            "860/859 [==============================] - 13s 15ms/step - loss: 0.1891 - acc: 0.9287 - val_loss: 0.1923 - val_acc: 0.9300\n",
            "Epoch 16/55\n",
            "857/859 [============================>.] - ETA: 0s - loss: 0.1899 - acc: 0.9280\n",
            "Epoch 00016: val_loss did not improve from 0.18559\n",
            "860/859 [==============================] - 13s 15ms/step - loss: 0.1899 - acc: 0.9280 - val_loss: 0.1881 - val_acc: 0.9298\n",
            "Epoch 17/55\n",
            "857/859 [============================>.] - ETA: 0s - loss: 0.1905 - acc: 0.9283\n",
            "Epoch 00017: val_loss did not improve from 0.18559\n",
            "860/859 [==============================] - 13s 15ms/step - loss: 0.1902 - acc: 0.9284 - val_loss: 0.1924 - val_acc: 0.9290\n",
            "Epoch 18/55\n",
            "859/859 [============================>.] - ETA: 0s - loss: 0.1874 - acc: 0.9298\n",
            "Epoch 00018: val_loss did not improve from 0.18559\n",
            "860/859 [==============================] - 13s 15ms/step - loss: 0.1875 - acc: 0.9297 - val_loss: 0.1924 - val_acc: 0.9258\n",
            "Epoch 19/55\n",
            "858/859 [============================>.] - ETA: 0s - loss: 0.1879 - acc: 0.9295\n",
            "Epoch 00019: val_loss improved from 0.18559 to 0.18504, saving model to model.weights.best.hdf5\n",
            "860/859 [==============================] - 13s 15ms/step - loss: 0.1877 - acc: 0.9296 - val_loss: 0.1850 - val_acc: 0.9316\n",
            "Epoch 20/55\n",
            "857/859 [============================>.] - ETA: 0s - loss: 0.1850 - acc: 0.9304\n",
            "Epoch 00020: val_loss did not improve from 0.18504\n",
            "860/859 [==============================] - 13s 16ms/step - loss: 0.1849 - acc: 0.9305 - val_loss: 0.1869 - val_acc: 0.9332\n",
            "Epoch 21/55\n",
            "856/859 [============================>.] - ETA: 0s - loss: 0.1850 - acc: 0.9304\n",
            "Epoch 00021: val_loss did not improve from 0.18504\n",
            "860/859 [==============================] - 13s 16ms/step - loss: 0.1850 - acc: 0.9304 - val_loss: 0.1934 - val_acc: 0.9276\n",
            "Epoch 22/55\n",
            "859/859 [============================>.] - ETA: 0s - loss: 0.1825 - acc: 0.9317\n",
            "Epoch 00022: val_loss did not improve from 0.18504\n",
            "860/859 [==============================] - 13s 15ms/step - loss: 0.1824 - acc: 0.9317 - val_loss: 0.1912 - val_acc: 0.9292\n",
            "Epoch 23/55\n",
            "856/859 [============================>.] - ETA: 0s - loss: 0.1841 - acc: 0.9304\n",
            "Epoch 00023: val_loss did not improve from 0.18504\n",
            "860/859 [==============================] - 13s 15ms/step - loss: 0.1840 - acc: 0.9304 - val_loss: 0.1994 - val_acc: 0.9258\n",
            "Epoch 24/55\n",
            "859/859 [============================>.] - ETA: 0s - loss: 0.1841 - acc: 0.9301\n",
            "Epoch 00024: val_loss did not improve from 0.18504\n",
            "860/859 [==============================] - 13s 15ms/step - loss: 0.1841 - acc: 0.9301 - val_loss: 0.1919 - val_acc: 0.9294\n",
            "Epoch 25/55\n",
            "856/859 [============================>.] - ETA: 0s - loss: 0.1797 - acc: 0.9326\n",
            "Epoch 00025: val_loss did not improve from 0.18504\n",
            "860/859 [==============================] - 13s 15ms/step - loss: 0.1797 - acc: 0.9326 - val_loss: 0.1901 - val_acc: 0.9264\n",
            "Epoch 26/55\n",
            "859/859 [============================>.] - ETA: 0s - loss: 0.1839 - acc: 0.9308\n",
            "Epoch 00026: val_loss did not improve from 0.18504\n",
            "860/859 [==============================] - 13s 15ms/step - loss: 0.1839 - acc: 0.9308 - val_loss: 0.1888 - val_acc: 0.9302\n",
            "Epoch 27/55\n",
            "856/859 [============================>.] - ETA: 0s - loss: 0.1809 - acc: 0.9315\n",
            "Epoch 00027: val_loss did not improve from 0.18504\n",
            "860/859 [==============================] - 13s 15ms/step - loss: 0.1809 - acc: 0.9315 - val_loss: 0.1911 - val_acc: 0.9316\n",
            "Epoch 28/55\n",
            "857/859 [============================>.] - ETA: 0s - loss: 0.1831 - acc: 0.9316\n",
            "Epoch 00028: val_loss did not improve from 0.18504\n",
            "860/859 [==============================] - 13s 15ms/step - loss: 0.1829 - acc: 0.9316 - val_loss: 0.1881 - val_acc: 0.9320\n",
            "Epoch 29/55\n",
            "857/859 [============================>.] - ETA: 0s - loss: 0.1798 - acc: 0.9319\n",
            "Epoch 00029: val_loss did not improve from 0.18504\n",
            "860/859 [==============================] - 13s 15ms/step - loss: 0.1800 - acc: 0.9318 - val_loss: 0.1875 - val_acc: 0.9328\n",
            "Epoch 30/55\n",
            "856/859 [============================>.] - ETA: 0s - loss: 0.1786 - acc: 0.9335\n",
            "Epoch 00030: val_loss did not improve from 0.18504\n",
            "860/859 [==============================] - 13s 15ms/step - loss: 0.1790 - acc: 0.9335 - val_loss: 0.1897 - val_acc: 0.9308\n",
            "Epoch 31/55\n",
            "859/859 [============================>.] - ETA: 0s - loss: 0.1788 - acc: 0.9330\n",
            "Epoch 00031: val_loss did not improve from 0.18504\n",
            "860/859 [==============================] - 13s 16ms/step - loss: 0.1787 - acc: 0.9330 - val_loss: 0.1884 - val_acc: 0.9322\n",
            "Epoch 32/55\n",
            "857/859 [============================>.] - ETA: 0s - loss: 0.1780 - acc: 0.9333\n",
            "Epoch 00032: val_loss did not improve from 0.18504\n",
            "860/859 [==============================] - 13s 15ms/step - loss: 0.1783 - acc: 0.9332 - val_loss: 0.1877 - val_acc: 0.9326\n",
            "Epoch 33/55\n",
            "856/859 [============================>.] - ETA: 0s - loss: 0.1794 - acc: 0.9321\n",
            "Epoch 00033: val_loss did not improve from 0.18504\n",
            "860/859 [==============================] - 13s 15ms/step - loss: 0.1793 - acc: 0.9321 - val_loss: 0.1905 - val_acc: 0.9310\n",
            "Epoch 34/55\n",
            "856/859 [============================>.] - ETA: 0s - loss: 0.1778 - acc: 0.9326\n",
            "Epoch 00034: val_loss did not improve from 0.18504\n",
            "860/859 [==============================] - 13s 15ms/step - loss: 0.1775 - acc: 0.9327 - val_loss: 0.1962 - val_acc: 0.9312\n",
            "Epoch 35/55\n",
            "858/859 [============================>.] - ETA: 0s - loss: 0.1775 - acc: 0.9333\n",
            "Epoch 00035: val_loss did not improve from 0.18504\n",
            "860/859 [==============================] - 13s 15ms/step - loss: 0.1776 - acc: 0.9333 - val_loss: 0.1929 - val_acc: 0.9306\n",
            "Epoch 36/55\n",
            "858/859 [============================>.] - ETA: 0s - loss: 0.1777 - acc: 0.9330\n",
            "Epoch 00036: val_loss did not improve from 0.18504\n",
            "860/859 [==============================] - 13s 15ms/step - loss: 0.1777 - acc: 0.9330 - val_loss: 0.1931 - val_acc: 0.9310\n",
            "Epoch 37/55\n",
            "856/859 [============================>.] - ETA: 0s - loss: 0.1772 - acc: 0.9334\n",
            "Epoch 00037: val_loss did not improve from 0.18504\n",
            "860/859 [==============================] - 13s 15ms/step - loss: 0.1771 - acc: 0.9334 - val_loss: 0.1945 - val_acc: 0.9316\n",
            "Epoch 38/55\n",
            "857/859 [============================>.] - ETA: 0s - loss: 0.1754 - acc: 0.9340\n",
            "Epoch 00038: val_loss did not improve from 0.18504\n",
            "860/859 [==============================] - 13s 15ms/step - loss: 0.1753 - acc: 0.9340 - val_loss: 0.1922 - val_acc: 0.9316\n",
            "Epoch 39/55\n",
            "857/859 [============================>.] - ETA: 0s - loss: 0.1744 - acc: 0.9342\n",
            "Epoch 00039: val_loss did not improve from 0.18504\n",
            "860/859 [==============================] - 13s 15ms/step - loss: 0.1743 - acc: 0.9343 - val_loss: 0.1909 - val_acc: 0.9346\n",
            "Epoch 40/55\n",
            "856/859 [============================>.] - ETA: 0s - loss: 0.1752 - acc: 0.9336\n",
            "Epoch 00040: val_loss did not improve from 0.18504\n",
            "860/859 [==============================] - 13s 15ms/step - loss: 0.1752 - acc: 0.9336 - val_loss: 0.1892 - val_acc: 0.9326\n",
            "Epoch 41/55\n",
            "858/859 [============================>.] - ETA: 0s - loss: 0.1756 - acc: 0.9337\n",
            "Epoch 00041: val_loss did not improve from 0.18504\n",
            "860/859 [==============================] - 13s 15ms/step - loss: 0.1756 - acc: 0.9337 - val_loss: 0.1929 - val_acc: 0.9318\n",
            "Epoch 42/55\n",
            "858/859 [============================>.] - ETA: 0s - loss: 0.1744 - acc: 0.9343\n",
            "Epoch 00042: val_loss did not improve from 0.18504\n",
            "860/859 [==============================] - 13s 15ms/step - loss: 0.1744 - acc: 0.9343 - val_loss: 0.1949 - val_acc: 0.9288\n",
            "Epoch 43/55\n",
            "383/859 [============>.................] - ETA: 7s - loss: 0.1764 - acc: 0.9342"
          ],
          "name": "stdout"
        }
      ]
    },
    {
      "metadata": {
        "id": "LtQuJrHFIynV",
        "colab_type": "text"
      },
      "cell_type": "markdown",
      "source": [
        "# Save trained model"
      ]
    },
    {
      "metadata": {
        "id": "CMEoDs-LCE6J",
        "colab_type": "code",
        "colab": {}
      },
      "cell_type": "code",
      "source": [
        "!pip install -U -q PyDrive\n",
        "from pydrive.auth import GoogleAuth\n",
        "from pydrive.drive import GoogleDrive\n",
        "from google.colab import auth\n",
        "from oauth2client.client import GoogleCredentials\n",
        "\n",
        "# 1. Authenticate and create the PyDrive client.\n",
        "auth.authenticate_user()\n",
        "gauth = GoogleAuth()\n",
        "gauth.credentials = GoogleCredentials.get_application_default()\n",
        "drive = GoogleDrive(gauth)\n",
        "\n"
      ],
      "execution_count": 0,
      "outputs": []
    },
    {
      "metadata": {
        "id": "ooWlvpjkGi4E",
        "colab_type": "code",
        "outputId": "0a28bec9-0d25-457b-93aa-0d9452c11467",
        "colab": {
          "base_uri": "https://localhost:8080/",
          "height": 34
        }
      },
      "cell_type": "code",
      "source": [
        "#load best weight, cnn arch_diagram and save to drive\n",
        "model.load_weights('model.weights.best.hdf5')\n",
        "model.save('fashion_mnist_trained.h5')\n",
        "model_file = drive.CreateFile({'title' : 'fashion_mnist_trained.h5'})\n",
        "arch_diagram = drive.CreateFile({'title' : 'fashionNET.png'})\n",
        "model_file.SetContentFile('fashion_mnist_trained.h5')\n",
        "arch_diagram.SetContentFile('model.png')\n",
        "model_file.Upload()\n",
        "arch_diagram.Upload()\n",
        "\n",
        "# download to google drive\n",
        "drive.CreateFile({'id': model_file.get('id')})"
      ],
      "execution_count": 27,
      "outputs": [
        {
          "output_type": "execute_result",
          "data": {
            "text/plain": [
              "GoogleDriveFile({'id': '1CyYool0iKKbc4oGKTMEoRVtiHJrY8qoB'})"
            ]
          },
          "metadata": {
            "tags": []
          },
          "execution_count": 27
        }
      ]
    },
    {
      "metadata": {
        "id": "9JEr6kgSwO3B",
        "colab_type": "text"
      },
      "cell_type": "markdown",
      "source": [
        "# Predict values"
      ]
    },
    {
      "metadata": {
        "id": "shSbqIrFwQ0S",
        "colab_type": "code",
        "outputId": "88830b44-899d-4120-b213-b5a54c4e4488",
        "colab": {
          "base_uri": "https://localhost:8080/",
          "height": 481
        }
      },
      "cell_type": "code",
      "source": [
        "model.load_weights('model.weights.best.hdf5')\n",
        "y_hat = model.predict(x_test)\n",
        "\n",
        "# Plot a random sample of 10 test images, their predicted labels and ground truth\n",
        "figure = plt.figure(figsize=(20, 8))\n",
        "for i, index in enumerate(np.random.choice(x_test.shape[0], size=15, replace=False)):\n",
        "    ax = figure.add_subplot(3, 5, i + 1, xticks=[], yticks=[])\n",
        "    # Display each image\n",
        "    ax.imshow(np.squeeze(x_test[index]))\n",
        "    predict_index = np.argmax(y_hat[index])\n",
        "    true_index = np.argmax(y_test[index])\n",
        "    # Set the title for each image\n",
        "    ax.set_title(\"{} ({})\".format(fashion_mnist_labels[predict_index], \n",
        "                                  fashion_mnist_labels[true_index]),\n",
        "                                  color=(\"green\" if predict_index == true_index else \"red\"))"
      ],
      "execution_count": 13,
      "outputs": [
        {
          "output_type": "display_data",
          "data": {
            "image/png": "[encoded data removed]",
            "text/plain": [
              "<matplotlib.figure.Figure at 0x7ff2d8623a90>"
            ]
          },
          "metadata": {
            "tags": []
          }
        }
      ]
    },
    {
      "metadata": {
        "id": "ax4as_pbwR2q",
        "colab_type": "code",
        "outputId": "af1831be-39ff-47fd-9c69-a4df8f17e5e6",
        "colab": {
          "base_uri": "https://localhost:8080/",
          "height": 52
        }
      },
      "cell_type": "code",
      "source": [
        "model.load_weights('model.weights.best.hdf5')\n",
        "score = model.evaluate(x_test, y_test, verbose=0)\n",
        "print('Test loss:', score[0])\n",
        "print('Test accuracy:', score[1])"
      ],
      "execution_count": 14,
      "outputs": [
        {
          "output_type": "stream",
          "text": [
            "Test loss: 0.22245669170022012\n",
            "Test accuracy: 0.9202\n"
          ],
          "name": "stdout"
        }
      ]
    },
    {
      "metadata": {
        "id": "3hSivRLefwsh",
        "colab_type": "code",
        "colab": {}
      },
      "cell_type": "code",
      "source": [
        ""
      ],
      "execution_count": 0,
      "outputs": []
    }
  ]
}