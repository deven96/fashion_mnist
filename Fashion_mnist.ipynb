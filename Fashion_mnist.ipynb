{
  "nbformat": 4,
  "nbformat_minor": 0,
  "metadata": {
    "colab": {
      "name": "Fashion_mnist.ipynb",
      "version": "0.3.2",
      "provenance": [],
      "include_colab_link": true
    },
    "kernelspec": {
      "name": "python3",
      "display_name": "Python 3"
    },
    "accelerator": "GPU"
  },
  "cells": [
    {
      "cell_type": "markdown",
      "metadata": {
        "id": "view-in-github",
        "colab_type": "text"
      },
      "source": [
        "<a href=\"https://colab.research.google.com/github/deven96/fashion_mnist/blob/master/Fashion_mnist.ipynb\" target=\"_parent\"><img src=\"https://colab.research.google.com/assets/colab-badge.svg\" alt=\"Open In Colab\"/></a>"
      ]
    },
    {
      "metadata": {
        "id": "M2s8jV-TD2Ze",
        "colab_type": "text"
      },
      "cell_type": "markdown",
      "source": [
        "# Imports"
      ]
    },
    {
      "metadata": {
        "id": "eKTzQamlCHJM",
        "colab_type": "code",
        "outputId": "f0955e21-a03a-4ed4-c91b-cfbb434e2f5d",
        "colab": {
          "base_uri": "https://localhost:8080/",
          "height": 52
        }
      },
      "cell_type": "code",
      "source": [
        "import tensorflow as tf\n",
        "\n",
        "import numpy as np\n",
        "import pandas as pd\n",
        "from keras.utils import plot_model\n",
        "from keras.utils.vis_utils import model_to_dot\n",
        "from IPython.display import SVG\n",
        "import matplotlib.pyplot as plt\n",
        "\n",
        "# Load the fashion-mnist pre-shuffled train data and test data\n",
        "(x_train, y_train), (x_test, y_test) = tf.keras.datasets.fashion_mnist.load_data()\n",
        "\n",
        "print(\"x_train shape:\", x_train.shape, \"y_train shape:\", y_train.shape)"
      ],
      "execution_count": 1,
      "outputs": [
        {
          "output_type": "stream",
          "text": [
            "Using TensorFlow backend.\n"
          ],
          "name": "stderr"
        },
        {
          "output_type": "stream",
          "text": [
            "x_train shape: (60000, 28, 28) y_train shape: (60000,)\n"
          ],
          "name": "stdout"
        }
      ]
    },
    {
      "metadata": {
        "id": "vLN0gC4CDtaY",
        "colab_type": "text"
      },
      "cell_type": "markdown",
      "source": [
        "# Visualizing the data"
      ]
    },
    {
      "metadata": {
        "id": "slktfaNcDyWt",
        "colab_type": "code",
        "outputId": "19a5f7f3-30fe-4815-b919-d569f04a1d81",
        "colab": {
          "base_uri": "https://localhost:8080/",
          "height": 434
        }
      },
      "cell_type": "code",
      "source": [
        "# Print training set shape - note there are 60,000 training data of image size of 28x28, 60,000 train labels)\n",
        "print(\"x_train shape:\", x_train.shape, \"y_train shape:\", y_train.shape)\n",
        "\n",
        "# Print the number of training and test datasets\n",
        "print(x_train.shape[0], 'train set')\n",
        "print(x_test.shape[0], 'test set')\n",
        "\n",
        "# Define the text labels\n",
        "fashion_mnist_labels = [\"T-shirt/top\",  # index 0\n",
        "                        \"Trouser\",      # index 1\n",
        "                        \"Pullover\",     # index 2 \n",
        "                        \"Dress\",        # index 3 \n",
        "                        \"Coat\",         # index 4\n",
        "                        \"Sandal\",       # index 5\n",
        "                        \"Shirt\",        # index 6 \n",
        "                        \"Sneaker\",      # index 7 \n",
        "                        \"Bag\",          # index 8 \n",
        "                        \"Ankle boot\"]   # index 9\n",
        "\n",
        "# Image index, you can pick any number between 0 and 59,999\n",
        "img_index = 90\n",
        "# y_train contains the lables, ranging from 0 to 9\n",
        "label_index = y_train[img_index]\n",
        "# Print the label, for example 2 Pullover\n",
        "print (\"y = \" + str(label_index) + \" \" +(fashion_mnist_labels[label_index]))\n",
        "# # Show one of the images from the training dataset\n",
        "plt.imshow(x_train[img_index])"
      ],
      "execution_count": 2,
      "outputs": [
        {
          "output_type": "stream",
          "text": [
            "x_train shape: (60000, 28, 28) y_train shape: (60000,)\n",
            "60000 train set\n",
            "10000 test set\n",
            "y = 9 Ankle boot\n"
          ],
          "name": "stdout"
        },
        {
          "output_type": "execute_result",
          "data": {
            "text/plain": [
              "<matplotlib.image.AxesImage at 0x7fb4c539f208>"
            ]
          },
          "metadata": {
            "tags": []
          },
          "execution_count": 2
        },
        {
          "output_type": "display_data",
          "data": {
            "image/png": "[encoded data removed]",
            "text/plain": [
              "<matplotlib.figure.Figure at 0x7fb4c5433a90>"
            ]
          },
          "metadata": {
            "tags": []
          }
        }
      ]
    },
    {
      "metadata": {
        "id": "Z_UtEsphEbWL",
        "colab_type": "text"
      },
      "cell_type": "markdown",
      "source": [
        "# Data Normalization"
      ]
    },
    {
      "metadata": {
        "id": "wTBVuww1Eea9",
        "colab_type": "code",
        "colab": {}
      },
      "cell_type": "code",
      "source": [
        "x_train = x_train.astype('float32') / 255\n",
        "x_test = x_test.astype('float32') / 255"
      ],
      "execution_count": 0,
      "outputs": []
    },
    {
      "metadata": {
        "id": "DGI0DLyjEe68",
        "colab_type": "code",
        "outputId": "d2cf0d5b-ee16-46c3-e40e-5cf8f861bc2d",
        "colab": {
          "base_uri": "https://localhost:8080/",
          "height": 52
        }
      },
      "cell_type": "code",
      "source": [
        "print(\"Number of train data - \" + str(len(x_train)))\n",
        "print(\"Number of test data - \" + str(len(x_test)))"
      ],
      "execution_count": 4,
      "outputs": [
        {
          "output_type": "stream",
          "text": [
            "Number of train data - 60000\n",
            "Number of test data - 10000\n"
          ],
          "name": "stdout"
        }
      ]
    },
    {
      "metadata": {
        "id": "s0IgyM_oEif8",
        "colab_type": "code",
        "outputId": "7821b5c3-8835-442e-fb85-e99efc0337c0",
        "colab": {
          "base_uri": "https://localhost:8080/",
          "height": 86
        }
      },
      "cell_type": "code",
      "source": [
        "# Further break training data into train / validation sets (# put 5000 into validation set and keep remaining 55,000 for train)\n",
        "(x_train, x_valid) = x_train[5000:], x_train[:5000] \n",
        "(y_train, y_valid) = y_train[5000:], y_train[:5000]\n",
        "\n",
        "# Reshape input data from (28, 28) to (28, 28, 1)\n",
        "w, h = 28, 28\n",
        "x_train = x_train.reshape(x_train.shape[0], w, h, 1)\n",
        "x_valid = x_valid.reshape(x_valid.shape[0], w, h, 1)\n",
        "x_test = x_test.reshape(x_test.shape[0], w, h, 1)\n",
        "\n",
        "# One-hot encode the labels\n",
        "y_train = tf.keras.utils.to_categorical(y_train, 10)\n",
        "y_valid = tf.keras.utils.to_categorical(y_valid, 10)\n",
        "y_test = tf.keras.utils.to_categorical(y_test, 10)\n",
        "\n",
        "# Print training set shape\n",
        "print(\"x_train shape:\", x_train.shape, \"y_train shape:\", y_train.shape)\n",
        "\n",
        "# Print the number of training, validation, and test datasets\n",
        "print(x_train.shape[0], 'train set')\n",
        "print(x_valid.shape[0], 'validation set')\n",
        "print(x_test.shape[0], 'test set')"
      ],
      "execution_count": 5,
      "outputs": [
        {
          "output_type": "stream",
          "text": [
            "x_train shape: (55000, 28, 28, 1) y_train shape: (55000, 10)\n",
            "55000 train set\n",
            "5000 validation set\n",
            "10000 test set\n"
          ],
          "name": "stdout"
        }
      ]
    },
    {
      "metadata": {
        "id": "rGKbh_jEFR4W",
        "colab_type": "text"
      },
      "cell_type": "markdown",
      "source": [
        "# Model Architecture\n",
        "\n",
        "Tweak CNN parameters to optimize"
      ]
    },
    {
      "metadata": {
        "id": "6ngkgCOqFUuX",
        "colab_type": "code",
        "outputId": "905bda1d-379c-4863-a074-0cbe94988730",
        "colab": {
          "base_uri": "https://localhost:8080/",
          "height": 590
        }
      },
      "cell_type": "code",
      "source": [
        "     \n",
        "\n",
        "\n",
        "# Model\n",
        "inputs = tf.keras.layers.Input(shape=(28, 28, 1), name=\"input\")\n",
        "# Add convolution 2D\n",
        "x = tf.keras.layers.Conv2D(32, kernel_size=(3, 3),\n",
        "                 activation='relu',\n",
        "                 kernel_initializer='he_normal',\n",
        "                 name=\"conv_1\")(inputs)\n",
        "# skip = tf.keras.layers.Add(name='skip_1')([inputs, x])\n",
        "x = tf.keras.layers.MaxPooling2D((2, 2), name=\"maxpool_1\")(x)\n",
        "x = tf.keras.layers.Dropout(0.25, name=\"dropout_1\")(x)\n",
        "x = tf.keras.layers.Conv2D(64, \n",
        "                 kernel_size=(3, 3), \n",
        "                 activation='relu',\n",
        "                 name=\"conv_2\")(x)\n",
        "x = tf.keras.layers.MaxPooling2D((2, 2), name=\"maxpool_2\")(x)\n",
        "x = tf.keras.layers.Dropout(0.25, name=\"dropout_2\")(x)\n",
        "x = tf.keras.layers.Conv2D(128,\n",
        "                 kernel_size=(3, 3), \n",
        "                 activation='relu',\n",
        "                 name=\"conv_3\")(x)\n",
        "x = tf.keras.layers.Dropout(0.5, name=\"dropout_3\")(x)\n",
        "x = tf.keras.layers.Flatten(name=\"vector_3\")(x)\n",
        "x = tf.keras.layers.Dense(128, activation='relu', name=\"fc_4\")(x)\n",
        "x = tf.keras.layers.Dropout(0.3, name=\"dropout_4\")(x)\n",
        "predictions = tf.keras.layers.Dense(10, activation='softmax', name='fc_output')(x)\n",
        "\n",
        "# Take a look at the model summary\n",
        "\n",
        "model = tf.keras.models.Model(inputs=inputs, outputs=predictions)\n",
        "model.summary()"
      ],
      "execution_count": 34,
      "outputs": [
        {
          "output_type": "stream",
          "text": [
            "_________________________________________________________________\n",
            "Layer (type)                 Output Shape              Param #   \n",
            "=================================================================\n",
            "input (InputLayer)           (None, 28, 28, 1)         0         \n",
            "_________________________________________________________________\n",
            "conv_1 (Conv2D)              (None, 26, 26, 32)        320       \n",
            "_________________________________________________________________\n",
            "maxpool_1 (MaxPooling2D)     (None, 13, 13, 32)        0         \n",
            "_________________________________________________________________\n",
            "dropout_1 (Dropout)          (None, 13, 13, 32)        0         \n",
            "_________________________________________________________________\n",
            "conv_2 (Conv2D)              (None, 11, 11, 64)        18496     \n",
            "_________________________________________________________________\n",
            "maxpool_2 (MaxPooling2D)     (None, 5, 5, 64)          0         \n",
            "_________________________________________________________________\n",
            "dropout_2 (Dropout)          (None, 5, 5, 64)          0         \n",
            "_________________________________________________________________\n",
            "conv_3 (Conv2D)              (None, 3, 3, 128)         73856     \n",
            "_________________________________________________________________\n",
            "dropout_3 (Dropout)          (None, 3, 3, 128)         0         \n",
            "_________________________________________________________________\n",
            "vector_3 (Flatten)           (None, 1152)              0         \n",
            "_________________________________________________________________\n",
            "fc_4 (Dense)                 (None, 128)               147584    \n",
            "_________________________________________________________________\n",
            "dropout_4 (Dropout)          (None, 128)               0         \n",
            "_________________________________________________________________\n",
            "fc_output (Dense)            (None, 10)                1290      \n",
            "=================================================================\n",
            "Total params: 241,546\n",
            "Trainable params: 241,546\n",
            "Non-trainable params: 0\n",
            "_________________________________________________________________\n"
          ],
          "name": "stdout"
        }
      ]
    },
    {
      "metadata": {
        "id": "K4OC2NMMYIVY",
        "colab_type": "text"
      },
      "cell_type": "markdown",
      "source": [
        "# Plot the model"
      ]
    },
    {
      "metadata": {
        "id": "ohOcQ8LZYMPC",
        "colab_type": "code",
        "outputId": "0ddea287-767a-4635-c6aa-d37eb9d75a91",
        "colab": {
          "base_uri": "https://localhost:8080/",
          "height": 1249
        }
      },
      "cell_type": "code",
      "source": [
        "plot_model(model, to_file='model.png')\n",
        "SVG(model_to_dot(model).create(prog='dot', format='svg'))"
      ],
      "execution_count": 23,
      "outputs": [
        {
          "output_type": "execute_result",
          "data": {
            "text/plain": [
              "<IPython.core.display.SVG object>"
            ],
            "image/svg+xml": "<svg height=\"921pt\" viewBox=\"0.00 0.00 188.00 921.00\" width=\"188pt\" xmlns=\"http://www.w3.org/2000/svg\" xmlns:xlink=\"http://www.w3.org/1999/xlink\">\n<g class=\"graph\" id=\"graph0\" transform=\"scale(1 1) rotate(0) translate(4 917)\">\n<title>G</title>\n<polygon fill=\"#ffffff\" points=\"-4,4 -4,-917 184,-917 184,4 -4,4\" stroke=\"transparent\"/>\n<!-- 140414327118872 -->\n<g class=\"node\" id=\"node1\">\n<title>140414327118872</title>\n<polygon fill=\"none\" points=\"31,-876.5 31,-912.5 149,-912.5 149,-876.5 31,-876.5\" stroke=\"#000000\"/>\n<text fill=\"#000000\" font-family=\"Times,serif\" font-size=\"14.00\" text-anchor=\"middle\" x=\"90\" y=\"-890.8\">input: InputLayer</text>\n</g>\n<!-- 140414327118816 -->\n<g class=\"node\" id=\"node2\">\n<title>140414327118816</title>\n<polygon fill=\"none\" points=\"31,-803.5 31,-839.5 149,-839.5 149,-803.5 31,-803.5\" stroke=\"#000000\"/>\n<text fill=\"#000000\" font-family=\"Times,serif\" font-size=\"14.00\" text-anchor=\"middle\" x=\"90\" y=\"-817.8\">conv_1: Conv2D</text>\n</g>\n<!-- 140414327118872&#45;&gt;140414327118816 -->\n<g class=\"edge\" id=\"edge1\">\n<title>140414327118872-&gt;140414327118816</title>\n<path d=\"M90,-876.4551C90,-868.3828 90,-858.6764 90,-849.6817\" fill=\"none\" stroke=\"#000000\"/>\n<polygon fill=\"#000000\" points=\"93.5001,-849.5903 90,-839.5904 86.5001,-849.5904 93.5001,-849.5903\" stroke=\"#000000\"/>\n</g>\n<!-- 140414327119488 -->\n<g class=\"node\" id=\"node3\">\n<title>140414327119488</title>\n<polygon fill=\"none\" points=\"0,-730.5 0,-766.5 180,-766.5 180,-730.5 0,-730.5\" stroke=\"#000000\"/>\n<text fill=\"#000000\" font-family=\"Times,serif\" font-size=\"14.00\" text-anchor=\"middle\" x=\"90\" y=\"-744.8\">maxpool_1: MaxPooling2D</text>\n</g>\n<!-- 140414327118816&#45;&gt;140414327119488 -->\n<g class=\"edge\" id=\"edge2\">\n<title>140414327118816-&gt;140414327119488</title>\n<path d=\"M90,-803.4551C90,-795.3828 90,-785.6764 90,-776.6817\" fill=\"none\" stroke=\"#000000\"/>\n<polygon fill=\"#000000\" points=\"93.5001,-776.5903 90,-766.5904 86.5001,-776.5904 93.5001,-776.5903\" stroke=\"#000000\"/>\n</g>\n<!-- 140414326289240 -->\n<g class=\"node\" id=\"node4\">\n<title>140414326289240</title>\n<polygon fill=\"none\" points=\"23,-657.5 23,-693.5 157,-693.5 157,-657.5 23,-657.5\" stroke=\"#000000\"/>\n<text fill=\"#000000\" font-family=\"Times,serif\" font-size=\"14.00\" text-anchor=\"middle\" x=\"90\" y=\"-671.8\">dropout_1: Dropout</text>\n</g>\n<!-- 140414327119488&#45;&gt;140414326289240 -->\n<g class=\"edge\" id=\"edge3\">\n<title>140414327119488-&gt;140414326289240</title>\n<path d=\"M90,-730.4551C90,-722.3828 90,-712.6764 90,-703.6817\" fill=\"none\" stroke=\"#000000\"/>\n<polygon fill=\"#000000\" points=\"93.5001,-703.5903 90,-693.5904 86.5001,-703.5904 93.5001,-703.5903\" stroke=\"#000000\"/>\n</g>\n<!-- 140414326289296 -->\n<g class=\"node\" id=\"node5\">\n<title>140414326289296</title>\n<polygon fill=\"none\" points=\"31,-584.5 31,-620.5 149,-620.5 149,-584.5 31,-584.5\" stroke=\"#000000\"/>\n<text fill=\"#000000\" font-family=\"Times,serif\" font-size=\"14.00\" text-anchor=\"middle\" x=\"90\" y=\"-598.8\">conv_2: Conv2D</text>\n</g>\n<!-- 140414326289240&#45;&gt;140414326289296 -->\n<g class=\"edge\" id=\"edge4\">\n<title>140414326289240-&gt;140414326289296</title>\n<path d=\"M90,-657.4551C90,-649.3828 90,-639.6764 90,-630.6817\" fill=\"none\" stroke=\"#000000\"/>\n<polygon fill=\"#000000\" points=\"93.5001,-630.5903 90,-620.5904 86.5001,-630.5904 93.5001,-630.5903\" stroke=\"#000000\"/>\n</g>\n<!-- 140414318535568 -->\n<g class=\"node\" id=\"node6\">\n<title>140414318535568</title>\n<polygon fill=\"none\" points=\"0,-511.5 0,-547.5 180,-547.5 180,-511.5 0,-511.5\" stroke=\"#000000\"/>\n<text fill=\"#000000\" font-family=\"Times,serif\" font-size=\"14.00\" text-anchor=\"middle\" x=\"90\" y=\"-525.8\">maxpool_2: MaxPooling2D</text>\n</g>\n<!-- 140414326289296&#45;&gt;140414318535568 -->\n<g class=\"edge\" id=\"edge5\">\n<title>140414326289296-&gt;140414318535568</title>\n<path d=\"M90,-584.4551C90,-576.3828 90,-566.6764 90,-557.6817\" fill=\"none\" stroke=\"#000000\"/>\n<polygon fill=\"#000000\" points=\"93.5001,-557.5903 90,-547.5904 86.5001,-557.5904 93.5001,-557.5903\" stroke=\"#000000\"/>\n</g>\n<!-- 140414326947680 -->\n<g class=\"node\" id=\"node7\">\n<title>140414326947680</title>\n<polygon fill=\"none\" points=\"23,-438.5 23,-474.5 157,-474.5 157,-438.5 23,-438.5\" stroke=\"#000000\"/>\n<text fill=\"#000000\" font-family=\"Times,serif\" font-size=\"14.00\" text-anchor=\"middle\" x=\"90\" y=\"-452.8\">dropout_2: Dropout</text>\n</g>\n<!-- 140414318535568&#45;&gt;140414326947680 -->\n<g class=\"edge\" id=\"edge6\">\n<title>140414318535568-&gt;140414326947680</title>\n<path d=\"M90,-511.4551C90,-503.3828 90,-493.6764 90,-484.6817\" fill=\"none\" stroke=\"#000000\"/>\n<polygon fill=\"#000000\" points=\"93.5001,-484.5903 90,-474.5904 86.5001,-484.5904 93.5001,-484.5903\" stroke=\"#000000\"/>\n</g>\n<!-- 140414326999808 -->\n<g class=\"node\" id=\"node8\">\n<title>140414326999808</title>\n<polygon fill=\"none\" points=\"31,-365.5 31,-401.5 149,-401.5 149,-365.5 31,-365.5\" stroke=\"#000000\"/>\n<text fill=\"#000000\" font-family=\"Times,serif\" font-size=\"14.00\" text-anchor=\"middle\" x=\"90\" y=\"-379.8\">conv_3: Conv2D</text>\n</g>\n<!-- 140414326947680&#45;&gt;140414326999808 -->\n<g class=\"edge\" id=\"edge7\">\n<title>140414326947680-&gt;140414326999808</title>\n<path d=\"M90,-438.4551C90,-430.3828 90,-420.6764 90,-411.6817\" fill=\"none\" stroke=\"#000000\"/>\n<polygon fill=\"#000000\" points=\"93.5001,-411.5903 90,-401.5904 86.5001,-411.5904 93.5001,-411.5903\" stroke=\"#000000\"/>\n</g>\n<!-- 140414319695632 -->\n<g class=\"node\" id=\"node9\">\n<title>140414319695632</title>\n<polygon fill=\"none\" points=\"23,-292.5 23,-328.5 157,-328.5 157,-292.5 23,-292.5\" stroke=\"#000000\"/>\n<text fill=\"#000000\" font-family=\"Times,serif\" font-size=\"14.00\" text-anchor=\"middle\" x=\"90\" y=\"-306.8\">dropout_3: Dropout</text>\n</g>\n<!-- 140414326999808&#45;&gt;140414319695632 -->\n<g class=\"edge\" id=\"edge8\">\n<title>140414326999808-&gt;140414319695632</title>\n<path d=\"M90,-365.4551C90,-357.3828 90,-347.6764 90,-338.6817\" fill=\"none\" stroke=\"#000000\"/>\n<polygon fill=\"#000000\" points=\"93.5001,-338.5903 90,-328.5904 86.5001,-338.5904 93.5001,-338.5903\" stroke=\"#000000\"/>\n</g>\n<!-- 140414319654560 -->\n<g class=\"node\" id=\"node10\">\n<title>140414319654560</title>\n<polygon fill=\"none\" points=\"33.5,-219.5 33.5,-255.5 146.5,-255.5 146.5,-219.5 33.5,-219.5\" stroke=\"#000000\"/>\n<text fill=\"#000000\" font-family=\"Times,serif\" font-size=\"14.00\" text-anchor=\"middle\" x=\"90\" y=\"-233.8\">vector_3: Flatten</text>\n</g>\n<!-- 140414319695632&#45;&gt;140414319654560 -->\n<g class=\"edge\" id=\"edge9\">\n<title>140414319695632-&gt;140414319654560</title>\n<path d=\"M90,-292.4551C90,-284.3828 90,-274.6764 90,-265.6817\" fill=\"none\" stroke=\"#000000\"/>\n<polygon fill=\"#000000\" points=\"93.5001,-265.5903 90,-255.5904 86.5001,-265.5904 93.5001,-265.5903\" stroke=\"#000000\"/>\n</g>\n<!-- 140414319654840 -->\n<g class=\"node\" id=\"node11\">\n<title>140414319654840</title>\n<polygon fill=\"none\" points=\"47.5,-146.5 47.5,-182.5 132.5,-182.5 132.5,-146.5 47.5,-146.5\" stroke=\"#000000\"/>\n<text fill=\"#000000\" font-family=\"Times,serif\" font-size=\"14.00\" text-anchor=\"middle\" x=\"90\" y=\"-160.8\">fc_4: Dense</text>\n</g>\n<!-- 140414319654560&#45;&gt;140414319654840 -->\n<g class=\"edge\" id=\"edge10\">\n<title>140414319654560-&gt;140414319654840</title>\n<path d=\"M90,-219.4551C90,-211.3828 90,-201.6764 90,-192.6817\" fill=\"none\" stroke=\"#000000\"/>\n<polygon fill=\"#000000\" points=\"93.5001,-192.5903 90,-182.5904 86.5001,-192.5904 93.5001,-192.5903\" stroke=\"#000000\"/>\n</g>\n<!-- 140414319653328 -->\n<g class=\"node\" id=\"node12\">\n<title>140414319653328</title>\n<polygon fill=\"none\" points=\"23,-73.5 23,-109.5 157,-109.5 157,-73.5 23,-73.5\" stroke=\"#000000\"/>\n<text fill=\"#000000\" font-family=\"Times,serif\" font-size=\"14.00\" text-anchor=\"middle\" x=\"90\" y=\"-87.8\">dropout_4: Dropout</text>\n</g>\n<!-- 140414319654840&#45;&gt;140414319653328 -->\n<g class=\"edge\" id=\"edge11\">\n<title>140414319654840-&gt;140414319653328</title>\n<path d=\"M90,-146.4551C90,-138.3828 90,-128.6764 90,-119.6817\" fill=\"none\" stroke=\"#000000\"/>\n<polygon fill=\"#000000\" points=\"93.5001,-119.5903 90,-109.5904 86.5001,-119.5904 93.5001,-119.5903\" stroke=\"#000000\"/>\n</g>\n<!-- 140414319568936 -->\n<g class=\"node\" id=\"node13\">\n<title>140414319568936</title>\n<polygon fill=\"none\" points=\"32.5,-.5 32.5,-36.5 147.5,-36.5 147.5,-.5 32.5,-.5\" stroke=\"#000000\"/>\n<text fill=\"#000000\" font-family=\"Times,serif\" font-size=\"14.00\" text-anchor=\"middle\" x=\"90\" y=\"-14.8\">fc_output: Dense</text>\n</g>\n<!-- 140414319653328&#45;&gt;140414319568936 -->\n<g class=\"edge\" id=\"edge12\">\n<title>140414319653328-&gt;140414319568936</title>\n<path d=\"M90,-73.4551C90,-65.3828 90,-55.6764 90,-46.6817\" fill=\"none\" stroke=\"#000000\"/>\n<polygon fill=\"#000000\" points=\"93.5001,-46.5903 90,-36.5904 86.5001,-46.5904 93.5001,-46.5903\" stroke=\"#000000\"/>\n</g>\n</g>\n</svg>"
          },
          "metadata": {
            "tags": []
          },
          "execution_count": 23
        }
      ]
    },
    {
      "metadata": {
        "id": "MJbhSzR1GGzB",
        "colab_type": "text"
      },
      "cell_type": "markdown",
      "source": [
        "# Compile the model"
      ]
    },
    {
      "metadata": {
        "id": "BL6X9ncyGJEU",
        "colab_type": "code",
        "colab": {}
      },
      "cell_type": "code",
      "source": [
        "model.compile(loss='categorical_crossentropy',\n",
        "             optimizer='adam',\n",
        "             metrics=['accuracy'])"
      ],
      "execution_count": 0,
      "outputs": []
    },
    {
      "metadata": {
        "id": "gtVF2f0RGeSA",
        "colab_type": "text"
      },
      "cell_type": "markdown",
      "source": [
        "# Train the model\n",
        "\n",
        "Using the .fit() API"
      ]
    },
    {
      "metadata": {
        "id": "gW3EUnrBGiVf",
        "colab_type": "code",
        "outputId": "911fcd91-fb03-426f-f337-f4e6b82701a9",
        "colab": {
          "base_uri": "https://localhost:8080/",
          "height": 2431
        }
      },
      "cell_type": "code",
      "source": [
        "from keras.callbacks import ModelCheckpoint\n",
        "\n",
        "checkpointer = ModelCheckpoint(filepath='model.weights.best.hdf5', verbose = 1, save_best_only=True)\n",
        "model.fit(x_train,\n",
        "         y_train,\n",
        "         batch_size=64,\n",
        "         epochs=60,\n",
        "         validation_data=(x_valid, y_valid),\n",
        "         callbacks=[checkpointer])"
      ],
      "execution_count": 0,
      "outputs": [
        {
          "output_type": "stream",
          "text": [
            "Train on 55000 samples, validate on 10000 samples\n",
            "Epoch 1/60\n",
            "54976/55000 [============================>.] - ETA: 0s - loss: 0.6977 - acc: 0.7389\n",
            "Epoch 00001: val_loss improved from inf to 0.44946, saving model to model.weights.best.hdf5\n",
            "55000/55000 [==============================] - 11s 207us/step - loss: 0.6976 - acc: 0.7389 - val_loss: 0.4495 - val_acc: 0.8289\n",
            "Epoch 2/60\n",
            "54912/55000 [============================>.] - ETA: 0s - loss: 0.4485 - acc: 0.8358\n",
            "Epoch 00002: val_loss improved from 0.44946 to 0.34442, saving model to model.weights.best.hdf5\n",
            "55000/55000 [==============================] - 10s 184us/step - loss: 0.4485 - acc: 0.8358 - val_loss: 0.3444 - val_acc: 0.8785\n",
            "Epoch 3/60\n",
            "54720/55000 [============================>.] - ETA: 0s - loss: 0.3862 - acc: 0.8610\n",
            "Epoch 00003: val_loss improved from 0.34442 to 0.31438, saving model to model.weights.best.hdf5\n",
            "55000/55000 [==============================] - 10s 184us/step - loss: 0.3862 - acc: 0.8611 - val_loss: 0.3144 - val_acc: 0.8882\n",
            "Epoch 4/60\n",
            "54912/55000 [============================>.] - ETA: 0s - loss: 0.3532 - acc: 0.8717\n",
            "Epoch 00004: val_loss improved from 0.31438 to 0.29012, saving model to model.weights.best.hdf5\n",
            "55000/55000 [==============================] - 10s 183us/step - loss: 0.3529 - acc: 0.8718 - val_loss: 0.2901 - val_acc: 0.8918\n",
            "Epoch 5/60\n",
            "54784/55000 [============================>.] - ETA: 0s - loss: 0.3307 - acc: 0.8781\n",
            "Epoch 00005: val_loss improved from 0.29012 to 0.28377, saving model to model.weights.best.hdf5\n",
            "55000/55000 [==============================] - 10s 183us/step - loss: 0.3307 - acc: 0.8781 - val_loss: 0.2838 - val_acc: 0.8958\n",
            "Epoch 6/60\n",
            "54912/55000 [============================>.] - ETA: 0s - loss: 0.3180 - acc: 0.8835\n",
            "Epoch 00006: val_loss improved from 0.28377 to 0.27824, saving model to model.weights.best.hdf5\n",
            "55000/55000 [==============================] - 10s 184us/step - loss: 0.3180 - acc: 0.8835 - val_loss: 0.2782 - val_acc: 0.8945\n",
            "Epoch 7/60\n",
            "54784/55000 [============================>.] - ETA: 0s - loss: 0.3045 - acc: 0.8883\n",
            "Epoch 00007: val_loss did not improve from 0.27824\n",
            "55000/55000 [==============================] - 10s 183us/step - loss: 0.3047 - acc: 0.8883 - val_loss: 0.2918 - val_acc: 0.8919\n",
            "Epoch 8/60\n",
            "54912/55000 [============================>.] - ETA: 0s - loss: 0.2930 - acc: 0.8909\n",
            "Epoch 00008: val_loss improved from 0.27824 to 0.26088, saving model to model.weights.best.hdf5\n",
            "55000/55000 [==============================] - 10s 184us/step - loss: 0.2929 - acc: 0.8909 - val_loss: 0.2609 - val_acc: 0.9019\n",
            "Epoch 9/60\n",
            "54976/55000 [============================>.] - ETA: 0s - loss: 0.2863 - acc: 0.8951\n",
            "Epoch 00009: val_loss did not improve from 0.26088\n",
            "55000/55000 [==============================] - 10s 183us/step - loss: 0.2863 - acc: 0.8951 - val_loss: 0.2631 - val_acc: 0.9035\n",
            "Epoch 10/60\n",
            "54976/55000 [============================>.] - ETA: 0s - loss: 0.2814 - acc: 0.8962\n",
            "Epoch 00010: val_loss improved from 0.26088 to 0.25165, saving model to model.weights.best.hdf5\n",
            "55000/55000 [==============================] - 10s 183us/step - loss: 0.2813 - acc: 0.8962 - val_loss: 0.2517 - val_acc: 0.9051\n",
            "Epoch 11/60\n",
            "54912/55000 [============================>.] - ETA: 0s - loss: 0.2749 - acc: 0.8976\n",
            "Epoch 00011: val_loss did not improve from 0.25165\n",
            "55000/55000 [==============================] - 10s 185us/step - loss: 0.2749 - acc: 0.8976 - val_loss: 0.2568 - val_acc: 0.9045\n",
            "Epoch 12/60\n",
            "54912/55000 [============================>.] - ETA: 0s - loss: 0.2744 - acc: 0.8989\n",
            "Epoch 00012: val_loss improved from 0.25165 to 0.24501, saving model to model.weights.best.hdf5\n",
            "55000/55000 [==============================] - 10s 186us/step - loss: 0.2744 - acc: 0.8989 - val_loss: 0.2450 - val_acc: 0.9068\n",
            "Epoch 13/60\n",
            "54976/55000 [============================>.] - ETA: 0s - loss: 0.2668 - acc: 0.9013\n",
            "Epoch 00013: val_loss did not improve from 0.24501\n",
            "55000/55000 [==============================] - 10s 184us/step - loss: 0.2667 - acc: 0.9013 - val_loss: 0.2556 - val_acc: 0.9070\n",
            "Epoch 14/60\n",
            "54784/55000 [============================>.] - ETA: 0s - loss: 0.2674 - acc: 0.9010\n",
            "Epoch 00014: val_loss did not improve from 0.24501\n",
            "55000/55000 [==============================] - 10s 187us/step - loss: 0.2672 - acc: 0.9011 - val_loss: 0.2468 - val_acc: 0.9086\n",
            "Epoch 15/60\n",
            "54720/55000 [============================>.] - ETA: 0s - loss: 0.2598 - acc: 0.9048\n",
            "Epoch 00015: val_loss did not improve from 0.24501\n",
            "55000/55000 [==============================] - 10s 188us/step - loss: 0.2597 - acc: 0.9048 - val_loss: 0.2459 - val_acc: 0.9091\n",
            "Epoch 16/60\n",
            "54784/55000 [============================>.] - ETA: 0s - loss: 0.2567 - acc: 0.9044\n",
            "Epoch 00016: val_loss did not improve from 0.24501\n",
            "55000/55000 [==============================] - 10s 185us/step - loss: 0.2567 - acc: 0.9045 - val_loss: 0.2456 - val_acc: 0.9102\n",
            "Epoch 17/60\n",
            "54784/55000 [============================>.] - ETA: 0s - loss: 0.2554 - acc: 0.9058\n",
            "Epoch 00017: val_loss did not improve from 0.24501\n",
            "55000/55000 [==============================] - 10s 185us/step - loss: 0.2556 - acc: 0.9058 - val_loss: 0.2485 - val_acc: 0.9087\n",
            "Epoch 18/60\n",
            "54976/55000 [============================>.] - ETA: 0s - loss: 0.2523 - acc: 0.9068\n",
            "Epoch 00018: val_loss did not improve from 0.24501\n",
            "55000/55000 [==============================] - 10s 185us/step - loss: 0.2523 - acc: 0.9068 - val_loss: 0.2516 - val_acc: 0.9070\n",
            "Epoch 19/60\n",
            "54912/55000 [============================>.] - ETA: 0s - loss: 0.2520 - acc: 0.9059\n",
            "Epoch 00019: val_loss did not improve from 0.24501\n",
            "55000/55000 [==============================] - 10s 185us/step - loss: 0.2521 - acc: 0.9060 - val_loss: 0.2456 - val_acc: 0.9091\n",
            "Epoch 20/60\n",
            "54848/55000 [============================>.] - ETA: 0s - loss: 0.2469 - acc: 0.9085\n",
            "Epoch 00020: val_loss improved from 0.24501 to 0.24025, saving model to model.weights.best.hdf5\n",
            "55000/55000 [==============================] - 10s 186us/step - loss: 0.2471 - acc: 0.9084 - val_loss: 0.2403 - val_acc: 0.9118\n",
            "Epoch 21/60\n",
            "54912/55000 [============================>.] - ETA: 0s - loss: 0.2459 - acc: 0.9092\n",
            "Epoch 00021: val_loss improved from 0.24025 to 0.23056, saving model to model.weights.best.hdf5\n",
            "55000/55000 [==============================] - 10s 185us/step - loss: 0.2457 - acc: 0.9093 - val_loss: 0.2306 - val_acc: 0.9130\n",
            "Epoch 22/60\n",
            "54976/55000 [============================>.] - ETA: 0s - loss: 0.2463 - acc: 0.9092\n",
            "Epoch 00022: val_loss did not improve from 0.23056\n",
            "55000/55000 [==============================] - 10s 184us/step - loss: 0.2463 - acc: 0.9093 - val_loss: 0.2334 - val_acc: 0.9148\n",
            "Epoch 23/60\n",
            "54848/55000 [============================>.] - ETA: 0s - loss: 0.2415 - acc: 0.9097\n",
            "Epoch 00023: val_loss did not improve from 0.23056\n",
            "55000/55000 [==============================] - 10s 184us/step - loss: 0.2417 - acc: 0.9097 - val_loss: 0.2402 - val_acc: 0.9116\n",
            "Epoch 24/60\n",
            "54912/55000 [============================>.] - ETA: 0s - loss: 0.2405 - acc: 0.9089\n",
            "Epoch 00024: val_loss did not improve from 0.23056\n",
            "55000/55000 [==============================] - 10s 185us/step - loss: 0.2404 - acc: 0.9090 - val_loss: 0.2369 - val_acc: 0.9090\n",
            "Epoch 25/60\n",
            "54976/55000 [============================>.] - ETA: 0s - loss: 0.2385 - acc: 0.9116\n",
            "Epoch 00025: val_loss did not improve from 0.23056\n",
            "55000/55000 [==============================] - 10s 185us/step - loss: 0.2385 - acc: 0.9115 - val_loss: 0.2367 - val_acc: 0.9113\n",
            "Epoch 26/60\n",
            "54976/55000 [============================>.] - ETA: 0s - loss: 0.2392 - acc: 0.9109\n",
            "Epoch 00026: val_loss did not improve from 0.23056\n",
            "55000/55000 [==============================] - 10s 185us/step - loss: 0.2393 - acc: 0.9109 - val_loss: 0.2437 - val_acc: 0.9102\n",
            "Epoch 27/60\n",
            "54976/55000 [============================>.] - ETA: 0s - loss: 0.2345 - acc: 0.9117\n",
            "Epoch 00027: val_loss did not improve from 0.23056\n",
            "55000/55000 [==============================] - 10s 185us/step - loss: 0.2346 - acc: 0.9117 - val_loss: 0.2337 - val_acc: 0.9144\n",
            "Epoch 28/60\n",
            "54848/55000 [============================>.] - ETA: 0s - loss: 0.2335 - acc: 0.9146\n",
            "Epoch 00028: val_loss did not improve from 0.23056\n",
            "55000/55000 [==============================] - 10s 185us/step - loss: 0.2336 - acc: 0.9146 - val_loss: 0.2328 - val_acc: 0.9138\n",
            "Epoch 29/60\n",
            "54848/55000 [============================>.] - ETA: 0s - loss: 0.2338 - acc: 0.9133\n",
            "Epoch 00029: val_loss did not improve from 0.23056\n",
            "55000/55000 [==============================] - 10s 185us/step - loss: 0.2336 - acc: 0.9134 - val_loss: 0.2329 - val_acc: 0.9159\n",
            "Epoch 30/60\n",
            "54848/55000 [============================>.] - ETA: 0s - loss: 0.2363 - acc: 0.9126\n",
            "Epoch 00030: val_loss did not improve from 0.23056\n",
            "55000/55000 [==============================] - 10s 186us/step - loss: 0.2362 - acc: 0.9125 - val_loss: 0.2382 - val_acc: 0.9107\n",
            "Epoch 31/60\n",
            "54784/55000 [============================>.] - ETA: 0s - loss: 0.2284 - acc: 0.9162\n",
            "Epoch 00031: val_loss did not improve from 0.23056\n",
            "55000/55000 [==============================] - 10s 189us/step - loss: 0.2283 - acc: 0.9162 - val_loss: 0.2417 - val_acc: 0.9107\n",
            "Epoch 32/60\n",
            "54784/55000 [============================>.] - ETA: 0s - loss: 0.2276 - acc: 0.9156\n",
            "Epoch 00032: val_loss improved from 0.23056 to 0.22858, saving model to model.weights.best.hdf5\n",
            "55000/55000 [==============================] - 10s 185us/step - loss: 0.2276 - acc: 0.9156 - val_loss: 0.2286 - val_acc: 0.9165\n",
            "Epoch 33/60\n",
            "54912/55000 [============================>.] - ETA: 0s - loss: 0.2290 - acc: 0.9147\n",
            "Epoch 00033: val_loss did not improve from 0.22858\n",
            "55000/55000 [==============================] - 10s 185us/step - loss: 0.2288 - acc: 0.9147 - val_loss: 0.2333 - val_acc: 0.9153\n",
            "Epoch 34/60\n",
            "54976/55000 [============================>.] - ETA: 0s - loss: 0.2287 - acc: 0.9151\n",
            "Epoch 00034: val_loss did not improve from 0.22858\n",
            "55000/55000 [==============================] - 10s 186us/step - loss: 0.2287 - acc: 0.9151 - val_loss: 0.2325 - val_acc: 0.9154\n",
            "Epoch 35/60\n",
            "16192/55000 [=======>......................] - ETA: 6s - loss: 0.2158 - acc: 0.9203"
          ],
          "name": "stdout"
        }
      ]
    },
    {
      "metadata": {
        "id": "LtQuJrHFIynV",
        "colab_type": "text"
      },
      "cell_type": "markdown",
      "source": [
        "# Save trained model"
      ]
    },
    {
      "metadata": {
        "id": "CMEoDs-LCE6J",
        "colab_type": "code",
        "colab": {}
      },
      "cell_type": "code",
      "source": [
        "!pip install -U -q PyDrive\n",
        "from pydrive.auth import GoogleAuth\n",
        "from pydrive.drive import GoogleDrive\n",
        "from google.colab import auth\n",
        "from oauth2client.client import GoogleCredentials\n",
        "\n",
        "# 1. Authenticate and create the PyDrive client.\n",
        "auth.authenticate_user()\n",
        "gauth = GoogleAuth()\n",
        "gauth.credentials = GoogleCredentials.get_application_default()\n",
        "drive = GoogleDrive(gauth)\n",
        "\n"
      ],
      "execution_count": 0,
      "outputs": []
    },
    {
      "metadata": {
        "id": "ooWlvpjkGi4E",
        "colab_type": "code",
        "outputId": "0a28bec9-0d25-457b-93aa-0d9452c11467",
        "colab": {
          "base_uri": "https://localhost:8080/",
          "height": 34
        }
      },
      "cell_type": "code",
      "source": [
        "#load best weight, cnn arch_diagram and save to drive\n",
        "model.load_weights('model.weights.best.hdf5')\n",
        "model.save('fashion_mnist_trained.h5')\n",
        "model_file = drive.CreateFile({'title' : 'fashion_mnist_trained.h5'})\n",
        "arch_diagram = drive.CreateFile({'title' : 'fashionNET.png'})\n",
        "model_file.SetContentFile('fashion_mnist_trained.h5')\n",
        "arch_diagram.SetContentFile('model.png')\n",
        "model_file.Upload()\n",
        "arch_diagram.Upload()\n",
        "\n",
        "# download to google drive\n",
        "drive.CreateFile({'id': model_file.get('id')})"
      ],
      "execution_count": 27,
      "outputs": [
        {
          "output_type": "execute_result",
          "data": {
            "text/plain": [
              "GoogleDriveFile({'id': '1CyYool0iKKbc4oGKTMEoRVtiHJrY8qoB'})"
            ]
          },
          "metadata": {
            "tags": []
          },
          "execution_count": 27
        }
      ]
    },
    {
      "metadata": {
        "id": "9JEr6kgSwO3B",
        "colab_type": "text"
      },
      "cell_type": "markdown",
      "source": [
        "# Predict values"
      ]
    },
    {
      "metadata": {
        "id": "shSbqIrFwQ0S",
        "colab_type": "code",
        "outputId": "5cbfcde5-52dc-4a3f-ea58-4a5fac278888",
        "colab": {
          "base_uri": "https://localhost:8080/",
          "height": 481
        }
      },
      "cell_type": "code",
      "source": [
        "y_hat = model.predict(x_test)\n",
        "\n",
        "# Plot a random sample of 10 test images, their predicted labels and ground truth\n",
        "figure = plt.figure(figsize=(20, 8))\n",
        "for i, index in enumerate(np.random.choice(x_test.shape[0], size=15, replace=False)):\n",
        "    ax = figure.add_subplot(3, 5, i + 1, xticks=[], yticks=[])\n",
        "    # Display each image\n",
        "    ax.imshow(np.squeeze(x_test[index]))\n",
        "    predict_index = np.argmax(y_hat[index])\n",
        "    true_index = np.argmax(y_test[index])\n",
        "    # Set the title for each image\n",
        "    ax.set_title(\"{} ({})\".format(fashion_mnist_labels[predict_index], \n",
        "                                  fashion_mnist_labels[true_index]),\n",
        "                                  color=(\"green\" if predict_index == true_index else \"red\"))"
      ],
      "execution_count": 32,
      "outputs": [
        {
          "output_type": "display_data",
          "data": {
            "image/png": "[encoded data removed]",
            "text/plain": [
              "<matplotlib.figure.Figure at 0x7fb4c21c5978>"
            ]
          },
          "metadata": {
            "tags": []
          }
        }
      ]
    },
    {
      "metadata": {
        "id": "ax4as_pbwR2q",
        "colab_type": "code",
        "outputId": "84a70480-af78-44d6-aa37-6012ca24cc04",
        "colab": {
          "base_uri": "https://localhost:8080/",
          "height": 52
        }
      },
      "cell_type": "code",
      "source": [
        "model.load_weights('model.weights.best.hdf5')\n",
        "score = model.evaluate(x_test, y_test, verbose=0)\n",
        "print('Test loss:', score[0])\n",
        "print('Test accuracy:', score[1])"
      ],
      "execution_count": 33,
      "outputs": [
        {
          "output_type": "stream",
          "text": [
            "Test loss: 0.21355902724266052\n",
            "Test accuracy: 0.9272\n"
          ],
          "name": "stdout"
        }
      ]
    },
    {
      "metadata": {
        "id": "3hSivRLefwsh",
        "colab_type": "code",
        "colab": {}
      },
      "cell_type": "code",
      "source": [
        ""
      ],
      "execution_count": 0,
      "outputs": []
    }
  ]
}